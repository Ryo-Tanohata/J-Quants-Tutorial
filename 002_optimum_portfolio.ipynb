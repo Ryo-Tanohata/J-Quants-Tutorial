{
  "nbformat": 4,
  "nbformat_minor": 0,
  "metadata": {
    "colab": {
      "name": "002_optimum_portfolio.ipynb",
      "provenance": [],
      "collapsed_sections": [],
      "toc_visible": true,
      "include_colab_link": true
    },
    "kernelspec": {
      "name": "python3",
      "display_name": "Python 3"
    },
    "language_info": {
      "name": "python"
    }
  },
  "cells": [
    {
      "cell_type": "markdown",
      "metadata": {
        "id": "view-in-github",
        "colab_type": "text"
      },
      "source": [
        "<a href=\"https://colab.research.google.com/github/Ryo-Tanohata/J-Quants-Tutorial/blob/main/002_optimum_portfolio.ipynb\" target=\"_parent\"><img src=\"https://colab.research.google.com/assets/colab-badge.svg\" alt=\"Open In Colab\"/></a>"
      ]
    },
    {
      "cell_type": "markdown",
      "metadata": {
        "id": "Rxxaetz6HHOq"
      },
      "source": [
        "# はじめに\n",
        "\n",
        "このnotebook では[CVXOPT]を使ってポートフォリオの配分を最適化します。\n",
        "\n",
        "\n",
        "[CVXOPT]: https://cvxopt.org/"
      ]
    },
    {
      "cell_type": "code",
      "metadata": {
        "colab": {
          "base_uri": "https://localhost:8080/",
          "height": 17
        },
        "id": "fhdN__sbRD32",
        "outputId": "83da906b-3deb-4de8-ad6e-0fdd06f2200d"
      },
      "source": [
        "%%HTML\n",
        "<style>\n",
        "    div#notebook-container    { width: 100%; }\n",
        "    div#menubar-container     { width: 65%; }\n",
        "    div#maintoolbar-container { width: 99%; }\n",
        "</style>"
      ],
      "execution_count": null,
      "outputs": [
        {
          "output_type": "display_data",
          "data": {
            "text/html": [
              "<style>\n",
              "    div#notebook-container    { width: 100%; }\n",
              "    div#menubar-container     { width: 65%; }\n",
              "    div#maintoolbar-container { width: 99%; }\n",
              "</style>"
            ],
            "text/plain": [
              "<IPython.core.display.HTML object>"
            ]
          },
          "metadata": {
            "tags": []
          }
        }
      ]
    },
    {
      "cell_type": "markdown",
      "metadata": {
        "id": "3-mmgHYy5NsP"
      },
      "source": [
        "##データの取得"
      ]
    },
    {
      "cell_type": "code",
      "metadata": {
        "colab": {
          "base_uri": "https://localhost:8080/"
        },
        "id": "uvS75Ku0Eirp",
        "outputId": "0491fc0d-ea35-46e2-949d-15697a375f1c"
      },
      "source": [
        "!git clone https://github.com/JapanExchangeGroup/J-Quants-Tutorial.git"
      ],
      "execution_count": 1,
      "outputs": [
        {
          "output_type": "stream",
          "text": [
            "Cloning into 'J-Quants-Tutorial'...\n",
            "remote: Enumerating objects: 2796, done.\u001b[K\n",
            "remote: Counting objects: 100% (179/179), done.\u001b[K\n",
            "remote: Compressing objects: 100% (116/116), done.\u001b[K\n",
            "remote: Total 2796 (delta 58), reused 131 (delta 39), pack-reused 2617\u001b[K\n",
            "Receiving objects: 100% (2796/2796), 141.37 MiB | 28.00 MiB/s, done.\n",
            "Resolving deltas: 100% (518/518), done.\n",
            "Checking out files: 100% (2016/2016), done.\n"
          ],
          "name": "stdout"
        }
      ]
    },
    {
      "cell_type": "code",
      "metadata": {
        "colab": {
          "base_uri": "https://localhost:8080/"
        },
        "id": "NbdAGiKV5NsQ",
        "outputId": "7106541a-81a6-4b73-f6a9-976beaf241a8"
      },
      "source": [
        "#signate.jsonをGoogle Drive からひっぱってくるやつ\n",
        "from googleapiclient.discovery import build\n",
        "import io, os\n",
        "from googleapiclient.http import MediaIoBaseDownload\n",
        "from google.colab import auth\n",
        " \n",
        "auth.authenticate_user()\n",
        " \n",
        "drive_service = build('drive', 'v3')\n",
        "results = drive_service.files().list(\n",
        "        q=\"name = 'signate.json'\", fields=\"files(id)\").execute()\n",
        "signate_api_key = results.get('files', [])\n",
        " \n",
        "filename = \"/root/.signate/signate.json\"\n",
        "os.makedirs(os.path.dirname(filename), exist_ok=True)\n",
        " \n",
        "request = drive_service.files().get_media(fileId=signate_api_key[0]['id'])\n",
        "fh = io.FileIO(filename, 'wb')\n",
        "downloader = MediaIoBaseDownload(fh, request)\n",
        "done = False\n",
        "while done is False:\n",
        "    status, done = downloader.next_chunk()\n",
        "    print(\"Download %d%%.\" % int(status.progress() * 100))\n",
        "os.chmod(filename, 600)"
      ],
      "execution_count": 2,
      "outputs": [
        {
          "output_type": "stream",
          "text": [
            "Download 100%.\n"
          ],
          "name": "stdout"
        }
      ]
    },
    {
      "cell_type": "code",
      "metadata": {
        "colab": {
          "base_uri": "https://localhost:8080/"
        },
        "id": "VrVsl9bT5NsQ",
        "outputId": "aefd50d0-7357-4346-f6d3-1dc04ddeb2f8"
      },
      "source": [
        "!pip install -q signate"
      ],
      "execution_count": 3,
      "outputs": [
        {
          "output_type": "stream",
          "text": [
            "\u001b[?25l\r\u001b[K     |██▏                             | 10kB 19.6MB/s eta 0:00:01\r\u001b[K     |████▎                           | 20kB 16.6MB/s eta 0:00:01\r\u001b[K     |██████▍                         | 30kB 12.6MB/s eta 0:00:01\r\u001b[K     |████████▌                       | 40kB 12.5MB/s eta 0:00:01\r\u001b[K     |██████████▊                     | 51kB 10.9MB/s eta 0:00:01\r\u001b[K     |████████████▉                   | 61kB 12.1MB/s eta 0:00:01\r\u001b[K     |███████████████                 | 71kB 11.9MB/s eta 0:00:01\r\u001b[K     |█████████████████               | 81kB 11.8MB/s eta 0:00:01\r\u001b[K     |███████████████████▎            | 92kB 12.2MB/s eta 0:00:01\r\u001b[K     |█████████████████████▍          | 102kB 12.0MB/s eta 0:00:01\r\u001b[K     |███████████████████████▌        | 112kB 12.0MB/s eta 0:00:01\r\u001b[K     |█████████████████████████▋      | 122kB 12.0MB/s eta 0:00:01\r\u001b[K     |███████████████████████████▉    | 133kB 12.0MB/s eta 0:00:01\r\u001b[K     |██████████████████████████████  | 143kB 12.0MB/s eta 0:00:01\r\u001b[K     |████████████████████████████████| 153kB 12.0MB/s \n",
            "\u001b[?25h  Building wheel for wget (setup.py) ... \u001b[?25l\u001b[?25hdone\n",
            "\u001b[31mERROR: requests 2.23.0 has requirement urllib3!=1.25.0,!=1.25.1,<1.26,>=1.21.1, but you'll have urllib3 1.26.4 which is incompatible.\u001b[0m\n",
            "\u001b[31mERROR: datascience 0.10.6 has requirement folium==0.2.1, but you'll have folium 0.8.3 which is incompatible.\u001b[0m\n"
          ],
          "name": "stdout"
        }
      ]
    },
    {
      "cell_type": "code",
      "metadata": {
        "colab": {
          "base_uri": "https://localhost:8080/"
        },
        "id": "n7Dsb2t55NsR",
        "outputId": "aa281559-1761-44ed-d476-dd02a00b3b28"
      },
      "source": [
        "!mkdir input\n",
        "!signate download --competition-id=443 --path=\"input\""
      ],
      "execution_count": 4,
      "outputs": [
        {
          "output_type": "stream",
          "text": [
            "purchase_date.csv\n",
            "\n",
            "article.csv.gz\n",
            "\n",
            "region.csv.gz\n",
            "\n",
            "industry.csv.gz\n",
            "\n",
            "industry2.csv.gz\n",
            "\n",
            "theme.csv.gz\n",
            "\n",
            "disclosureItems.csv.gz\n",
            "\n",
            "sample_submit.zip\n",
            "\n",
            "stock_list.csv.gz\n",
            "\n",
            "stock_fin.csv.gz\n",
            "\n",
            "headline_features.zip\n",
            "\n",
            "keywords_features.zip\n",
            "\n",
            "tdnet.csv.gz\n",
            "\n",
            "Chapter02_models.zip\n",
            "\n",
            "nikkei_article.csv.gz\n",
            "\n",
            "stock_labels.csv.gz\n",
            "\n",
            "stock_price.csv.gz\n",
            "\n",
            "stock_fin_price.csv.gz\n",
            "\n",
            "headline_features.pkl\n",
            "\n",
            "keywords_features.pkl\n",
            "\n",
            "\u001b[32m\n",
            "Download completed.\u001b[0m\n"
          ],
          "name": "stdout"
        }
      ]
    },
    {
      "cell_type": "markdown",
      "metadata": {
        "id": "hWvkBD2DVkkg"
      },
      "source": [
        "#コード"
      ]
    },
    {
      "cell_type": "code",
      "metadata": {
        "colab": {
          "base_uri": "https://localhost:8080/"
        },
        "id": "nd6HWLMIRJSh",
        "outputId": "435f527b-fb1b-49ff-bb8d-cb009272dcd2"
      },
      "source": [
        "# Google Colab環境ではGoogle Driveをマウントしてアクセスできるようにします。\n",
        "import sys\n",
        "\n",
        "if 'google.colab' in sys.modules:\n",
        "    # Google Drive をマウントします\n",
        "    from google.colab import drive\n",
        "    mount_dir = \"/content/drive\"\n",
        "    drive.mount(mount_dir)"
      ],
      "execution_count": null,
      "outputs": [
        {
          "output_type": "stream",
          "text": [
            "Mounted at /content/drive\n"
          ],
          "name": "stdout"
        }
      ]
    },
    {
      "cell_type": "code",
      "metadata": {
        "colab": {
          "base_uri": "https://localhost:8080/"
        },
        "id": "aKtAyI4QRMQa",
        "outputId": "a69e8256-5ab3-4bc4-c559-aabfb57e3862"
      },
      "source": [
        "# ライブラリのバージョンを調整します\n",
        "!pip install --no-cache-dir joblib==1.0.1 numpy==1.19.5 pandas==1.1.5 scikit-learn==0.20.3 scipy==1.2.1 seaborn==0.9.0"
      ],
      "execution_count": 5,
      "outputs": [
        {
          "output_type": "stream",
          "text": [
            "Requirement already satisfied: joblib==1.0.1 in /usr/local/lib/python3.7/dist-packages (1.0.1)\n",
            "Requirement already satisfied: numpy==1.19.5 in /usr/local/lib/python3.7/dist-packages (1.19.5)\n",
            "Requirement already satisfied: pandas==1.1.5 in /usr/local/lib/python3.7/dist-packages (1.1.5)\n",
            "Collecting scikit-learn==0.20.3\n",
            "\u001b[?25l  Downloading https://files.pythonhosted.org/packages/aa/cc/a84e1748a2a70d0f3e081f56cefc634f3b57013b16faa6926d3a6f0598df/scikit_learn-0.20.3-cp37-cp37m-manylinux1_x86_64.whl (5.4MB)\n",
            "\u001b[K     |████████████████████████████████| 5.4MB 11.8MB/s \n",
            "\u001b[?25hCollecting scipy==1.2.1\n",
            "\u001b[?25l  Downloading https://files.pythonhosted.org/packages/3e/7e/5cee36eee5b3194687232f6150a89a38f784883c612db7f4da2ab190980d/scipy-1.2.1-cp37-cp37m-manylinux1_x86_64.whl (24.8MB)\n",
            "\u001b[K     |████████████████████████████████| 24.8MB 1.4MB/s \n",
            "\u001b[?25hCollecting seaborn==0.9.0\n",
            "\u001b[?25l  Downloading https://files.pythonhosted.org/packages/a8/76/220ba4420459d9c4c9c9587c6ce607bf56c25b3d3d2de62056efe482dadc/seaborn-0.9.0-py3-none-any.whl (208kB)\n",
            "\u001b[K     |████████████████████████████████| 215kB 48.4MB/s \n",
            "\u001b[?25hRequirement already satisfied: pytz>=2017.2 in /usr/local/lib/python3.7/dist-packages (from pandas==1.1.5) (2018.9)\n",
            "Requirement already satisfied: python-dateutil>=2.7.3 in /usr/local/lib/python3.7/dist-packages (from pandas==1.1.5) (2.8.1)\n",
            "Requirement already satisfied: matplotlib>=1.4.3 in /usr/local/lib/python3.7/dist-packages (from seaborn==0.9.0) (3.2.2)\n",
            "Requirement already satisfied: six>=1.5 in /usr/local/lib/python3.7/dist-packages (from python-dateutil>=2.7.3->pandas==1.1.5) (1.15.0)\n",
            "Requirement already satisfied: pyparsing!=2.0.4,!=2.1.2,!=2.1.6,>=2.0.1 in /usr/local/lib/python3.7/dist-packages (from matplotlib>=1.4.3->seaborn==0.9.0) (2.4.7)\n",
            "Requirement already satisfied: cycler>=0.10 in /usr/local/lib/python3.7/dist-packages (from matplotlib>=1.4.3->seaborn==0.9.0) (0.10.0)\n",
            "Requirement already satisfied: kiwisolver>=1.0.1 in /usr/local/lib/python3.7/dist-packages (from matplotlib>=1.4.3->seaborn==0.9.0) (1.3.1)\n",
            "\u001b[31mERROR: albumentations 0.1.12 has requirement imgaug<0.2.7,>=0.2.5, but you'll have imgaug 0.2.9 which is incompatible.\u001b[0m\n",
            "Installing collected packages: scipy, scikit-learn, seaborn\n",
            "  Found existing installation: scipy 1.4.1\n",
            "    Uninstalling scipy-1.4.1:\n",
            "      Successfully uninstalled scipy-1.4.1\n",
            "  Found existing installation: scikit-learn 0.22.2.post1\n",
            "    Uninstalling scikit-learn-0.22.2.post1:\n",
            "      Successfully uninstalled scikit-learn-0.22.2.post1\n",
            "  Found existing installation: seaborn 0.11.1\n",
            "    Uninstalling seaborn-0.11.1:\n",
            "      Successfully uninstalled seaborn-0.11.1\n",
            "Successfully installed scikit-learn-0.20.3 scipy-1.2.1 seaborn-0.9.0\n"
          ],
          "name": "stdout"
        }
      ]
    },
    {
      "cell_type": "code",
      "metadata": {
        "colab": {
          "base_uri": "https://localhost:8080/"
        },
        "id": "JRQC4H9cRVD8",
        "outputId": "82bc7c18-13f3-449e-aa26-c944d749fbd6"
      },
      "source": [
        "import io\n",
        "import os\n",
        "import sys\n",
        "import zipfile\n",
        "\n",
        "import matplotlib\n",
        "import matplotlib.pyplot as plt\n",
        "import numpy as np\n",
        "import pandas as pd\n",
        "import seaborn as sns\n",
        "from tqdm.auto import tqdm\n",
        "from scipy import stats\n",
        "from IPython.core.magic import register_cell_magic"
      ],
      "execution_count": 6,
      "outputs": [
        {
          "output_type": "stream",
          "text": [
            "/usr/local/lib/python3.7/dist-packages/statsmodels/tools/_testing.py:19: FutureWarning: pandas.util.testing is deprecated. Use the functions in the public API at pandas.testing instead.\n",
            "  import pandas.util.testing as tm\n"
          ],
          "name": "stderr"
        }
      ]
    },
    {
      "cell_type": "markdown",
      "metadata": {
        "id": "6f5DsjdjHTdg"
      },
      "source": [
        "作業ディレクトリを指定します。自分の環境に合わせて適宜設定してください。"
      ]
    },
    {
      "cell_type": "code",
      "metadata": {
        "id": "WtfIB8BBUlgT"
      },
      "source": [
        "PROJECT_DIR = f'{mount_dir}/MyDrive/JPX_competition/sub001'"
      ],
      "execution_count": null,
      "outputs": []
    },
    {
      "cell_type": "code",
      "metadata": {
        "id": "fkQWxFt5WKKJ"
      },
      "source": [
        "module_dir = \"/content/J-Quants-Tutorial/handson/Chapter03/backtest\"\n",
        "sys.path.append(module_dir)\n",
        "\n",
        "from backtest import Backtest"
      ],
      "execution_count": 7,
      "outputs": []
    },
    {
      "cell_type": "code",
      "metadata": {
        "id": "nVMNHgSIRao0"
      },
      "source": [
        "# 表示用の設定を変更します\n",
        "pd.options.display.max_rows = 100\n",
        "pd.options.display.max_columns = 100\n",
        "pd.options.display.width = 120"
      ],
      "execution_count": 8,
      "outputs": []
    },
    {
      "cell_type": "code",
      "metadata": {
        "id": "i3-YnlOuRcm1"
      },
      "source": [
        "# データセットを配置したディレクトリのパスを設定\n",
        "dataset_dir=\"input\""
      ],
      "execution_count": 9,
      "outputs": []
    },
    {
      "cell_type": "code",
      "metadata": {
        "id": "TnED2CfZRezd"
      },
      "source": [
        "# 入力パラメーターを設定します。ランタイム環境での実行時と同一フォーマットにします\n",
        "inputs = {\n",
        "    \"stock_list\": f\"{dataset_dir}/stock_list.csv.gz\",\n",
        "    \"stock_price\": f\"{dataset_dir}/stock_price.csv.gz\",\n",
        "}"
      ],
      "execution_count": 10,
      "outputs": []
    },
    {
      "cell_type": "code",
      "metadata": {
        "id": "6x6v-1xlRiwN"
      },
      "source": [
        "# 投資対象日付を指定します\n",
        "start_dt = pd.Timestamp(\"2020-01-01\")"
      ],
      "execution_count": 11,
      "outputs": []
    },
    {
      "cell_type": "code",
      "metadata": {
        "id": "Kpx7DaLqRlWG"
      },
      "source": [
        "if \"purchase_date\" in inputs.keys():\n",
        "    # ランタイム環境では指定された投資対象日付を使用します\n",
        "    # purchase_dateを読み込み\n",
        "    df_purchase_date = pd.read_csv(inputs[\"purchase_date\"])\n",
        "    # purchase_dateの最も古い日付を投資対象日付として使用します\n",
        "    start_dt = pd.Timestamp(df_purchase_date.sort_values(\"Purchase Date\").iloc[0, 0])"
      ],
      "execution_count": 12,
      "outputs": []
    },
    {
      "cell_type": "code",
      "metadata": {
        "id": "q6Vo8TOuRvU2"
      },
      "source": [
        "# 銘柄情報読み込み\n",
        "df_stock_list = pd.read_csv(inputs[\"stock_list\"])\n",
        "# 問題2のユニバース (投資対象の条件を満たす銘柄群) 取得\n",
        "codes = df_stock_list.loc[\n",
        "    df_stock_list.loc[:, \"universe_comp2\"] == True, \"Local Code\"\n",
        "].unique()"
      ],
      "execution_count": 13,
      "outputs": []
    },
    {
      "cell_type": "code",
      "metadata": {
        "id": "k6Ml3DFZRxQG"
      },
      "source": [
        "# 価格情報読み込み、インデックス作成\n",
        "df_price = pd.read_csv(inputs[\"stock_price\"]).set_index(\"EndOfDayQuote Date\")\n",
        "# 日付型に変換\n",
        "df_price.index = pd.to_datetime(df_price.index, format=\"%Y-%m-%d\")"
      ],
      "execution_count": 14,
      "outputs": []
    },
    {
      "cell_type": "code",
      "metadata": {
        "id": "NXS3Nc18R0Hn"
      },
      "source": [
        "# 投資対象日の前週金曜日時点で予測を出力するため、予測出力用の日付を設定します。\n",
        "pred_start_dt = pd.Timestamp(start_dt) - pd.Timedelta(\"3D\")\n",
        "# 特徴量の生成に必要な日数をバッファとして設定\n",
        "n = 30\n",
        "# データ絞り込み日付設定\n",
        "data_start_dt = pred_start_dt - pd.offsets.BDay(n)\n",
        "# 日付で絞り込み\n",
        "filter_date = df_price.index >= data_start_dt\n",
        "# 銘柄をユニバースで絞り込み\n",
        "filter_universe = df_price.loc[:, \"Local Code\"].isin(codes)\n",
        "# 絞り込み実施\n",
        "df_price = df_price.loc[filter_date & filter_universe]"
      ],
      "execution_count": 15,
      "outputs": []
    },
    {
      "cell_type": "markdown",
      "metadata": {
        "id": "1qST0TlpKq2z"
      },
      "source": [
        "直感的に理解しやすい日付 x 銘柄のテーブルを作ります。"
      ]
    },
    {
      "cell_type": "code",
      "metadata": {
        "id": "DBiHIA3sR6TY"
      },
      "source": [
        "df_per_instruments = pd.pivot_table(df_price, values=['EndOfDayQuote Close'], columns=['Local Code'], index='EndOfDayQuote Date', aggfunc='mean')"
      ],
      "execution_count": 16,
      "outputs": []
    },
    {
      "cell_type": "markdown",
      "metadata": {
        "id": "xbFaRrCz_a5D"
      },
      "source": [
        "扱いにくいmulti index をバラします"
      ]
    },
    {
      "cell_type": "code",
      "metadata": {
        "id": "4u3NLA8IaIM_"
      },
      "source": [
        "df_per_instruments.columns = df_per_instruments.columns.droplevel(level=0)"
      ],
      "execution_count": 17,
      "outputs": []
    },
    {
      "cell_type": "markdown",
      "metadata": {
        "id": "QwQTMp4R-8CY"
      },
      "source": [
        "# 異常値の除外"
      ]
    },
    {
      "cell_type": "markdown",
      "metadata": {
        "id": "l3W8VIx7LLJ3"
      },
      "source": [
        "なぜか 2020-10-01 のデータがすべてゼロになっているので、このレコードを除外します。（おそらくランタイム環境でも外れ値を除外する処理が必要になる）"
      ]
    },
    {
      "cell_type": "code",
      "metadata": {
        "id": "ZOAZ270behnl"
      },
      "source": [
        "# 外れ値（終値が0以下）を除外\n",
        "filter_outlier = df_per_instruments.iloc[:, 0] > 0\n",
        "df_per_instruments = df_per_instruments[filter_outlier]"
      ],
      "execution_count": 18,
      "outputs": []
    },
    {
      "cell_type": "markdown",
      "metadata": {
        "id": "l5DOm2bIGeIe"
      },
      "source": [
        "欠損値を可視化します。"
      ]
    },
    {
      "cell_type": "code",
      "metadata": {
        "colab": {
          "base_uri": "https://localhost:8080/",
          "height": 316
        },
        "id": "noyi6etcEUW9",
        "outputId": "533b0b67-8d4b-4179-8654-a98f8ffeeca0"
      },
      "source": [
        "sns.heatmap(df_per_instruments.isna())"
      ],
      "execution_count": 19,
      "outputs": [
        {
          "output_type": "execute_result",
          "data": {
            "text/plain": [
              "<matplotlib.axes._subplots.AxesSubplot at 0x7fec54e456d0>"
            ]
          },
          "metadata": {
            "tags": []
          },
          "execution_count": 19
        },
        {
          "output_type": "display_data",
          "data": {
            "image/png": "[encoded data removed]",
            "text/plain": [
              "<Figure size 432x288 with 2 Axes>"
            ]
          },
          "metadata": {
            "tags": [],
            "needs_background": "light"
          }
        }
      ]
    },
    {
      "cell_type": "markdown",
      "metadata": {
        "id": "twpyimDxJZH_"
      },
      "source": [
        "週次リターンを求めます。値が存在しないデータは直前の値で補完します。"
      ]
    },
    {
      "cell_type": "code",
      "metadata": {
        "id": "4e7qXPTSljyn"
      },
      "source": [
        "df_return = df_per_instruments.bfill().pct_change(5).fillna(0)"
      ],
      "execution_count": 20,
      "outputs": []
    },
    {
      "cell_type": "markdown",
      "metadata": {
        "id": "eFPomRFt_QA5"
      },
      "source": [
        "マーケットのリターンを求めます。ここでは全銘柄のリターンの中央値をマーケットのリターンとします。"
      ]
    },
    {
      "cell_type": "code",
      "metadata": {
        "id": "nNMFkcM2gV8a"
      },
      "source": [
        "# universe\n",
        "df_universe = df_return.median(axis=1)"
      ],
      "execution_count": 21,
      "outputs": []
    },
    {
      "cell_type": "markdown",
      "metadata": {
        "id": "D9HGEIcX_aUb"
      },
      "source": [
        "各銘柄のリターンからマーケットのリターンを引いた、マーケット調整済みリターンを求めます。"
      ]
    },
    {
      "cell_type": "code",
      "metadata": {
        "id": "IWCVnmcAjOct"
      },
      "source": [
        "df_return_mka = df_return.apply(lambda x: x - df_universe)"
      ],
      "execution_count": 22,
      "outputs": []
    },
    {
      "cell_type": "markdown",
      "metadata": {
        "id": "3MHbHTxG_o4N"
      },
      "source": [
        "無限大は扱いにくいので nan に置換します"
      ]
    },
    {
      "cell_type": "code",
      "metadata": {
        "id": "fC_ow_mSo5L7"
      },
      "source": [
        "df_return_mka.replace([np.inf, -np.inf], np.nan, inplace=True)"
      ],
      "execution_count": 23,
      "outputs": []
    },
    {
      "cell_type": "markdown",
      "metadata": {
        "id": "Au6XN_A8APhN"
      },
      "source": [
        "2020年3月のデータはコロナ禍による影響が含まれていると考えられるため、全区間で平均を計算すると、直近の状況を正しく反映していない可能性があります。コロナ禍の影響が落ち着いてきた4月以降のデータのみでフィルタリングします。"
      ]
    },
    {
      "cell_type": "code",
      "metadata": {
        "id": "NQTK84JDtJUZ"
      },
      "source": [
        "# 2020年 4 月以降に限定\n",
        "filter_date = df_return_mka.index.to_series().between('2020-04-01', '2021-01-01')"
      ],
      "execution_count": 24,
      "outputs": []
    },
    {
      "cell_type": "markdown",
      "metadata": {
        "id": "DMb_j3rMA6g5"
      },
      "source": [
        "コンペの課題では、月曜日に買って金曜日に売るという売り買いの仕方が決まっているので、金曜日のデータに限定します。\n",
        "チュートリアルでも触れているように、機関投資家が金曜日にまとめて売却する、といった運用をするなど、曜日に特徴的な影響がある可能性があります。\n",
        "ここではその影響を見ます。"
      ]
    },
    {
      "cell_type": "code",
      "metadata": {
        "id": "-iiyIL_z3PDh"
      },
      "source": [
        "# 2020年 4 月以降に限定\n",
        "filter_date = df_return_mka.index.to_series().between('2020-04-01', '2021-01-01')\n",
        "filter_day_of_week = df_return_mka.index.dayofweek == 4 # 金曜日"
      ],
      "execution_count": 25,
      "outputs": []
    },
    {
      "cell_type": "markdown",
      "metadata": {
        "id": "zGNj_kFiCEdj"
      },
      "source": [
        "リターンが大きい銘柄は、ボラティリティ（標準偏差）も大きい傾向にあります。\n",
        "ポートフォリオを組むさいは、ボラが大きすぎる銘柄はリスクも大きいので、この値も重要となります。\n",
        "平均値をボラティリティで割った値（SHARPE ratio）も求めます。"
      ]
    },
    {
      "cell_type": "code",
      "metadata": {
        "id": "wxb4pZfa4JVF"
      },
      "source": [
        "df_ = pd.concat([\n",
        "    df_return[filter_date].replace([np.inf, -np.inf], np.nan).mean(),\n",
        "    df_return[filter_date].replace([np.inf, -np.inf], np.nan).std(),\n",
        "    df_return_mka[filter_date].replace([np.inf, -np.inf], np.nan).mean(),\n",
        "    df_return_mka[filter_date].replace([np.inf, -np.inf], np.nan).std(),\n",
        "], axis=1)\n",
        "df_.columns = ['return_7_mean', 'return_7_std', 'mka_return_7_mean', 'mka_return_7_std']\n",
        "df_['SHARPE'] = df_['mka_return_7_mean'] / df_['mka_return_7_std']"
      ],
      "execution_count": 26,
      "outputs": []
    },
    {
      "cell_type": "code",
      "metadata": {
        "id": "jSbIJvDx4gX-"
      },
      "source": [
        "df_.sort_values('mka_return_7_mean', ascending=False, inplace=True)"
      ],
      "execution_count": 27,
      "outputs": []
    },
    {
      "cell_type": "code",
      "metadata": {
        "id": "ZB4xZJ6y5Gu1"
      },
      "source": [
        "df_instrument = pd.merge(\n",
        "    df_.replace([np.inf, -np.inf], np.nan).sort_values('return_7_mean', ascending=False),\n",
        "    df_stock_list.set_index('Local Code')[['Name (English)', '33 Sector(name)']],\n",
        "    right_index=True,\n",
        "    left_index=True,\n",
        "    how='left'\n",
        ")"
      ],
      "execution_count": 28,
      "outputs": []
    },
    {
      "cell_type": "markdown",
      "metadata": {
        "id": "-Owqu_G_GZM4"
      },
      "source": [
        "ランダムにピックアップした20個の銘柄のリターンの時系列をプロットします。"
      ]
    },
    {
      "cell_type": "code",
      "metadata": {
        "colab": {
          "base_uri": "https://localhost:8080/",
          "height": 752
        },
        "id": "ljaDrYmgmknv",
        "outputId": "5444134e-2b45-4db3-89a6-65a71d202c18"
      },
      "source": [
        "import random\n",
        "\n",
        "assets = random.sample(df_return.columns.values.tolist(), k=20)\n",
        "\n",
        "cols = 4\n",
        "rows = (len(assets) - 1) // cols + 1\n",
        "fig, axes = plt.subplots(rows, cols, figsize=(6*cols, 4*rows), sharex=True, sharey=True)\n",
        "axes = axes.ravel()\n",
        "\n",
        "for i, asset in enumerate(assets):\n",
        "  df_return.loc[filter_date, asset].plot(ax=axes[i])"
      ],
      "execution_count": 29,
      "outputs": [
        {
          "output_type": "display_data",
          "data": {
            "image/png": "[encoded data removed]",
            "text/plain": [
              "<Figure size 1728x1440 with 20 Axes>"
            ]
          },
          "metadata": {
            "tags": [],
            "needs_background": "light"
          }
        }
      ]
    },
    {
      "cell_type": "markdown",
      "metadata": {
        "id": "G2blRCh-2eE7"
      },
      "source": [
        "# リスクーリターンカーブ\n",
        "\n",
        "リスクーリターンカーブを確認します。ポートフォリオを組むときは、同じリスクだとリターンの大きい銘柄を選択するほうが合理的です。理想的にはこのグラフの左上の端に近い銘柄で分散投資を組むのが良いと思われます。\n",
        "\n",
        "「左上に近い」という条件をどうアルゴリズムに落とすかは選択肢がいくつかあります。\n",
        "ぱっと思いつくのはRiskとReturnを二次元のメッシュに切り、各リスクのメッシュに対してリターンが最大のメッシュにある銘柄を選択するなど。"
      ]
    },
    {
      "cell_type": "code",
      "metadata": {
        "colab": {
          "base_uri": "https://localhost:8080/",
          "height": 389
        },
        "id": "ZlHuNwoh6Lel",
        "outputId": "1c6fdd2b-a166-407d-b0e2-0ded47b21501"
      },
      "source": [
        "df_instrument.T"
      ],
      "execution_count": 30,
      "outputs": [
        {
          "output_type": "execute_result",
          "data": {
            "text/html": [
              "<div>\n",
              "<style scoped>\n",
              "    .dataframe tbody tr th:only-of-type {\n",
              "        vertical-align: middle;\n",
              "    }\n",
              "\n",
              "    .dataframe tbody tr th {\n",
              "        vertical-align: top;\n",
              "    }\n",
              "\n",
              "    .dataframe thead th {\n",
              "        text-align: right;\n",
              "    }\n",
              "</style>\n",
              "<table border=\"1\" class=\"dataframe\">\n",
              "  <thead>\n",
              "    <tr style=\"text-align: right;\">\n",
              "      <th>Local Code</th>\n",
              "      <th>4477</th>\n",
              "      <th>2150</th>\n",
              "      <th>3998</th>\n",
              "      <th>6095</th>\n",
              "      <th>6070</th>\n",
              "      <th>3788</th>\n",
              "      <th>3663</th>\n",
              "      <th>3962</th>\n",
              "      <th>4308</th>\n",
              "      <th>4488</th>\n",
              "      <th>4490</th>\n",
              "      <th>3633</th>\n",
              "      <th>6937</th>\n",
              "      <th>2375</th>\n",
              "      <th>2484</th>\n",
              "      <th>4436</th>\n",
              "      <th>3902</th>\n",
              "      <th>7094</th>\n",
              "      <th>3491</th>\n",
              "      <th>3696</th>\n",
              "      <th>9519</th>\n",
              "      <th>3922</th>\n",
              "      <th>4772</th>\n",
              "      <th>3031</th>\n",
              "      <th>3558</th>\n",
              "      <th>6955</th>\n",
              "      <th>2158</th>\n",
              "      <th>4880</th>\n",
              "      <th>3328</th>\n",
              "      <th>6532</th>\n",
              "      <th>7685</th>\n",
              "      <th>6199</th>\n",
              "      <th>4475</th>\n",
              "      <th>7068</th>\n",
              "      <th>4390</th>\n",
              "      <th>6195</th>\n",
              "      <th>9270</th>\n",
              "      <th>3681</th>\n",
              "      <th>4051</th>\n",
              "      <th>2929</th>\n",
              "      <th>3674</th>\n",
              "      <th>1407</th>\n",
              "      <th>3751</th>\n",
              "      <th>6564</th>\n",
              "      <th>7707</th>\n",
              "      <th>6254</th>\n",
              "      <th>6966</th>\n",
              "      <th>6036</th>\n",
              "      <th>2148</th>\n",
              "      <th>9273</th>\n",
              "      <th>...</th>\n",
              "      <th>3106</th>\n",
              "      <th>4495</th>\n",
              "      <th>8399</th>\n",
              "      <th>8275</th>\n",
              "      <th>3151</th>\n",
              "      <th>7959</th>\n",
              "      <th>9783</th>\n",
              "      <th>9640</th>\n",
              "      <th>9021</th>\n",
              "      <th>9501</th>\n",
              "      <th>9729</th>\n",
              "      <th>4434</th>\n",
              "      <th>3178</th>\n",
              "      <th>6412</th>\n",
              "      <th>9142</th>\n",
              "      <th>1723</th>\n",
              "      <th>4541</th>\n",
              "      <th>7211</th>\n",
              "      <th>8214</th>\n",
              "      <th>5976</th>\n",
              "      <th>4497</th>\n",
              "      <th>4526</th>\n",
              "      <th>7731</th>\n",
              "      <th>2226</th>\n",
              "      <th>9513</th>\n",
              "      <th>4499</th>\n",
              "      <th>8219</th>\n",
              "      <th>4013</th>\n",
              "      <th>8848</th>\n",
              "      <th>6411</th>\n",
              "      <th>2923</th>\n",
              "      <th>8016</th>\n",
              "      <th>4115</th>\n",
              "      <th>9661</th>\n",
              "      <th>9033</th>\n",
              "      <th>1799</th>\n",
              "      <th>2268</th>\n",
              "      <th>9441</th>\n",
              "      <th>1793</th>\n",
              "      <th>7292</th>\n",
              "      <th>7169</th>\n",
              "      <th>6271</th>\n",
              "      <th>8066</th>\n",
              "      <th>4628</th>\n",
              "      <th>9539</th>\n",
              "      <th>4365</th>\n",
              "      <th>6824</th>\n",
              "      <th>4781</th>\n",
              "      <th>9733</th>\n",
              "      <th>2761</th>\n",
              "    </tr>\n",
              "  </thead>\n",
              "  <tbody>\n",
              "    <tr>\n",
              "      <th>return_7_mean</th>\n",
              "      <td>0.0717325</td>\n",
              "      <td>0.0663988</td>\n",
              "      <td>0.0603962</td>\n",
              "      <td>0.0565793</td>\n",
              "      <td>0.0562082</td>\n",
              "      <td>0.05431</td>\n",
              "      <td>0.0542507</td>\n",
              "      <td>0.0527784</td>\n",
              "      <td>0.0515155</td>\n",
              "      <td>0.0496978</td>\n",
              "      <td>0.047533</td>\n",
              "      <td>0.0473343</td>\n",
              "      <td>0.0472421</td>\n",
              "      <td>0.0468191</td>\n",
              "      <td>0.0463333</td>\n",
              "      <td>0.046052</td>\n",
              "      <td>0.0454708</td>\n",
              "      <td>0.0454546</td>\n",
              "      <td>0.04455</td>\n",
              "      <td>0.044095</td>\n",
              "      <td>0.0434451</td>\n",
              "      <td>0.0433097</td>\n",
              "      <td>0.0407817</td>\n",
              "      <td>0.0404383</td>\n",
              "      <td>0.0397553</td>\n",
              "      <td>0.0397012</td>\n",
              "      <td>0.039561</td>\n",
              "      <td>0.0392876</td>\n",
              "      <td>0.039238</td>\n",
              "      <td>0.0389918</td>\n",
              "      <td>0.0389493</td>\n",
              "      <td>0.0387958</td>\n",
              "      <td>0.0387293</td>\n",
              "      <td>0.0381364</td>\n",
              "      <td>0.0379238</td>\n",
              "      <td>0.0379094</td>\n",
              "      <td>0.0378126</td>\n",
              "      <td>0.037744</td>\n",
              "      <td>0.0372792</td>\n",
              "      <td>0.0372448</td>\n",
              "      <td>0.036933</td>\n",
              "      <td>0.036928</td>\n",
              "      <td>0.0367069</td>\n",
              "      <td>0.0365084</td>\n",
              "      <td>0.0364811</td>\n",
              "      <td>0.0364499</td>\n",
              "      <td>0.0361163</td>\n",
              "      <td>0.0353104</td>\n",
              "      <td>0.0352755</td>\n",
              "      <td>0.0349136</td>\n",
              "      <td>...</td>\n",
              "      <td>-0.00764299</td>\n",
              "      <td>-0.00768834</td>\n",
              "      <td>-0.00772345</td>\n",
              "      <td>-0.00775218</td>\n",
              "      <td>-0.00781363</td>\n",
              "      <td>-0.00786881</td>\n",
              "      <td>-0.00790603</td>\n",
              "      <td>-0.00821617</td>\n",
              "      <td>-0.00825531</td>\n",
              "      <td>-0.00837114</td>\n",
              "      <td>-0.00843473</td>\n",
              "      <td>-0.00866561</td>\n",
              "      <td>-0.00876609</td>\n",
              "      <td>-0.00901178</td>\n",
              "      <td>-0.00915019</td>\n",
              "      <td>-0.00919375</td>\n",
              "      <td>-0.00919409</td>\n",
              "      <td>-0.00922865</td>\n",
              "      <td>-0.00943574</td>\n",
              "      <td>-0.00953542</td>\n",
              "      <td>-0.0095683</td>\n",
              "      <td>-0.0102815</td>\n",
              "      <td>-0.0110763</td>\n",
              "      <td>-0.0113517</td>\n",
              "      <td>-0.0116804</td>\n",
              "      <td>-0.0144267</td>\n",
              "      <td>-0.0145586</td>\n",
              "      <td>-0.0156879</td>\n",
              "      <td>-0.0186457</td>\n",
              "      <td>-0.0195994</td>\n",
              "      <td>-0.0201393</td>\n",
              "      <td>-0.0204678</td>\n",
              "      <td>-0.0263752</td>\n",
              "      <td>-0.0308843</td>\n",
              "      <td>-0.0312094</td>\n",
              "      <td>-0.0316286</td>\n",
              "      <td>-0.0325071</td>\n",
              "      <td>-0.0495861</td>\n",
              "      <td>-0.0649551</td>\n",
              "      <td>-0.0712867</td>\n",
              "      <td>-0.111088</td>\n",
              "      <td>-0.11275</td>\n",
              "      <td>-0.121885</td>\n",
              "      <td>-0.174699</td>\n",
              "      <td>-0.21739</td>\n",
              "      <td>-0.220729</td>\n",
              "      <td>-0.262124</td>\n",
              "      <td>-0.266355</td>\n",
              "      <td>-0.287328</td>\n",
              "      <td>-0.352183</td>\n",
              "    </tr>\n",
              "    <tr>\n",
              "      <th>return_7_std</th>\n",
              "      <td>0.15934</td>\n",
              "      <td>0.140969</td>\n",
              "      <td>0.158193</td>\n",
              "      <td>0.132507</td>\n",
              "      <td>0.13605</td>\n",
              "      <td>0.139311</td>\n",
              "      <td>0.140304</td>\n",
              "      <td>0.119501</td>\n",
              "      <td>0.133991</td>\n",
              "      <td>0.130616</td>\n",
              "      <td>0.130939</td>\n",
              "      <td>0.134227</td>\n",
              "      <td>0.21032</td>\n",
              "      <td>0.125313</td>\n",
              "      <td>0.12567</td>\n",
              "      <td>0.122237</td>\n",
              "      <td>0.0927682</td>\n",
              "      <td>0.178359</td>\n",
              "      <td>0.106805</td>\n",
              "      <td>0.118469</td>\n",
              "      <td>0.0907689</td>\n",
              "      <td>0.109753</td>\n",
              "      <td>0.204277</td>\n",
              "      <td>0.108657</td>\n",
              "      <td>0.143162</td>\n",
              "      <td>0.093642</td>\n",
              "      <td>0.143526</td>\n",
              "      <td>0.12502</td>\n",
              "      <td>0.0866293</td>\n",
              "      <td>0.110027</td>\n",
              "      <td>0.12681</td>\n",
              "      <td>0.106318</td>\n",
              "      <td>0.112142</td>\n",
              "      <td>0.13853</td>\n",
              "      <td>0.128502</td>\n",
              "      <td>0.132026</td>\n",
              "      <td>0.120833</td>\n",
              "      <td>0.130931</td>\n",
              "      <td>0.15973</td>\n",
              "      <td>0.119125</td>\n",
              "      <td>0.111581</td>\n",
              "      <td>0.0722437</td>\n",
              "      <td>0.126218</td>\n",
              "      <td>0.0929751</td>\n",
              "      <td>0.18096</td>\n",
              "      <td>0.094664</td>\n",
              "      <td>0.0776082</td>\n",
              "      <td>0.085109</td>\n",
              "      <td>0.103981</td>\n",
              "      <td>0.112195</td>\n",
              "      <td>...</td>\n",
              "      <td>0.0282548</td>\n",
              "      <td>0.0692532</td>\n",
              "      <td>0.0380286</td>\n",
              "      <td>0.0495963</td>\n",
              "      <td>0.0239166</td>\n",
              "      <td>0.0469254</td>\n",
              "      <td>0.0356733</td>\n",
              "      <td>0.135509</td>\n",
              "      <td>0.0552409</td>\n",
              "      <td>0.0394562</td>\n",
              "      <td>0.0351729</td>\n",
              "      <td>0.101419</td>\n",
              "      <td>0.0725444</td>\n",
              "      <td>0.0315359</td>\n",
              "      <td>0.0415325</td>\n",
              "      <td>0.135773</td>\n",
              "      <td>0.0365698</td>\n",
              "      <td>0.0701188</td>\n",
              "      <td>0.0584554</td>\n",
              "      <td>0.0444556</td>\n",
              "      <td>0.106217</td>\n",
              "      <td>0.0609642</td>\n",
              "      <td>0.0523747</td>\n",
              "      <td>0.129787</td>\n",
              "      <td>0.044554</td>\n",
              "      <td>0.080331</td>\n",
              "      <td>0.0666569</td>\n",
              "      <td>0.0510903</td>\n",
              "      <td>0.0783225</td>\n",
              "      <td>0.129822</td>\n",
              "      <td>0.171338</td>\n",
              "      <td>0.0626658</td>\n",
              "      <td>0.224895</td>\n",
              "      <td>0.16654</td>\n",
              "      <td>0.165647</td>\n",
              "      <td>0.182188</td>\n",
              "      <td>0.181597</td>\n",
              "      <td>0.269028</td>\n",
              "      <td>0.257753</td>\n",
              "      <td>0.269789</td>\n",
              "      <td>0.334373</td>\n",
              "      <td>0.323136</td>\n",
              "      <td>0.338677</td>\n",
              "      <td>0.385417</td>\n",
              "      <td>0.4222</td>\n",
              "      <td>0.414142</td>\n",
              "      <td>0.450928</td>\n",
              "      <td>0.447209</td>\n",
              "      <td>0.457446</td>\n",
              "      <td>0.47818</td>\n",
              "    </tr>\n",
              "    <tr>\n",
              "      <th>mka_return_7_mean</th>\n",
              "      <td>0.0678409</td>\n",
              "      <td>0.0625073</td>\n",
              "      <td>0.0565047</td>\n",
              "      <td>0.0526877</td>\n",
              "      <td>0.0523167</td>\n",
              "      <td>0.0504185</td>\n",
              "      <td>0.0503591</td>\n",
              "      <td>0.0488868</td>\n",
              "      <td>0.047624</td>\n",
              "      <td>0.0458063</td>\n",
              "      <td>0.0436415</td>\n",
              "      <td>0.0434427</td>\n",
              "      <td>0.0433506</td>\n",
              "      <td>0.0429276</td>\n",
              "      <td>0.0424418</td>\n",
              "      <td>0.0421605</td>\n",
              "      <td>0.0415793</td>\n",
              "      <td>0.0415631</td>\n",
              "      <td>0.0406585</td>\n",
              "      <td>0.0402035</td>\n",
              "      <td>0.0395536</td>\n",
              "      <td>0.0394182</td>\n",
              "      <td>0.0368901</td>\n",
              "      <td>0.0365468</td>\n",
              "      <td>0.0358638</td>\n",
              "      <td>0.0358097</td>\n",
              "      <td>0.0356695</td>\n",
              "      <td>0.0353961</td>\n",
              "      <td>0.0353464</td>\n",
              "      <td>0.0351003</td>\n",
              "      <td>0.0350578</td>\n",
              "      <td>0.0349043</td>\n",
              "      <td>0.0348378</td>\n",
              "      <td>0.0342448</td>\n",
              "      <td>0.0340323</td>\n",
              "      <td>0.0340178</td>\n",
              "      <td>0.0339211</td>\n",
              "      <td>0.0338525</td>\n",
              "      <td>0.0336021</td>\n",
              "      <td>0.0333533</td>\n",
              "      <td>0.0330415</td>\n",
              "      <td>0.0330365</td>\n",
              "      <td>0.0328154</td>\n",
              "      <td>0.0326168</td>\n",
              "      <td>0.0325896</td>\n",
              "      <td>0.0325584</td>\n",
              "      <td>0.0322248</td>\n",
              "      <td>0.0314189</td>\n",
              "      <td>0.031384</td>\n",
              "      <td>0.031022</td>\n",
              "      <td>...</td>\n",
              "      <td>-0.0115345</td>\n",
              "      <td>-0.0113655</td>\n",
              "      <td>-0.011615</td>\n",
              "      <td>-0.0116437</td>\n",
              "      <td>-0.0117051</td>\n",
              "      <td>-0.0117603</td>\n",
              "      <td>-0.0117975</td>\n",
              "      <td>-0.0120564</td>\n",
              "      <td>-0.0121468</td>\n",
              "      <td>-0.0122627</td>\n",
              "      <td>-0.0123262</td>\n",
              "      <td>-0.0125571</td>\n",
              "      <td>-0.0126576</td>\n",
              "      <td>-0.0129033</td>\n",
              "      <td>-0.0130417</td>\n",
              "      <td>-0.0133331</td>\n",
              "      <td>-0.0130856</td>\n",
              "      <td>-0.0131202</td>\n",
              "      <td>-0.0133273</td>\n",
              "      <td>-0.0134269</td>\n",
              "      <td>-0.0134598</td>\n",
              "      <td>-0.014173</td>\n",
              "      <td>-0.0149678</td>\n",
              "      <td>-0.0147978</td>\n",
              "      <td>-0.0155719</td>\n",
              "      <td>-0.0183182</td>\n",
              "      <td>-0.0184501</td>\n",
              "      <td>-0.0195794</td>\n",
              "      <td>-0.0225372</td>\n",
              "      <td>-0.0233741</td>\n",
              "      <td>-0.0237496</td>\n",
              "      <td>-0.0243593</td>\n",
              "      <td>-0.029652</td>\n",
              "      <td>-0.0344765</td>\n",
              "      <td>-0.0350918</td>\n",
              "      <td>-0.0357156</td>\n",
              "      <td>-0.0361881</td>\n",
              "      <td>-0.0528475</td>\n",
              "      <td>-0.0685839</td>\n",
              "      <td>-0.0742255</td>\n",
              "      <td>-0.113931</td>\n",
              "      <td>-0.11497</td>\n",
              "      <td>-0.125361</td>\n",
              "      <td>-0.177601</td>\n",
              "      <td>-0.221996</td>\n",
              "      <td>-0.224589</td>\n",
              "      <td>-0.264358</td>\n",
              "      <td>-0.269442</td>\n",
              "      <td>-0.292189</td>\n",
              "      <td>-0.354326</td>\n",
              "    </tr>\n",
              "    <tr>\n",
              "      <th>mka_return_7_std</th>\n",
              "      <td>0.157935</td>\n",
              "      <td>0.144706</td>\n",
              "      <td>0.165359</td>\n",
              "      <td>0.138103</td>\n",
              "      <td>0.132554</td>\n",
              "      <td>0.133806</td>\n",
              "      <td>0.131243</td>\n",
              "      <td>0.11259</td>\n",
              "      <td>0.137296</td>\n",
              "      <td>0.13371</td>\n",
              "      <td>0.127609</td>\n",
              "      <td>0.132584</td>\n",
              "      <td>0.212683</td>\n",
              "      <td>0.120619</td>\n",
              "      <td>0.12772</td>\n",
              "      <td>0.123337</td>\n",
              "      <td>0.092191</td>\n",
              "      <td>0.17824</td>\n",
              "      <td>0.106459</td>\n",
              "      <td>0.114178</td>\n",
              "      <td>0.0922025</td>\n",
              "      <td>0.106586</td>\n",
              "      <td>0.204185</td>\n",
              "      <td>0.106668</td>\n",
              "      <td>0.139168</td>\n",
              "      <td>0.0884396</td>\n",
              "      <td>0.135621</td>\n",
              "      <td>0.124287</td>\n",
              "      <td>0.0789075</td>\n",
              "      <td>0.105137</td>\n",
              "      <td>0.117</td>\n",
              "      <td>0.100484</td>\n",
              "      <td>0.114628</td>\n",
              "      <td>0.133921</td>\n",
              "      <td>0.12279</td>\n",
              "      <td>0.127649</td>\n",
              "      <td>0.120096</td>\n",
              "      <td>0.138299</td>\n",
              "      <td>0.161179</td>\n",
              "      <td>0.11289</td>\n",
              "      <td>0.106076</td>\n",
              "      <td>0.07264</td>\n",
              "      <td>0.117291</td>\n",
              "      <td>0.0892291</td>\n",
              "      <td>0.176762</td>\n",
              "      <td>0.0961925</td>\n",
              "      <td>0.0708049</td>\n",
              "      <td>0.0839511</td>\n",
              "      <td>0.103006</td>\n",
              "      <td>0.112833</td>\n",
              "      <td>...</td>\n",
              "      <td>0.0313578</td>\n",
              "      <td>0.0704161</td>\n",
              "      <td>0.0279092</td>\n",
              "      <td>0.0429413</td>\n",
              "      <td>0.0236932</td>\n",
              "      <td>0.0447998</td>\n",
              "      <td>0.0362945</td>\n",
              "      <td>0.134397</td>\n",
              "      <td>0.0464605</td>\n",
              "      <td>0.0273772</td>\n",
              "      <td>0.0293708</td>\n",
              "      <td>0.101329</td>\n",
              "      <td>0.0559269</td>\n",
              "      <td>0.0265555</td>\n",
              "      <td>0.0321575</td>\n",
              "      <td>0.135402</td>\n",
              "      <td>0.0323269</td>\n",
              "      <td>0.0569158</td>\n",
              "      <td>0.0474678</td>\n",
              "      <td>0.0369147</td>\n",
              "      <td>0.108335</td>\n",
              "      <td>0.0553641</td>\n",
              "      <td>0.0423663</td>\n",
              "      <td>0.132414</td>\n",
              "      <td>0.0349684</td>\n",
              "      <td>0.0820936</td>\n",
              "      <td>0.054112</td>\n",
              "      <td>0.0523379</td>\n",
              "      <td>0.072569</td>\n",
              "      <td>0.131099</td>\n",
              "      <td>0.171683</td>\n",
              "      <td>0.0515891</td>\n",
              "      <td>0.220729</td>\n",
              "      <td>0.166058</td>\n",
              "      <td>0.171</td>\n",
              "      <td>0.185784</td>\n",
              "      <td>0.183526</td>\n",
              "      <td>0.27161</td>\n",
              "      <td>0.256748</td>\n",
              "      <td>0.268823</td>\n",
              "      <td>0.335765</td>\n",
              "      <td>0.320999</td>\n",
              "      <td>0.33979</td>\n",
              "      <td>0.385111</td>\n",
              "      <td>0.423252</td>\n",
              "      <td>0.41555</td>\n",
              "      <td>0.450287</td>\n",
              "      <td>0.44407</td>\n",
              "      <td>0.459366</td>\n",
              "      <td>0.476025</td>\n",
              "    </tr>\n",
              "    <tr>\n",
              "      <th>SHARPE</th>\n",
              "      <td>0.429551</td>\n",
              "      <td>0.431959</td>\n",
              "      <td>0.34171</td>\n",
              "      <td>0.381511</td>\n",
              "      <td>0.394681</td>\n",
              "      <td>0.376804</td>\n",
              "      <td>0.383709</td>\n",
              "      <td>0.434203</td>\n",
              "      <td>0.346872</td>\n",
              "      <td>0.342578</td>\n",
              "      <td>0.341995</td>\n",
              "      <td>0.327662</td>\n",
              "      <td>0.203827</td>\n",
              "      <td>0.355893</td>\n",
              "      <td>0.332303</td>\n",
              "      <td>0.341831</td>\n",
              "      <td>0.451013</td>\n",
              "      <td>0.233186</td>\n",
              "      <td>0.381919</td>\n",
              "      <td>0.352112</td>\n",
              "      <td>0.428986</td>\n",
              "      <td>0.369824</td>\n",
              "      <td>0.18067</td>\n",
              "      <td>0.342622</td>\n",
              "      <td>0.257701</td>\n",
              "      <td>0.404905</td>\n",
              "      <td>0.263008</td>\n",
              "      <td>0.284794</td>\n",
              "      <td>0.447948</td>\n",
              "      <td>0.333852</td>\n",
              "      <td>0.29964</td>\n",
              "      <td>0.347363</td>\n",
              "      <td>0.30392</td>\n",
              "      <td>0.255709</td>\n",
              "      <td>0.277158</td>\n",
              "      <td>0.266495</td>\n",
              "      <td>0.28245</td>\n",
              "      <td>0.244777</td>\n",
              "      <td>0.208476</td>\n",
              "      <td>0.29545</td>\n",
              "      <td>0.311489</td>\n",
              "      <td>0.454798</td>\n",
              "      <td>0.279777</td>\n",
              "      <td>0.365541</td>\n",
              "      <td>0.18437</td>\n",
              "      <td>0.338471</td>\n",
              "      <td>0.455121</td>\n",
              "      <td>0.374253</td>\n",
              "      <td>0.304681</td>\n",
              "      <td>0.274938</td>\n",
              "      <td>...</td>\n",
              "      <td>-0.367835</td>\n",
              "      <td>-0.161404</td>\n",
              "      <td>-0.416169</td>\n",
              "      <td>-0.271153</td>\n",
              "      <td>-0.49403</td>\n",
              "      <td>-0.262508</td>\n",
              "      <td>-0.32505</td>\n",
              "      <td>-0.0897072</td>\n",
              "      <td>-0.261444</td>\n",
              "      <td>-0.447915</td>\n",
              "      <td>-0.419677</td>\n",
              "      <td>-0.123924</td>\n",
              "      <td>-0.226324</td>\n",
              "      <td>-0.4859</td>\n",
              "      <td>-0.405557</td>\n",
              "      <td>-0.0984707</td>\n",
              "      <td>-0.40479</td>\n",
              "      <td>-0.230519</td>\n",
              "      <td>-0.280764</td>\n",
              "      <td>-0.363729</td>\n",
              "      <td>-0.124243</td>\n",
              "      <td>-0.255996</td>\n",
              "      <td>-0.353296</td>\n",
              "      <td>-0.111754</td>\n",
              "      <td>-0.445313</td>\n",
              "      <td>-0.223138</td>\n",
              "      <td>-0.340962</td>\n",
              "      <td>-0.374096</td>\n",
              "      <td>-0.310562</td>\n",
              "      <td>-0.178294</td>\n",
              "      <td>-0.138334</td>\n",
              "      <td>-0.47218</td>\n",
              "      <td>-0.134337</td>\n",
              "      <td>-0.207618</td>\n",
              "      <td>-0.205215</td>\n",
              "      <td>-0.192243</td>\n",
              "      <td>-0.197182</td>\n",
              "      <td>-0.194571</td>\n",
              "      <td>-0.267125</td>\n",
              "      <td>-0.276112</td>\n",
              "      <td>-0.339318</td>\n",
              "      <td>-0.358163</td>\n",
              "      <td>-0.368938</td>\n",
              "      <td>-0.461168</td>\n",
              "      <td>-0.524502</td>\n",
              "      <td>-0.540462</td>\n",
              "      <td>-0.587087</td>\n",
              "      <td>-0.606756</td>\n",
              "      <td>-0.636071</td>\n",
              "      <td>-0.744344</td>\n",
              "    </tr>\n",
              "    <tr>\n",
              "      <th>Name (English)</th>\n",
              "      <td>BASE,Inc.</td>\n",
              "      <td>CareNet,Inc.</td>\n",
              "      <td>SuRaLa Net Co.,Ltd.</td>\n",
              "      <td>MedPeer,Inc.</td>\n",
              "      <td>CAREERLINK CO.,LTD.</td>\n",
              "      <td>GMO GlobalSign Holdings K.K.</td>\n",
              "      <td>ArtSpark Holdings Inc.</td>\n",
              "      <td>CHANGE Inc.</td>\n",
              "      <td>J-Stream Inc.</td>\n",
              "      <td>AI inside Inc.</td>\n",
              "      <td>VisasQ Inc.</td>\n",
              "      <td>GMO Pepabo,Inc.</td>\n",
              "      <td>The Furukawa Battery Co.,Ltd.</td>\n",
              "      <td>GiG Works Inc.</td>\n",
              "      <td>DEMAE-CAN CO.,LTD</td>\n",
              "      <td>MINKABU THE INFONOID,Inc.</td>\n",
              "      <td>Medical Data Vision Co.,Ltd.</td>\n",
              "      <td>NexTone Inc.</td>\n",
              "      <td>GAtechnologies Co.,Ltd.</td>\n",
              "      <td>CERES INC.</td>\n",
              "      <td>RENOVA,Inc.</td>\n",
              "      <td>PR TIMES,Inc.</td>\n",
              "      <td>Stream Media Corporation</td>\n",
              "      <td>RACCOON HOLDINGS,Inc.</td>\n",
              "      <td>LOCONDO,Inc.</td>\n",
              "      <td>FDK CORPORATION</td>\n",
              "      <td>FRONTEO,Inc.</td>\n",
              "      <td>CellSource Co.,Ltd.</td>\n",
              "      <td>BEENOS Inc.</td>\n",
              "      <td>BayCurrent Consulting,Inc.</td>\n",
              "      <td>BuySell Technologies Co.,Ltd.</td>\n",
              "      <td>SERAKU Co.,Ltd.</td>\n",
              "      <td>HENNGE K.K.</td>\n",
              "      <td>Feedforce Inc.</td>\n",
              "      <td>IPS,Inc.</td>\n",
              "      <td>HOPE,INC.</td>\n",
              "      <td>Valuence Holdings Inc.</td>\n",
              "      <td>V-cube,Inc.</td>\n",
              "      <td>GMO Financial Gate,Inc.</td>\n",
              "      <td>Pharma Foods International Co.,Ltd.</td>\n",
              "      <td>Aucfan Co.,Ltd.</td>\n",
              "      <td>West Holdings Corporation</td>\n",
              "      <td>Japan Asia Group Limited</td>\n",
              "      <td>MIDAC CO.,LTD.</td>\n",
              "      <td>Precision System Science Co.,Ltd.</td>\n",
              "      <td>Nomura Micro Science Co.,Ltd.</td>\n",
              "      <td>Mitsui High-tec,Inc.</td>\n",
              "      <td>KeePer Technical Laboratory Co.,Ltd.</td>\n",
              "      <td>ITmedia Inc.</td>\n",
              "      <td>KOA SHOJI HOLDINGS CO.,LTD.</td>\n",
              "      <td>...</td>\n",
              "      <td>KURABO INDUSTRIES LTD.</td>\n",
              "      <td>i3 Systems,Inc.</td>\n",
              "      <td>Bank of The Ryukyus,Limited</td>\n",
              "      <td>FORVAL CORPORATION</td>\n",
              "      <td>VITAL KSK HOLDINGS,INC.</td>\n",
              "      <td>OLIVER CORPORATION</td>\n",
              "      <td>Benesse Holdings,Inc.</td>\n",
              "      <td>SAISON INFORMATION SYSTEMS CO.,LTD.</td>\n",
              "      <td>West Japan Railway Company</td>\n",
              "      <td>Tokyo Electric Power Company Holdings,Incorpor...</td>\n",
              "      <td>TOKAI Corp.</td>\n",
              "      <td>Serverworks Co.,Ltd.</td>\n",
              "      <td>CHIMNEY CO.,LTD.</td>\n",
              "      <td>Heiwa Corporation</td>\n",
              "      <td>Kyushu Railway Company</td>\n",
              "      <td>NIHON DENGI CO.,LTD.</td>\n",
              "      <td>Nichi-Iko Pharmaceutical Co.,Ltd.</td>\n",
              "      <td>MITSUBISHI MOTORS CORPORATION</td>\n",
              "      <td>AOKI Holdings Inc.</td>\n",
              "      <td>Neturen Co.,Ltd.</td>\n",
              "      <td>Locoguide Inc.</td>\n",
              "      <td>RIKEN VITAMIN CO.,LTD.</td>\n",
              "      <td>NIKON CORPORATION</td>\n",
              "      <td>KOIKE-YA Inc.</td>\n",
              "      <td>Electric Power Development Co.,Ltd.</td>\n",
              "      <td>Speee,Inc.</td>\n",
              "      <td>AOYAMA TRADING Co.,Ltd.</td>\n",
              "      <td>Nittsusystem Co.,Ltd.</td>\n",
              "      <td>LEOPALACE21 CORPORATION</td>\n",
              "      <td>NAKANO REFRIGERATORS CO.,LTD.</td>\n",
              "      <td>SATO FOODS CO.,LTD.</td>\n",
              "      <td>ONWARD HOLDINGS CO.,LTD.</td>\n",
              "      <td>Honshu Chemical Industry Co.,Ltd.</td>\n",
              "      <td>Kabuki-Za Co.,Ltd.</td>\n",
              "      <td>Hiroshima Electric Railway Co.,Ltd.</td>\n",
              "      <td>DAIICHI KENSETSU CORPORATION</td>\n",
              "      <td>B-R 31 ICE CREAM CO.,LTD.</td>\n",
              "      <td>Bell-Park Co.,Ltd.</td>\n",
              "      <td>OHMOTO GUMI CO.,LTD.</td>\n",
              "      <td>MURAKAMI CORPORATION</td>\n",
              "      <td>NFC Holdings,Inc.</td>\n",
              "      <td>NISSEI CORPORATION</td>\n",
              "      <td>MITANI CORPORATION</td>\n",
              "      <td>SK KAKEN CO.,LTD.</td>\n",
              "      <td>KEIYO GAS CO.,LTD.</td>\n",
              "      <td>MATSUMOTO YUSHI-SEIYAKU CO.,LTD.</td>\n",
              "      <td>NEW COSMOS ELECTRIC CO.,LTD.</td>\n",
              "      <td>NIHON HOUSING CO.,LTD.</td>\n",
              "      <td>Nagase Brothers Inc.</td>\n",
              "      <td>Toshin Group co.,ltd.</td>\n",
              "    </tr>\n",
              "    <tr>\n",
              "      <th>33 Sector(name)</th>\n",
              "      <td>Information &amp; Communication</td>\n",
              "      <td>Services</td>\n",
              "      <td>Information &amp; Communication</td>\n",
              "      <td>Services</td>\n",
              "      <td>Services</td>\n",
              "      <td>Information &amp; Communication</td>\n",
              "      <td>Information &amp; Communication</td>\n",
              "      <td>Information &amp; Communication</td>\n",
              "      <td>Information &amp; Communication</td>\n",
              "      <td>Information &amp; Communication</td>\n",
              "      <td>Information &amp; Communication</td>\n",
              "      <td>Information &amp; Communication</td>\n",
              "      <td>Electric Appliances</td>\n",
              "      <td>Services</td>\n",
              "      <td>Information &amp; Communication</td>\n",
              "      <td>Information &amp; Communication</td>\n",
              "      <td>Information &amp; Communication</td>\n",
              "      <td>Services</td>\n",
              "      <td>Real Estate</td>\n",
              "      <td>Information &amp; Communication</td>\n",
              "      <td>Electric Power and Gas</td>\n",
              "      <td>Information &amp; Communication</td>\n",
              "      <td>Information &amp; Communication</td>\n",
              "      <td>Information &amp; Communication</td>\n",
              "      <td>Retail Trade</td>\n",
              "      <td>Electric Appliances</td>\n",
              "      <td>Services</td>\n",
              "      <td>Pharmaceutical</td>\n",
              "      <td>Retail Trade</td>\n",
              "      <td>Services</td>\n",
              "      <td>Wholesale Trade</td>\n",
              "      <td>Services</td>\n",
              "      <td>Information &amp; Communication</td>\n",
              "      <td>Services</td>\n",
              "      <td>Information &amp; Communication</td>\n",
              "      <td>Services</td>\n",
              "      <td>Wholesale Trade</td>\n",
              "      <td>Information &amp; Communication</td>\n",
              "      <td>Information &amp; Communication</td>\n",
              "      <td>Foods</td>\n",
              "      <td>Information &amp; Communication</td>\n",
              "      <td>Construction</td>\n",
              "      <td>Information &amp; Communication</td>\n",
              "      <td>Services</td>\n",
              "      <td>Precision Instruments</td>\n",
              "      <td>Machinery</td>\n",
              "      <td>Electric Appliances</td>\n",
              "      <td>Services</td>\n",
              "      <td>Services</td>\n",
              "      <td>Wholesale Trade</td>\n",
              "      <td>...</td>\n",
              "      <td>Textiles and Apparels</td>\n",
              "      <td>Information &amp; Communication</td>\n",
              "      <td>Banks</td>\n",
              "      <td>Wholesale Trade</td>\n",
              "      <td>Wholesale Trade</td>\n",
              "      <td>Other Products</td>\n",
              "      <td>Services</td>\n",
              "      <td>Information &amp; Communication</td>\n",
              "      <td>Land Transportation</td>\n",
              "      <td>Electric Power and Gas</td>\n",
              "      <td>Services</td>\n",
              "      <td>Information &amp; Communication</td>\n",
              "      <td>Retail Trade</td>\n",
              "      <td>Machinery</td>\n",
              "      <td>Land Transportation</td>\n",
              "      <td>Construction</td>\n",
              "      <td>Pharmaceutical</td>\n",
              "      <td>Transportation Equipment</td>\n",
              "      <td>Retail Trade</td>\n",
              "      <td>Metal Products</td>\n",
              "      <td>Information &amp; Communication</td>\n",
              "      <td>Foods</td>\n",
              "      <td>Precision Instruments</td>\n",
              "      <td>Foods</td>\n",
              "      <td>Electric Power and Gas</td>\n",
              "      <td>Information &amp; Communication</td>\n",
              "      <td>Retail Trade</td>\n",
              "      <td>Information &amp; Communication</td>\n",
              "      <td>Real Estate</td>\n",
              "      <td>Machinery</td>\n",
              "      <td>Foods</td>\n",
              "      <td>Textiles and Apparels</td>\n",
              "      <td>Chemicals</td>\n",
              "      <td>Services</td>\n",
              "      <td>Land Transportation</td>\n",
              "      <td>Construction</td>\n",
              "      <td>Foods</td>\n",
              "      <td>Information &amp; Communication</td>\n",
              "      <td>Construction</td>\n",
              "      <td>Transportation Equipment</td>\n",
              "      <td>Insurance</td>\n",
              "      <td>Machinery</td>\n",
              "      <td>Wholesale Trade</td>\n",
              "      <td>Chemicals</td>\n",
              "      <td>Electric Power and Gas</td>\n",
              "      <td>Chemicals</td>\n",
              "      <td>Electric Appliances</td>\n",
              "      <td>Services</td>\n",
              "      <td>Services</td>\n",
              "      <td>Wholesale Trade</td>\n",
              "    </tr>\n",
              "  </tbody>\n",
              "</table>\n",
              "<p>7 rows × 1779 columns</p>\n",
              "</div>"
            ],
            "text/plain": [
              "Local Code                                4477          2150                         3998          6095  \\\n",
              "return_7_mean                        0.0717325     0.0663988                    0.0603962     0.0565793   \n",
              "return_7_std                           0.15934      0.140969                     0.158193      0.132507   \n",
              "mka_return_7_mean                    0.0678409     0.0625073                    0.0565047     0.0526877   \n",
              "mka_return_7_std                      0.157935      0.144706                     0.165359      0.138103   \n",
              "SHARPE                                0.429551      0.431959                      0.34171      0.381511   \n",
              "Name (English)                       BASE,Inc.  CareNet,Inc.          SuRaLa Net Co.,Ltd.  MedPeer,Inc.   \n",
              "33 Sector(name)    Information & Communication      Services  Information & Communication      Services   \n",
              "\n",
              "Local Code                        6070                          3788                         3663  \\\n",
              "return_7_mean                0.0562082                       0.05431                    0.0542507   \n",
              "return_7_std                   0.13605                      0.139311                     0.140304   \n",
              "mka_return_7_mean            0.0523167                     0.0504185                    0.0503591   \n",
              "mka_return_7_std              0.132554                      0.133806                     0.131243   \n",
              "SHARPE                        0.394681                      0.376804                     0.383709   \n",
              "Name (English)     CAREERLINK CO.,LTD.  GMO GlobalSign Holdings K.K.       ArtSpark Holdings Inc.   \n",
              "33 Sector(name)               Services   Information & Communication  Information & Communication   \n",
              "\n",
              "Local Code                                3962                         4308                         4488  \\\n",
              "return_7_mean                        0.0527784                    0.0515155                    0.0496978   \n",
              "return_7_std                          0.119501                     0.133991                     0.130616   \n",
              "mka_return_7_mean                    0.0488868                     0.047624                    0.0458063   \n",
              "mka_return_7_std                       0.11259                     0.137296                      0.13371   \n",
              "SHARPE                                0.434203                     0.346872                     0.342578   \n",
              "Name (English)                     CHANGE Inc.                J-Stream Inc.               AI inside Inc.   \n",
              "33 Sector(name)    Information & Communication  Information & Communication  Information & Communication   \n",
              "\n",
              "Local Code                                4490                         3633                           6937  \\\n",
              "return_7_mean                         0.047533                    0.0473343                      0.0472421   \n",
              "return_7_std                          0.130939                     0.134227                        0.21032   \n",
              "mka_return_7_mean                    0.0436415                    0.0434427                      0.0433506   \n",
              "mka_return_7_std                      0.127609                     0.132584                       0.212683   \n",
              "SHARPE                                0.341995                     0.327662                       0.203827   \n",
              "Name (English)                     VisasQ Inc.              GMO Pepabo,Inc.  The Furukawa Battery Co.,Ltd.   \n",
              "33 Sector(name)    Information & Communication  Information & Communication            Electric Appliances   \n",
              "\n",
              "Local Code                   2375                         2484                         4436  \\\n",
              "return_7_mean           0.0468191                    0.0463333                     0.046052   \n",
              "return_7_std             0.125313                      0.12567                     0.122237   \n",
              "mka_return_7_mean       0.0429276                    0.0424418                    0.0421605   \n",
              "mka_return_7_std         0.120619                      0.12772                     0.123337   \n",
              "SHARPE                   0.355893                     0.332303                     0.341831   \n",
              "Name (English)     GiG Works Inc.            DEMAE-CAN CO.,LTD    MINKABU THE INFONOID,Inc.   \n",
              "33 Sector(name)          Services  Information & Communication  Information & Communication   \n",
              "\n",
              "Local Code                                 3902          7094                     3491                         3696  \\\n",
              "return_7_mean                         0.0454708     0.0454546                  0.04455                     0.044095   \n",
              "return_7_std                          0.0927682      0.178359                 0.106805                     0.118469   \n",
              "mka_return_7_mean                     0.0415793     0.0415631                0.0406585                    0.0402035   \n",
              "mka_return_7_std                       0.092191       0.17824                 0.106459                     0.114178   \n",
              "SHARPE                                 0.451013      0.233186                 0.381919                     0.352112   \n",
              "Name (English)     Medical Data Vision Co.,Ltd.  NexTone Inc.  GAtechnologies Co.,Ltd.                   CERES INC.   \n",
              "33 Sector(name)     Information & Communication      Services              Real Estate  Information & Communication   \n",
              "\n",
              "Local Code                           9519                         3922                         4772  \\\n",
              "return_7_mean                   0.0434451                    0.0433097                    0.0407817   \n",
              "return_7_std                    0.0907689                     0.109753                     0.204277   \n",
              "mka_return_7_mean               0.0395536                    0.0394182                    0.0368901   \n",
              "mka_return_7_std                0.0922025                     0.106586                     0.204185   \n",
              "SHARPE                           0.428986                     0.369824                      0.18067   \n",
              "Name (English)                RENOVA,Inc.                PR TIMES,Inc.     Stream Media Corporation   \n",
              "33 Sector(name)    Electric Power and Gas  Information & Communication  Information & Communication   \n",
              "\n",
              "Local Code                                3031          3558                 6955          2158                 4880  \\\n",
              "return_7_mean                        0.0404383     0.0397553            0.0397012      0.039561            0.0392876   \n",
              "return_7_std                          0.108657      0.143162             0.093642      0.143526              0.12502   \n",
              "mka_return_7_mean                    0.0365468     0.0358638            0.0358097     0.0356695            0.0353961   \n",
              "mka_return_7_std                      0.106668      0.139168            0.0884396      0.135621             0.124287   \n",
              "SHARPE                                0.342622      0.257701             0.404905      0.263008             0.284794   \n",
              "Name (English)           RACCOON HOLDINGS,Inc.  LOCONDO,Inc.      FDK CORPORATION  FRONTEO,Inc.  CellSource Co.,Ltd.   \n",
              "33 Sector(name)    Information & Communication  Retail Trade  Electric Appliances      Services       Pharmaceutical   \n",
              "\n",
              "Local Code                 3328                        6532                           7685             6199  \\\n",
              "return_7_mean          0.039238                   0.0389918                      0.0389493        0.0387958   \n",
              "return_7_std          0.0866293                    0.110027                        0.12681         0.106318   \n",
              "mka_return_7_mean     0.0353464                   0.0351003                      0.0350578        0.0349043   \n",
              "mka_return_7_std      0.0789075                    0.105137                          0.117         0.100484   \n",
              "SHARPE                 0.447948                    0.333852                        0.29964         0.347363   \n",
              "Name (English)      BEENOS Inc.  BayCurrent Consulting,Inc.  BuySell Technologies Co.,Ltd.  SERAKU Co.,Ltd.   \n",
              "33 Sector(name)    Retail Trade                    Services                Wholesale Trade         Services   \n",
              "\n",
              "Local Code                                4475            7068                         4390       6195  \\\n",
              "return_7_mean                        0.0387293       0.0381364                    0.0379238  0.0379094   \n",
              "return_7_std                          0.112142         0.13853                     0.128502   0.132026   \n",
              "mka_return_7_mean                    0.0348378       0.0342448                    0.0340323  0.0340178   \n",
              "mka_return_7_std                      0.114628        0.133921                      0.12279   0.127649   \n",
              "SHARPE                                 0.30392        0.255709                     0.277158   0.266495   \n",
              "Name (English)                     HENNGE K.K.  Feedforce Inc.                     IPS,Inc.  HOPE,INC.   \n",
              "33 Sector(name)    Information & Communication        Services  Information & Communication   Services   \n",
              "\n",
              "Local Code                           9270                         3681                         4051  \\\n",
              "return_7_mean                   0.0378126                     0.037744                    0.0372792   \n",
              "return_7_std                     0.120833                     0.130931                      0.15973   \n",
              "mka_return_7_mean               0.0339211                    0.0338525                    0.0336021   \n",
              "mka_return_7_std                 0.120096                     0.138299                     0.161179   \n",
              "SHARPE                            0.28245                     0.244777                     0.208476   \n",
              "Name (English)     Valuence Holdings Inc.                  V-cube,Inc.      GMO Financial Gate,Inc.   \n",
              "33 Sector(name)           Wholesale Trade  Information & Communication  Information & Communication   \n",
              "\n",
              "Local Code                                        2929                         3674                       1407  \\\n",
              "return_7_mean                                0.0372448                     0.036933                   0.036928   \n",
              "return_7_std                                  0.119125                     0.111581                  0.0722437   \n",
              "mka_return_7_mean                            0.0333533                    0.0330415                  0.0330365   \n",
              "mka_return_7_std                               0.11289                     0.106076                    0.07264   \n",
              "SHARPE                                         0.29545                     0.311489                   0.454798   \n",
              "Name (English)     Pharma Foods International Co.,Ltd.              Aucfan Co.,Ltd.  West Holdings Corporation   \n",
              "33 Sector(name)                                  Foods  Information & Communication               Construction   \n",
              "\n",
              "Local Code                                3751            6564                               7707  \\\n",
              "return_7_mean                        0.0367069       0.0365084                          0.0364811   \n",
              "return_7_std                          0.126218       0.0929751                            0.18096   \n",
              "mka_return_7_mean                    0.0328154       0.0326168                          0.0325896   \n",
              "mka_return_7_std                      0.117291       0.0892291                           0.176762   \n",
              "SHARPE                                0.279777        0.365541                            0.18437   \n",
              "Name (English)        Japan Asia Group Limited  MIDAC CO.,LTD.  Precision System Science Co.,Ltd.   \n",
              "33 Sector(name)    Information & Communication        Services              Precision Instruments   \n",
              "\n",
              "Local Code                                  6254                  6966                                  6036  \\\n",
              "return_7_mean                          0.0364499             0.0361163                             0.0353104   \n",
              "return_7_std                            0.094664             0.0776082                              0.085109   \n",
              "mka_return_7_mean                      0.0325584             0.0322248                             0.0314189   \n",
              "mka_return_7_std                       0.0961925             0.0708049                             0.0839511   \n",
              "SHARPE                                  0.338471              0.455121                              0.374253   \n",
              "Name (English)     Nomura Micro Science Co.,Ltd.  Mitsui High-tec,Inc.  KeePer Technical Laboratory Co.,Ltd.   \n",
              "33 Sector(name)                        Machinery   Electric Appliances                              Services   \n",
              "\n",
              "Local Code                 2148                         9273  ...                    3106  \\\n",
              "return_7_mean         0.0352755                    0.0349136  ...             -0.00764299   \n",
              "return_7_std           0.103981                     0.112195  ...               0.0282548   \n",
              "mka_return_7_mean      0.031384                     0.031022  ...              -0.0115345   \n",
              "mka_return_7_std       0.103006                     0.112833  ...               0.0313578   \n",
              "SHARPE                 0.304681                     0.274938  ...               -0.367835   \n",
              "Name (English)     ITmedia Inc.  KOA SHOJI HOLDINGS CO.,LTD.  ...  KURABO INDUSTRIES LTD.   \n",
              "33 Sector(name)        Services              Wholesale Trade  ...   Textiles and Apparels   \n",
              "\n",
              "Local Code                                4495                         8399                8275  \\\n",
              "return_7_mean                      -0.00768834                  -0.00772345         -0.00775218   \n",
              "return_7_std                         0.0692532                    0.0380286           0.0495963   \n",
              "mka_return_7_mean                   -0.0113655                    -0.011615          -0.0116437   \n",
              "mka_return_7_std                     0.0704161                    0.0279092           0.0429413   \n",
              "SHARPE                               -0.161404                    -0.416169           -0.271153   \n",
              "Name (English)                 i3 Systems,Inc.  Bank of The Ryukyus,Limited  FORVAL CORPORATION   \n",
              "33 Sector(name)    Information & Communication                        Banks     Wholesale Trade   \n",
              "\n",
              "Local Code                            3151                7959                   9783  \\\n",
              "return_7_mean                  -0.00781363         -0.00786881            -0.00790603   \n",
              "return_7_std                     0.0239166           0.0469254              0.0356733   \n",
              "mka_return_7_mean               -0.0117051          -0.0117603             -0.0117975   \n",
              "mka_return_7_std                 0.0236932           0.0447998              0.0362945   \n",
              "SHARPE                            -0.49403           -0.262508               -0.32505   \n",
              "Name (English)     VITAL KSK HOLDINGS,INC.  OLIVER CORPORATION  Benesse Holdings,Inc.   \n",
              "33 Sector(name)            Wholesale Trade      Other Products               Services   \n",
              "\n",
              "Local Code                                        9640                        9021  \\\n",
              "return_7_mean                              -0.00821617                 -0.00825531   \n",
              "return_7_std                                  0.135509                   0.0552409   \n",
              "mka_return_7_mean                           -0.0120564                  -0.0121468   \n",
              "mka_return_7_std                              0.134397                   0.0464605   \n",
              "SHARPE                                      -0.0897072                   -0.261444   \n",
              "Name (English)     SAISON INFORMATION SYSTEMS CO.,LTD.  West Japan Railway Company   \n",
              "33 Sector(name)            Information & Communication         Land Transportation   \n",
              "\n",
              "Local Code                                                      9501         9729                         4434  \\\n",
              "return_7_mean                                            -0.00837114  -0.00843473                  -0.00866561   \n",
              "return_7_std                                               0.0394562    0.0351729                     0.101419   \n",
              "mka_return_7_mean                                         -0.0122627   -0.0123262                   -0.0125571   \n",
              "mka_return_7_std                                           0.0273772    0.0293708                     0.101329   \n",
              "SHARPE                                                     -0.447915    -0.419677                    -0.123924   \n",
              "Name (English)     Tokyo Electric Power Company Holdings,Incorpor...  TOKAI Corp.         Serverworks Co.,Ltd.   \n",
              "33 Sector(name)                               Electric Power and Gas     Services  Information & Communication   \n",
              "\n",
              "Local Code                     3178               6412                    9142                  1723  \\\n",
              "return_7_mean           -0.00876609        -0.00901178             -0.00915019           -0.00919375   \n",
              "return_7_std              0.0725444          0.0315359               0.0415325              0.135773   \n",
              "mka_return_7_mean        -0.0126576         -0.0129033              -0.0130417            -0.0133331   \n",
              "mka_return_7_std          0.0559269          0.0265555               0.0321575              0.135402   \n",
              "SHARPE                    -0.226324            -0.4859               -0.405557            -0.0984707   \n",
              "Name (English)     CHIMNEY CO.,LTD.  Heiwa Corporation  Kyushu Railway Company  NIHON DENGI CO.,LTD.   \n",
              "33 Sector(name)        Retail Trade          Machinery     Land Transportation          Construction   \n",
              "\n",
              "Local Code                                      4541                           7211                8214  \\\n",
              "return_7_mean                            -0.00919409                    -0.00922865         -0.00943574   \n",
              "return_7_std                               0.0365698                      0.0701188           0.0584554   \n",
              "mka_return_7_mean                         -0.0130856                     -0.0131202          -0.0133273   \n",
              "mka_return_7_std                           0.0323269                      0.0569158           0.0474678   \n",
              "SHARPE                                      -0.40479                      -0.230519           -0.280764   \n",
              "Name (English)     Nichi-Iko Pharmaceutical Co.,Ltd.  MITSUBISHI MOTORS CORPORATION  AOKI Holdings Inc.   \n",
              "33 Sector(name)                       Pharmaceutical       Transportation Equipment        Retail Trade   \n",
              "\n",
              "Local Code                     5976                         4497                    4526                   7731  \\\n",
              "return_7_mean           -0.00953542                   -0.0095683              -0.0102815             -0.0110763   \n",
              "return_7_std              0.0444556                     0.106217               0.0609642              0.0523747   \n",
              "mka_return_7_mean        -0.0134269                   -0.0134598               -0.014173             -0.0149678   \n",
              "mka_return_7_std          0.0369147                     0.108335               0.0553641              0.0423663   \n",
              "SHARPE                    -0.363729                    -0.124243               -0.255996              -0.353296   \n",
              "Name (English)     Neturen Co.,Ltd.               Locoguide Inc.  RIKEN VITAMIN CO.,LTD.      NIKON CORPORATION   \n",
              "33 Sector(name)      Metal Products  Information & Communication                   Foods  Precision Instruments   \n",
              "\n",
              "Local Code                  2226                                 9513                         4499  \\\n",
              "return_7_mean         -0.0113517                           -0.0116804                   -0.0144267   \n",
              "return_7_std            0.129787                             0.044554                     0.080331   \n",
              "mka_return_7_mean     -0.0147978                           -0.0155719                   -0.0183182   \n",
              "mka_return_7_std        0.132414                            0.0349684                    0.0820936   \n",
              "SHARPE                 -0.111754                            -0.445313                    -0.223138   \n",
              "Name (English)     KOIKE-YA Inc.  Electric Power Development Co.,Ltd.                   Speee,Inc.   \n",
              "33 Sector(name)            Foods               Electric Power and Gas  Information & Communication   \n",
              "\n",
              "Local Code                            8219                         4013                     8848  \\\n",
              "return_7_mean                   -0.0145586                   -0.0156879               -0.0186457   \n",
              "return_7_std                     0.0666569                    0.0510903                0.0783225   \n",
              "mka_return_7_mean               -0.0184501                   -0.0195794               -0.0225372   \n",
              "mka_return_7_std                  0.054112                    0.0523379                 0.072569   \n",
              "SHARPE                           -0.340962                    -0.374096                -0.310562   \n",
              "Name (English)     AOYAMA TRADING Co.,Ltd.        Nittsusystem Co.,Ltd.  LEOPALACE21 CORPORATION   \n",
              "33 Sector(name)               Retail Trade  Information & Communication              Real Estate   \n",
              "\n",
              "Local Code                                  6411                 2923                      8016  \\\n",
              "return_7_mean                         -0.0195994           -0.0201393                -0.0204678   \n",
              "return_7_std                            0.129822             0.171338                 0.0626658   \n",
              "mka_return_7_mean                     -0.0233741           -0.0237496                -0.0243593   \n",
              "mka_return_7_std                        0.131099             0.171683                 0.0515891   \n",
              "SHARPE                                 -0.178294            -0.138334                  -0.47218   \n",
              "Name (English)     NAKANO REFRIGERATORS CO.,LTD.  SATO FOODS CO.,LTD.  ONWARD HOLDINGS CO.,LTD.   \n",
              "33 Sector(name)                        Machinery                Foods     Textiles and Apparels   \n",
              "\n",
              "Local Code                                      4115                9661                                 9033  \\\n",
              "return_7_mean                             -0.0263752          -0.0308843                           -0.0312094   \n",
              "return_7_std                                0.224895             0.16654                             0.165647   \n",
              "mka_return_7_mean                          -0.029652          -0.0344765                           -0.0350918   \n",
              "mka_return_7_std                            0.220729            0.166058                                0.171   \n",
              "SHARPE                                     -0.134337           -0.207618                            -0.205215   \n",
              "Name (English)     Honshu Chemical Industry Co.,Ltd.  Kabuki-Za Co.,Ltd.  Hiroshima Electric Railway Co.,Ltd.   \n",
              "33 Sector(name)                            Chemicals            Services                  Land Transportation   \n",
              "\n",
              "Local Code                                 1799                       2268                         9441  \\\n",
              "return_7_mean                        -0.0316286                 -0.0325071                   -0.0495861   \n",
              "return_7_std                           0.182188                   0.181597                     0.269028   \n",
              "mka_return_7_mean                    -0.0357156                 -0.0361881                   -0.0528475   \n",
              "mka_return_7_std                       0.185784                   0.183526                      0.27161   \n",
              "SHARPE                                -0.192243                  -0.197182                    -0.194571   \n",
              "Name (English)     DAIICHI KENSETSU CORPORATION  B-R 31 ICE CREAM CO.,LTD.           Bell-Park Co.,Ltd.   \n",
              "33 Sector(name)                    Construction                      Foods  Information & Communication   \n",
              "\n",
              "Local Code                         1793                      7292               7169                6271  \\\n",
              "return_7_mean                -0.0649551                -0.0712867          -0.111088            -0.11275   \n",
              "return_7_std                   0.257753                  0.269789           0.334373            0.323136   \n",
              "mka_return_7_mean            -0.0685839                -0.0742255          -0.113931            -0.11497   \n",
              "mka_return_7_std               0.256748                  0.268823           0.335765            0.320999   \n",
              "SHARPE                        -0.267125                 -0.276112          -0.339318           -0.358163   \n",
              "Name (English)     OHMOTO GUMI CO.,LTD.      MURAKAMI CORPORATION  NFC Holdings,Inc.  NISSEI CORPORATION   \n",
              "33 Sector(name)            Construction  Transportation Equipment          Insurance           Machinery   \n",
              "\n",
              "Local Code                       8066               4628                    9539                              4365  \\\n",
              "return_7_mean               -0.121885          -0.174699                -0.21739                         -0.220729   \n",
              "return_7_std                 0.338677           0.385417                  0.4222                          0.414142   \n",
              "mka_return_7_mean           -0.125361          -0.177601               -0.221996                         -0.224589   \n",
              "mka_return_7_std              0.33979           0.385111                0.423252                           0.41555   \n",
              "SHARPE                      -0.368938          -0.461168               -0.524502                         -0.540462   \n",
              "Name (English)     MITANI CORPORATION  SK KAKEN CO.,LTD.      KEIYO GAS CO.,LTD.  MATSUMOTO YUSHI-SEIYAKU CO.,LTD.   \n",
              "33 Sector(name)       Wholesale Trade          Chemicals  Electric Power and Gas                         Chemicals   \n",
              "\n",
              "Local Code                                 6824                    4781                  9733                   2761  \n",
              "return_7_mean                         -0.262124               -0.266355             -0.287328              -0.352183  \n",
              "return_7_std                           0.450928                0.447209              0.457446                0.47818  \n",
              "mka_return_7_mean                     -0.264358               -0.269442             -0.292189              -0.354326  \n",
              "mka_return_7_std                       0.450287                 0.44407              0.459366               0.476025  \n",
              "SHARPE                                -0.587087               -0.606756             -0.636071              -0.744344  \n",
              "Name (English)     NEW COSMOS ELECTRIC CO.,LTD.  NIHON HOUSING CO.,LTD.  Nagase Brothers Inc.  Toshin Group co.,ltd.  \n",
              "33 Sector(name)             Electric Appliances                Services              Services        Wholesale Trade  \n",
              "\n",
              "[7 rows x 1779 columns]"
            ]
          },
          "metadata": {
            "tags": []
          },
          "execution_count": 30
        }
      ]
    },
    {
      "cell_type": "code",
      "metadata": {
        "colab": {
          "base_uri": "https://localhost:8080/",
          "height": 621
        },
        "id": "3UuWDvsUvdQq",
        "outputId": "e0aa8da9-bd40-4274-b519-5bc184bbd537"
      },
      "source": [
        "fig, ax = plt.subplots(1, 1, figsize=(10, 10))\n",
        "sns.scatterplot(x='return_7_std', y='return_7_mean', data=df_instrument, ax=ax, hue='SHARPE')\n",
        "ax.set_title('Risk-Return Curve (after April 2020)')\n",
        "ax.set_xlabel('stdev 7 day return')\n",
        "ax.set_ylabel('mean 7 day return')\n",
        "ax.grid(True)"
      ],
      "execution_count": 31,
      "outputs": [
        {
          "output_type": "display_data",
          "data": {
            "image/png": "[encoded data removed]",
            "text/plain": [
              "<Figure size 720x720 with 1 Axes>"
            ]
          },
          "metadata": {
            "tags": [],
            "needs_background": "light"
          }
        }
      ]
    },
    {
      "cell_type": "markdown",
      "metadata": {
        "id": "TYsB0BJj-dri"
      },
      "source": [
        "# 銘柄どうしの相関\n",
        "\n",
        "ポートフォリオを組むさいは、銘柄どうしの相関が小さいほうがリスクを小さくできるので、相関をみておきます。\n",
        "\n",
        "ここでは、SHARPEが大きい上位25銘柄でポートフォリオを組むものとして、これらの銘柄の相関係数をヒートマップにします。"
      ]
    },
    {
      "cell_type": "code",
      "metadata": {
        "colab": {
          "base_uri": "https://localhost:8080/",
          "height": 1000
        },
        "id": "gGFNKZ-CqE-c",
        "outputId": "c41be04e-2795-46c5-edf1-c701b29f2352"
      },
      "source": [
        "fig, ax = plt.subplots(1, 1, figsize=(10, 8))\n",
        "sns.clustermap(np.corrcoef(df_return.loc[filter_date,list(df_instrument.sort_values('SHARPE', ascending=False).head(25).index)].T))"
      ],
      "execution_count": 32,
      "outputs": [
        {
          "output_type": "execute_result",
          "data": {
            "text/plain": [
              "<seaborn.matrix.ClusterGrid at 0x7fec525d1b50>"
            ]
          },
          "metadata": {
            "tags": []
          },
          "execution_count": 32
        },
        {
          "output_type": "display_data",
          "data": {
            "image/png": "[encoded data removed]",
            "text/plain": [
              "<Figure size 720x576 with 1 Axes>"
            ]
          },
          "metadata": {
            "tags": [],
            "needs_background": "light"
          }
        },
        {
          "output_type": "display_data",
          "data": {
            "image/png": "[encoded data removed]",
            "text/plain": [
              "<Figure size 720x720 with 4 Axes>"
            ]
          },
          "metadata": {
            "tags": [],
            "needs_background": "light"
          }
        }
      ]
    },
    {
      "cell_type": "markdown",
      "metadata": {
        "id": "SzeerTXYDRnq"
      },
      "source": [
        "25銘柄の中でも相関の大きいものと小さいものがあるので、ポートフォリオを組むことでリスクが小さくなることが期待できそうです。\n",
        "もう少し工夫すると、この中からさらに相関の小さいものどうしで組んだり、リターンの大きいものどうしで組むをなどの方針が考えられます。"
      ]
    },
    {
      "cell_type": "markdown",
      "metadata": {
        "id": "l3u3TQZqbF_w"
      },
      "source": [
        "# 最適なポートフォリオの構成比について\n",
        "\n",
        "マコービッツの平均分散モデル[1]を使ってある期待収益を達成しながら、リスクを最小化する問題を解きます。最適化のコードは資料[1]のものを流用させていただきました。\n",
        "\n",
        "[1] [Pythonでポートフォリオ最適化（マーコビッツの平均分散モデル）- Qiita](https://qiita.com/yumaloop/items/d709cc9b43f18df70382)"
      ]
    },
    {
      "cell_type": "code",
      "metadata": {
        "id": "6NTMM2mLb0bg"
      },
      "source": [
        "# source: https://qiita.com/yumaloop/items/d709cc9b43f18df70382\n",
        "import cvxopt\n",
        "\n",
        "def cvxopt_qp_solver(r, r_e, cov):\n",
        "    # CVXOPT QP Solver for Markowitz' Mean-Variance Model\n",
        "    # See https://cvxopt.org/userguide/coneprog.html#quadratic-programming\n",
        "    # See https://cdn.hackaday.io/files/277521187341568/art-mpt.pdf\n",
        "    n = len(r)\n",
        "    r = cvxopt.matrix(r)\n",
        "\n",
        "    P = cvxopt.matrix(2.0 * np.array(cov))\n",
        "    q = cvxopt.matrix(np.zeros((n, 1)))\n",
        "    G = cvxopt.matrix(np.concatenate((-np.transpose(r), -np.identity(n)), 0))\n",
        "    h = cvxopt.matrix(np.concatenate((-np.ones((1,1)) * r_e, np.zeros((n,1))), 0))\n",
        "    A = cvxopt.matrix(1.0, (1, n))\n",
        "    b = cvxopt.matrix(1.0)    \n",
        "    sol = cvxopt.solvers.qp(P, q, G, h, A, b)\n",
        "    return sol"
      ],
      "execution_count": 33,
      "outputs": []
    },
    {
      "cell_type": "markdown",
      "metadata": {
        "id": "4ypH-YfBgkPa"
      },
      "source": [
        "最適化の結果、比率が低すぎてほぼ選択されていないのと同様の銘柄ができるため、SHARPEの大きい75銘柄から構成します。\n",
        "期待収益は 5% としました。"
      ]
    },
    {
      "cell_type": "code",
      "metadata": {
        "id": "JLbVQrA0cXQX"
      },
      "source": [
        "df_portfolio = df_return.loc[:,list(df_instrument.sort_values('SHARPE', ascending=False).head(50).index)]"
      ],
      "execution_count": 34,
      "outputs": []
    },
    {
      "cell_type": "code",
      "metadata": {
        "id": "A6aNiomnjdWk"
      },
      "source": [
        "def optimize_portfolio(df_portfolio, r_e=.05):\n",
        "  r = df_portfolio.mean().values # Expected returns\n",
        "  r_e = r_e # Lower bound for portfolio's return\n",
        "  cov = df_portfolio.cov() # Covariance matrix\n",
        "\n",
        "  # Solve QP and derive optimal portfolio\n",
        "  sol = cvxopt_qp_solver(r, r_e, cov)\n",
        "  x_opt = np.array(sol['x'])\n",
        "\n",
        "  exp_return = np.inner(x_opt.ravel(), r)\n",
        "  var_return = sol[\"primal objective\"]\n",
        "\n",
        "  return x_opt, exp_return, var_return"
      ],
      "execution_count": 35,
      "outputs": []
    },
    {
      "cell_type": "code",
      "metadata": {
        "colab": {
          "base_uri": "https://localhost:8080/"
        },
        "id": "SUGl6EYNcwvu",
        "outputId": "5f55fe60-d189-40bb-a7b4-40addfa8e5e4"
      },
      "source": [
        "x_opt, exp_return, var_return = optimize_portfolio(df_portfolio, r_e=.04)\n",
        "\n",
        "print(f'Expected return: {exp_return:5.5f}:')\n",
        "print(f'Variance of return: {var_return:5.5f}')"
      ],
      "execution_count": 36,
      "outputs": [
        {
          "output_type": "stream",
          "text": [
            "     pcost       dcost       gap    pres   dres\n",
            " 0:  2.2819e-03 -9.7508e-01  5e+01  7e+00  7e+00\n",
            " 1:  2.4068e-03 -9.3760e-01  3e+00  2e-01  2e-01\n",
            " 2:  2.4809e-03 -7.6272e-01  2e+00  2e-01  2e-01\n",
            " 3:  7.4230e-03 -2.1204e-01  2e+00  8e-02  8e-02\n",
            " 4:  1.6194e-02 -2.4979e-01  4e-01  1e-02  1e-02\n",
            " 5:  1.7710e-02 -3.2259e-02  5e-02  1e-05  1e-05\n",
            " 6:  1.1113e-02 -2.5116e-02  4e-02  1e-16  7e-15\n",
            " 7:  9.3052e-03  3.2411e-04  9e-03  2e-16  2e-14\n",
            " 8:  8.2900e-03  6.3187e-03  2e-03  2e-16  8e-15\n",
            " 9:  7.2386e-03  5.7917e-03  1e-03  7e-17  5e-15\n",
            "10:  7.1250e-03  6.8275e-03  3e-04  3e-17  1e-14\n",
            "11:  7.0649e-03  7.0088e-03  6e-05  1e-16  5e-14\n",
            "12:  7.0339e-03  7.0329e-03  1e-06  1e-16  5e-15\n",
            "13:  7.0332e-03  7.0332e-03  1e-08  2e-16  1e-13\n",
            "Optimal solution found.\n",
            "Expected return: 0.04000:\n",
            "Variance of return: 0.00703\n"
          ],
          "name": "stdout"
        }
      ]
    },
    {
      "cell_type": "markdown",
      "metadata": {
        "id": "0Rj_mvfghGu9"
      },
      "source": [
        "期待収益が4%に対して、リスクは 0.7% とかなり小さくなりました。実際の構成比を可視化してみます。"
      ]
    },
    {
      "cell_type": "code",
      "metadata": {
        "colab": {
          "base_uri": "https://localhost:8080/",
          "height": 282
        },
        "id": "Bi4PM2RVd1nZ",
        "outputId": "304f8730-74cf-4a73-fae1-3755fd6ce889"
      },
      "source": [
        "plt.plot(x_opt)"
      ],
      "execution_count": 37,
      "outputs": [
        {
          "output_type": "execute_result",
          "data": {
            "text/plain": [
              "[<matplotlib.lines.Line2D at 0x7fec52449150>]"
            ]
          },
          "metadata": {
            "tags": []
          },
          "execution_count": 37
        },
        {
          "output_type": "display_data",
          "data": {
            "image/png": "[encoded data removed]",
            "text/plain": [
              "<Figure size 432x288 with 1 Axes>"
            ]
          },
          "metadata": {
            "tags": [],
            "needs_background": "light"
          }
        }
      ]
    },
    {
      "cell_type": "markdown",
      "metadata": {
        "id": "IR9h7bfJf7Z4"
      },
      "source": [
        "比率が1%未満のものをのぞくと、5銘柄でポートフォリオを組んでいます。\n",
        "\n",
        "ランタイム環境では5銘柄以上を選択しないと失格となるため、4銘柄以下だった場合の対応が必要です。"
      ]
    },
    {
      "cell_type": "markdown",
      "metadata": {
        "id": "fIlqGUDAmCTZ"
      },
      "source": [
        "## 期待収益の最適化\n",
        "\n",
        "期待収益をパラメータとみなして変化させて、期待収益とリスクの関係をプロットしてみます。"
      ]
    },
    {
      "cell_type": "code",
      "metadata": {
        "colab": {
          "base_uri": "https://localhost:8080/"
        },
        "id": "6wxLu0xrlEeF",
        "outputId": "545300fb-f2c7-4356-c221-113bd3a9fcfc"
      },
      "source": [
        "portfolios = []\n",
        "\n",
        "for r_e in np.linspace(0.00, 0.04, 10):\n",
        "  x_opt, exp_return, var_return = optimize_portfolio(df_portfolio, r_e=r_e)\n",
        "  portfolios.append((x_opt, exp_return, var_return, r_e))"
      ],
      "execution_count": 38,
      "outputs": [
        {
          "output_type": "stream",
          "text": [
            "     pcost       dcost       gap    pres   dres\n",
            " 0:  2.2710e-03 -1.0160e+00  1e+00  4e-18  7e+00\n",
            " 1:  2.2677e-03 -1.0270e-02  1e-02  3e-17  9e-02\n",
            " 2:  2.0759e-03 -6.9863e-05  2e-03  2e-16  1e-02\n",
            " 3:  1.2728e-03 -6.2279e-04  2e-03  8e-17  4e-03\n",
            " 4:  1.1516e-03  6.7739e-04  5e-04  6e-17  9e-04\n",
            " 5:  1.3226e-03  3.9937e-04  9e-04  1e-16  4e-04\n",
            " 6:  1.0666e-03  8.9847e-04  2e-04  8e-17  4e-18\n",
            " 7:  1.0069e-03  9.7563e-04  3e-05  6e-17  4e-18\n",
            " 8:  9.9436e-04  9.9070e-04  4e-06  3e-17  3e-18\n",
            " 9:  9.9264e-04  9.9252e-04  1e-07  2e-16  4e-18\n",
            "10:  9.9259e-04  9.9259e-04  1e-09  2e-16  3e-18\n",
            "Optimal solution found.\n",
            "     pcost       dcost       gap    pres   dres\n",
            " 0:  2.2722e-03 -1.0116e+00  1e+00  1e-16  7e+00\n",
            " 1:  2.2689e-03 -1.0216e-02  1e-02  3e-17  9e-02\n",
            " 2:  2.0766e-03 -6.0991e-05  2e-03  3e-17  1e-02\n",
            " 3:  1.2725e-03 -6.1605e-04  2e-03  2e-16  4e-03\n",
            " 4:  1.1508e-03  6.8267e-04  5e-04  2e-16  9e-04\n",
            " 5:  1.3062e-03  4.5642e-04  8e-04  4e-17  2e-04\n",
            " 6:  1.0532e-03  9.1737e-04  1e-04  2e-16  5e-07\n",
            " 7:  1.0032e-03  9.7920e-04  2e-05  8e-17  4e-08\n",
            " 8:  9.9399e-04  9.9099e-04  3e-06  7e-17  4e-18\n",
            " 9:  9.9262e-04  9.9255e-04  8e-08  6e-17  3e-18\n",
            "Optimal solution found.\n",
            "     pcost       dcost       gap    pres   dres\n",
            " 0:  2.2734e-03 -1.0071e+00  1e+00  4e-18  7e+00\n",
            " 1:  2.2701e-03 -1.0160e-02  1e-02  2e-16  9e-02\n",
            " 2:  2.0775e-03 -5.1258e-05  2e-03  3e-17  1e-02\n",
            " 3:  1.2713e-03 -6.0431e-04  2e-03  8e-16  4e-03\n",
            " 4:  1.1491e-03  6.9123e-04  5e-04  2e-16  8e-04\n",
            " 5:  1.1504e-03  7.3301e-04  4e-04  3e-17  5e-18\n",
            " 6:  1.0279e-03  9.5102e-04  8e-05  2e-16  4e-18\n",
            " 7:  9.9835e-04  9.8563e-04  1e-05  1e-16  4e-18\n",
            " 8:  9.9308e-04  9.9214e-04  9e-07  1e-16  3e-18\n",
            " 9:  9.9260e-04  9.9258e-04  2e-08  2e-16  3e-18\n",
            "Optimal solution found.\n",
            "     pcost       dcost       gap    pres   dres\n",
            " 0:  2.2746e-03 -1.0026e+00  1e+00  2e-16  7e+00\n",
            " 1:  2.2713e-03 -1.0099e-02  1e-02  3e-16  9e-02\n",
            " 2:  2.0786e-03 -3.5885e-05  2e-03  3e-17  1e-02\n",
            " 3:  1.4961e-03 -2.7737e-04  2e-03  1e-16  8e-03\n",
            " 4:  1.2624e-03  7.6440e-04  5e-04  7e-17  3e-05\n",
            " 5:  1.1176e-03  9.7373e-04  1e-04  1e-17  7e-06\n",
            " 6:  1.0598e-03  1.0119e-03  5e-05  8e-17  4e-18\n",
            " 7:  1.0350e-03  1.0304e-03  5e-06  2e-16  4e-18\n",
            " 8:  1.0318e-03  1.0317e-03  9e-08  6e-17  1e-17\n",
            "Optimal solution found.\n",
            "     pcost       dcost       gap    pres   dres\n",
            " 0:  2.2758e-03 -9.9805e-01  5e+01  7e+00  7e+00\n",
            " 1:  2.3992e-03 -9.6003e-01  2e+00  8e-02  8e-02\n",
            " 2:  2.3995e-03 -2.2876e-01  2e-01  8e-03  9e-03\n",
            " 3:  2.4779e-03 -1.6597e-02  2e-02  3e-04  3e-04\n",
            " 4:  2.2656e-03 -2.1698e-03  4e-03  6e-05  6e-05\n",
            " 5:  1.8212e-03 -6.1978e-04  2e-03  6e-06  6e-06\n",
            " 6:  1.6013e-03  7.5429e-04  8e-04  2e-06  2e-06\n",
            " 7:  1.3707e-03  8.9697e-04  5e-04  1e-16  3e-17\n",
            " 8:  1.2465e-03  1.1729e-03  7e-05  2e-16  8e-18\n",
            " 9:  1.2158e-03  1.2010e-03  1e-05  2e-16  3e-17\n",
            "10:  1.2062e-03  1.2057e-03  6e-07  7e-17  4e-17\n",
            "11:  1.2058e-03  1.2058e-03  1e-08  6e-17  2e-16\n",
            "Optimal solution found.\n",
            "     pcost       dcost       gap    pres   dres\n",
            " 0:  2.2770e-03 -9.9347e-01  5e+01  7e+00  7e+00\n",
            " 1:  2.4006e-03 -9.5572e-01  2e+00  1e-01  1e-01\n",
            " 2:  2.4105e-03 -5.0190e-01  7e-01  4e-02  4e-02\n",
            " 3:  3.1469e-03 -3.7129e-01  5e-01  2e-02  2e-02\n",
            " 4:  3.6270e-03 -6.7448e-02  7e-02  2e-16  1e-15\n",
            " 5:  3.3288e-03 -3.9543e-03  7e-03  3e-17  2e-16\n",
            " 6:  2.1906e-03 -2.9014e-03  5e-03  1e-16  6e-17\n",
            " 7:  2.0130e-03  5.2570e-04  1e-03  1e-16  2e-17\n",
            " 8:  1.7244e-03  1.2272e-03  5e-04  2e-16  1e-17\n",
            " 9:  1.5804e-03  1.4644e-03  1e-04  9e-17  9e-17\n",
            "10:  1.5315e-03  1.5152e-03  2e-05  1e-16  6e-17\n",
            "11:  1.5209e-03  1.5197e-03  1e-06  1e-16  2e-16\n",
            "12:  1.5201e-03  1.5200e-03  2e-08  7e-17  4e-16\n",
            "Optimal solution found.\n",
            "     pcost       dcost       gap    pres   dres\n",
            " 0:  2.2782e-03 -9.8893e-01  5e+01  7e+00  7e+00\n",
            " 1:  2.4020e-03 -9.5137e-01  2e+00  1e-01  1e-01\n",
            " 2:  2.4237e-03 -6.4476e-01  1e+00  7e-02  7e-02\n",
            " 3:  3.5987e-03 -4.6460e-01  8e-01  4e-02  4e-02\n",
            " 4:  5.8542e-03 -2.5035e-01  3e-01  3e-16  2e-15\n",
            " 5:  5.5752e-03 -1.8814e-02  2e-02  1e-16  9e-16\n",
            " 6:  3.5496e-03 -5.5257e-03  9e-03  2e-16  2e-16\n",
            " 7:  2.9280e-03 -2.6721e-04  3e-03  6e-17  5e-17\n",
            " 8:  2.3513e-03  1.4895e-03  9e-04  1e-16  7e-17\n",
            " 9:  2.1754e-03  1.8473e-03  3e-04  1e-16  5e-17\n",
            "10:  2.0451e-03  1.9102e-03  1e-04  4e-17  8e-17\n",
            "11:  1.9843e-03  1.9735e-03  1e-05  7e-17  1e-16\n",
            "12:  1.9760e-03  1.9757e-03  2e-07  2e-16  7e-16\n",
            "13:  1.9758e-03  1.9758e-03  3e-09  2e-16  3e-15\n",
            "Optimal solution found.\n",
            "     pcost       dcost       gap    pres   dres\n",
            " 0:  2.2795e-03 -9.8435e-01  5e+01  7e+00  7e+00\n",
            " 1:  2.4036e-03 -9.4690e-01  2e+00  2e-01  2e-01\n",
            " 2:  2.4394e-03 -7.1973e-01  1e+00  1e-01  1e-01\n",
            " 3:  4.2326e-03 -4.4061e-01  1e+00  6e-02  6e-02\n",
            " 4:  9.1859e-03 -3.5803e-01  4e-01  4e-17  4e-15\n",
            " 5:  8.9767e-03 -3.2247e-02  4e-02  2e-16  2e-15\n",
            " 6:  5.2578e-03 -3.4453e-02  4e-02  1e-16  1e-15\n",
            " 7:  4.8973e-03 -1.2820e-03  6e-03  2e-17  3e-16\n",
            " 8:  3.0279e-03 -2.1831e-03  5e-03  1e-16  3e-16\n",
            " 9:  2.9136e-03  1.8385e-03  1e-03  6e-17  7e-16\n",
            "10:  2.8249e-03  2.1375e-03  7e-04  1e-16  1e-15\n",
            "11:  2.7002e-03  2.5624e-03  1e-04  1e-16  7e-16\n",
            "12:  2.6532e-03  2.6239e-03  3e-05  2e-16  4e-16\n",
            "13:  2.6356e-03  2.6346e-03  1e-06  3e-17  8e-16\n",
            "14:  2.6348e-03  2.6348e-03  3e-08  1e-16  4e-15\n",
            "Optimal solution found.\n",
            "     pcost       dcost       gap    pres   dres\n",
            " 0:  2.2807e-03 -9.7974e-01  5e+01  7e+00  7e+00\n",
            " 1:  2.4052e-03 -9.4231e-01  2e+00  2e-01  2e-01\n",
            " 2:  2.4583e-03 -7.5453e-01  2e+00  1e-01  1e-01\n",
            " 3:  5.3177e-03 -3.5276e-01  1e+00  8e-02  8e-02\n",
            " 4:  1.2671e-02 -3.6213e-01  4e-01  5e-03  5e-03\n",
            " 5:  1.3064e-02 -3.8526e-02  5e-02  6e-04  6e-04\n",
            " 6:  6.9904e-03 -5.3613e-02  6e-02  1e-04  2e-04\n",
            " 7:  6.7030e-03 -5.4574e-03  1e-02  3e-05  3e-05\n",
            " 8:  6.4137e-03 -4.0225e-04  7e-03  2e-16  3e-15\n",
            " 9:  4.8824e-03  2.9326e-03  2e-03  1e-16  2e-15\n",
            "10:  4.1451e-03  3.7764e-03  4e-04  2e-16  1e-15\n",
            "11:  3.9541e-03  3.9235e-03  3e-05  2e-16  2e-15\n",
            "12:  3.9328e-03  3.9318e-03  1e-06  8e-17  5e-15\n",
            "13:  3.9322e-03  3.9321e-03  1e-08  1e-16  3e-14\n",
            "Optimal solution found.\n",
            "     pcost       dcost       gap    pres   dres\n",
            " 0:  2.2819e-03 -9.7508e-01  5e+01  7e+00  7e+00\n",
            " 1:  2.4068e-03 -9.3760e-01  3e+00  2e-01  2e-01\n",
            " 2:  2.4809e-03 -7.6272e-01  2e+00  2e-01  2e-01\n",
            " 3:  7.4230e-03 -2.1204e-01  2e+00  8e-02  8e-02\n",
            " 4:  1.6194e-02 -2.4979e-01  4e-01  1e-02  1e-02\n",
            " 5:  1.7710e-02 -3.2259e-02  5e-02  1e-05  1e-05\n",
            " 6:  1.1113e-02 -2.5116e-02  4e-02  1e-16  7e-15\n",
            " 7:  9.3052e-03  3.2411e-04  9e-03  2e-16  2e-14\n",
            " 8:  8.2900e-03  6.3187e-03  2e-03  2e-16  8e-15\n",
            " 9:  7.2386e-03  5.7917e-03  1e-03  7e-17  5e-15\n",
            "10:  7.1250e-03  6.8275e-03  3e-04  3e-17  1e-14\n",
            "11:  7.0649e-03  7.0088e-03  6e-05  1e-16  5e-14\n",
            "12:  7.0339e-03  7.0329e-03  1e-06  1e-16  5e-15\n",
            "13:  7.0332e-03  7.0332e-03  1e-08  2e-16  1e-13\n",
            "Optimal solution found.\n"
          ],
          "name": "stdout"
        }
      ]
    },
    {
      "cell_type": "markdown",
      "metadata": {
        "id": "cLYgCG4dpn_x"
      },
      "source": [
        "最適なポートフォリオを組んだ場合のリターンーリスク曲線をプロットします。\n",
        "ポートフォリオを組んだ場合でもリターンが大きいほどリスクが増大する傾向にあることがわかります。"
      ]
    },
    {
      "cell_type": "code",
      "metadata": {
        "colab": {
          "base_uri": "https://localhost:8080/",
          "height": 313
        },
        "id": "mDJehkbPmNJD",
        "outputId": "bf467faf-2d3b-4759-a146-f3692419dde5"
      },
      "source": [
        "mean = np.array([elem[1] for elem in portfolios])\n",
        "variance = np.array([elem[2] for elem in portfolios])\n",
        "\n",
        "plt.plot(np.sqrt(variance), mean)\n",
        "plt.ylabel('Mean Return')\n",
        "plt.xlabel('Variance of Return')\n",
        "plt.title('Return-Risk Curve of Optimized Portfolio')"
      ],
      "execution_count": 39,
      "outputs": [
        {
          "output_type": "execute_result",
          "data": {
            "text/plain": [
              "Text(0.5, 1.0, 'Return-Risk Curve of Optimized Portfolio')"
            ]
          },
          "metadata": {
            "tags": []
          },
          "execution_count": 39
        },
        {
          "output_type": "display_data",
          "data": {
            "image/png": "[encoded data removed]",
            "text/plain": [
              "<Figure size 432x288 with 1 Axes>"
            ]
          },
          "metadata": {
            "tags": [],
            "needs_background": "light"
          }
        }
      ]
    },
    {
      "cell_type": "markdown",
      "metadata": {
        "id": "dKm46Q_6p92J"
      },
      "source": [
        "この曲線からは期待収益をどのような値に選べばよいか判断できないため、平均値 - n * σ の点をプロットします。"
      ]
    },
    {
      "cell_type": "code",
      "metadata": {
        "colab": {
          "base_uri": "https://localhost:8080/",
          "height": 313
        },
        "id": "T7XGfoNRo-am",
        "outputId": "afb21f68-a95f-4d4d-ff5a-f1401bf6d3aa"
      },
      "source": [
        "plt.plot(mean, mean, label='mean', c='black')\n",
        "plt.plot(mean, mean - np.sqrt(variance), label='mean - sigma', c='orange')\n",
        "plt.plot(mean, mean - np.sqrt(variance) * 2, label='mean - 2 sigma', c='red')\n",
        "\n",
        "plt.xlabel('Mean Return')\n",
        "plt.ylabel('Mean - N * sigma')\n",
        "plt.title('Return-Risk Curve of Optimized Portfolio')\n",
        "plt.legend()"
      ],
      "execution_count": 40,
      "outputs": [
        {
          "output_type": "execute_result",
          "data": {
            "text/plain": [
              "<matplotlib.legend.Legend at 0x7fec522d70d0>"
            ]
          },
          "metadata": {
            "tags": []
          },
          "execution_count": 40
        },
        {
          "output_type": "display_data",
          "data": {
            "image/png": "[encoded data removed]",
            "text/plain": [
              "<Figure size 432x288 with 1 Axes>"
            ]
          },
          "metadata": {
            "tags": [],
            "needs_background": "light"
          }
        }
      ]
    },
    {
      "cell_type": "markdown",
      "metadata": {
        "id": "gvxUUBXSrbqD"
      },
      "source": [
        "このプロットから、以下のことがわかります。\n",
        "* 期待収益を 3.6% あたりにとれば、$P(\\mu - \\sigma > r)$ の確率でリターンは-1.6%以上となる\n",
        "*期待収益を 3.6% あたりにとれば、$P(\\mu - 2 \\sigma > r)$ の確率でリターンは-5.0%以上となる\n",
        "\n",
        "このように、リターンの最悪のケースを保証しながら、リターンの期待値を大きくとる方針を立てることができました。\n",
        "\n",
        "（余談ですが、2020年4月〜12月の相場においては、どの銘柄もリスクに見合うリターンが得られていないようです。）"
      ]
    },
    {
      "cell_type": "markdown",
      "metadata": {
        "id": "mDAiJPCLE2TN"
      },
      "source": [
        "# まとめ：ポートフォリオの組み方について\n",
        "\n",
        "このnotebookでは、静的な統計解析の結果から良いポートフォリオを組む方針について考察しました。\n",
        "具体的には、以下について言及しました。\n",
        "\n",
        "* 銘柄を選ぶときは、リスクが同じだと、リターンが大きくなるように選ぶ\n",
        "* なるべく銘柄どうしの相関が小さくなるように選ぶほうがリスクが小さくなる（共倒れしにくくなる）\n",
        "* マコービッツの平均分散モデルによって、期待収益を満たす最小リスクの銘柄選択を示した\n",
        "\n",
        "以下については触れませんでした。\n",
        "\n",
        "* モデルを使って予測した結果をポートフォリオに反映する方針について"
      ]
    }
  ]
}