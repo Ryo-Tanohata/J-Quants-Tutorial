{
  "nbformat": 4,
  "nbformat_minor": 0,
  "metadata": {
    "colab": {
      "name": "20210224_chapter03_tutorial.ipynb",
      "provenance": [],
      "collapsed_sections": [],
      "toc_visible": true,
      "include_colab_link": true
    },
    "kernelspec": {
      "display_name": "Python 3",
      "language": "python",
      "name": "python3"
    },
    "language_info": {
      "codemirror_mode": {
        "name": "ipython",
        "version": 3
      },
      "file_extension": ".py",
      "mimetype": "text/x-python",
      "name": "python",
      "nbconvert_exporter": "python",
      "pygments_lexer": "ipython3",
      "version": "3.7.3"
    },
    "widgets": {
      "application/vnd.jupyter.widget-state+json": {
        "447d01f438224e8eaa8388633098b99f": {
          "model_module": "@jupyter-widgets/controls",
          "model_name": "HBoxModel",
          "state": {
            "_view_name": "HBoxView",
            "_dom_classes": [],
            "_model_name": "HBoxModel",
            "_view_module": "@jupyter-widgets/controls",
            "_model_module_version": "1.5.0",
            "_view_count": null,
            "_view_module_version": "1.5.0",
            "box_style": "",
            "layout": "IPY_MODEL_224069d80bcb4a449ab4619e85cb39f7",
            "_model_module": "@jupyter-widgets/controls",
            "children": [
              "IPY_MODEL_7eb63bdaa82d4a38a5979d3d07040e99",
              "IPY_MODEL_171eba795b1e45c6a115f2516016e7ac"
            ]
          }
        },
        "224069d80bcb4a449ab4619e85cb39f7": {
          "model_module": "@jupyter-widgets/base",
          "model_name": "LayoutModel",
          "state": {
            "_view_name": "LayoutView",
            "grid_template_rows": null,
            "right": null,
            "justify_content": null,
            "_view_module": "@jupyter-widgets/base",
            "overflow": null,
            "_model_module_version": "1.2.0",
            "_view_count": null,
            "flex_flow": null,
            "width": null,
            "min_width": null,
            "border": null,
            "align_items": null,
            "bottom": null,
            "_model_module": "@jupyter-widgets/base",
            "top": null,
            "grid_column": null,
            "overflow_y": null,
            "overflow_x": null,
            "grid_auto_flow": null,
            "grid_area": null,
            "grid_template_columns": null,
            "flex": null,
            "_model_name": "LayoutModel",
            "justify_items": null,
            "grid_row": null,
            "max_height": null,
            "align_content": null,
            "visibility": null,
            "align_self": null,
            "height": null,
            "min_height": null,
            "padding": null,
            "grid_auto_rows": null,
            "grid_gap": null,
            "max_width": null,
            "order": null,
            "_view_module_version": "1.2.0",
            "grid_template_areas": null,
            "object_position": null,
            "object_fit": null,
            "grid_auto_columns": null,
            "margin": null,
            "display": null,
            "left": null
          }
        },
        "7eb63bdaa82d4a38a5979d3d07040e99": {
          "model_module": "@jupyter-widgets/controls",
          "model_name": "FloatProgressModel",
          "state": {
            "_view_name": "ProgressView",
            "style": "IPY_MODEL_c15ba4c730fa4bf987cbcecd162c749a",
            "_dom_classes": [],
            "description": "100%",
            "_model_name": "FloatProgressModel",
            "bar_style": "success",
            "max": 2,
            "_view_module": "@jupyter-widgets/controls",
            "_model_module_version": "1.5.0",
            "value": 2,
            "_view_count": null,
            "_view_module_version": "1.5.0",
            "orientation": "horizontal",
            "min": 0,
            "description_tooltip": null,
            "_model_module": "@jupyter-widgets/controls",
            "layout": "IPY_MODEL_195a2e6facdf4705a88ca42cb4e8b4b8"
          }
        },
        "171eba795b1e45c6a115f2516016e7ac": {
          "model_module": "@jupyter-widgets/controls",
          "model_name": "HTMLModel",
          "state": {
            "_view_name": "HTMLView",
            "style": "IPY_MODEL_d5ce1d27dfdd472792845fd015eac791",
            "_dom_classes": [],
            "description": "",
            "_model_name": "HTMLModel",
            "placeholder": "​",
            "_view_module": "@jupyter-widgets/controls",
            "_model_module_version": "1.5.0",
            "value": " 2/2 [00:45&lt;00:00, 22.61s/it]",
            "_view_count": null,
            "_view_module_version": "1.5.0",
            "description_tooltip": null,
            "_model_module": "@jupyter-widgets/controls",
            "layout": "IPY_MODEL_9707e9fc65f74a5cb535f4f82fd0a920"
          }
        },
        "c15ba4c730fa4bf987cbcecd162c749a": {
          "model_module": "@jupyter-widgets/controls",
          "model_name": "ProgressStyleModel",
          "state": {
            "_view_name": "StyleView",
            "_model_name": "ProgressStyleModel",
            "description_width": "initial",
            "_view_module": "@jupyter-widgets/base",
            "_model_module_version": "1.5.0",
            "_view_count": null,
            "_view_module_version": "1.2.0",
            "bar_color": null,
            "_model_module": "@jupyter-widgets/controls"
          }
        },
        "195a2e6facdf4705a88ca42cb4e8b4b8": {
          "model_module": "@jupyter-widgets/base",
          "model_name": "LayoutModel",
          "state": {
            "_view_name": "LayoutView",
            "grid_template_rows": null,
            "right": null,
            "justify_content": null,
            "_view_module": "@jupyter-widgets/base",
            "overflow": null,
            "_model_module_version": "1.2.0",
            "_view_count": null,
            "flex_flow": null,
            "width": null,
            "min_width": null,
            "border": null,
            "align_items": null,
            "bottom": null,
            "_model_module": "@jupyter-widgets/base",
            "top": null,
            "grid_column": null,
            "overflow_y": null,
            "overflow_x": null,
            "grid_auto_flow": null,
            "grid_area": null,
            "grid_template_columns": null,
            "flex": null,
            "_model_name": "LayoutModel",
            "justify_items": null,
            "grid_row": null,
            "max_height": null,
            "align_content": null,
            "visibility": null,
            "align_self": null,
            "height": null,
            "min_height": null,
            "padding": null,
            "grid_auto_rows": null,
            "grid_gap": null,
            "max_width": null,
            "order": null,
            "_view_module_version": "1.2.0",
            "grid_template_areas": null,
            "object_position": null,
            "object_fit": null,
            "grid_auto_columns": null,
            "margin": null,
            "display": null,
            "left": null
          }
        },
        "d5ce1d27dfdd472792845fd015eac791": {
          "model_module": "@jupyter-widgets/controls",
          "model_name": "DescriptionStyleModel",
          "state": {
            "_view_name": "StyleView",
            "_model_name": "DescriptionStyleModel",
            "description_width": "",
            "_view_module": "@jupyter-widgets/base",
            "_model_module_version": "1.5.0",
            "_view_count": null,
            "_view_module_version": "1.2.0",
            "_model_module": "@jupyter-widgets/controls"
          }
        },
        "9707e9fc65f74a5cb535f4f82fd0a920": {
          "model_module": "@jupyter-widgets/base",
          "model_name": "LayoutModel",
          "state": {
            "_view_name": "LayoutView",
            "grid_template_rows": null,
            "right": null,
            "justify_content": null,
            "_view_module": "@jupyter-widgets/base",
            "overflow": null,
            "_model_module_version": "1.2.0",
            "_view_count": null,
            "flex_flow": null,
            "width": null,
            "min_width": null,
            "border": null,
            "align_items": null,
            "bottom": null,
            "_model_module": "@jupyter-widgets/base",
            "top": null,
            "grid_column": null,
            "overflow_y": null,
            "overflow_x": null,
            "grid_auto_flow": null,
            "grid_area": null,
            "grid_template_columns": null,
            "flex": null,
            "_model_name": "LayoutModel",
            "justify_items": null,
            "grid_row": null,
            "max_height": null,
            "align_content": null,
            "visibility": null,
            "align_self": null,
            "height": null,
            "min_height": null,
            "padding": null,
            "grid_auto_rows": null,
            "grid_gap": null,
            "max_width": null,
            "order": null,
            "_view_module_version": "1.2.0",
            "grid_template_areas": null,
            "object_position": null,
            "object_fit": null,
            "grid_auto_columns": null,
            "margin": null,
            "display": null,
            "left": null
          }
        },
        "0e658427d6b24cad9382f2340f361cd0": {
          "model_module": "@jupyter-widgets/controls",
          "model_name": "HBoxModel",
          "state": {
            "_view_name": "HBoxView",
            "_dom_classes": [],
            "_model_name": "HBoxModel",
            "_view_module": "@jupyter-widgets/controls",
            "_model_module_version": "1.5.0",
            "_view_count": null,
            "_view_module_version": "1.5.0",
            "box_style": "",
            "layout": "IPY_MODEL_58f587f4b6214c40938e8aa00234a793",
            "_model_module": "@jupyter-widgets/controls",
            "children": [
              "IPY_MODEL_f656c26eb78341c2a812adef8eb49a68",
              "IPY_MODEL_abaf631b7e6e41da95833be38590ce8d"
            ]
          }
        },
        "58f587f4b6214c40938e8aa00234a793": {
          "model_module": "@jupyter-widgets/base",
          "model_name": "LayoutModel",
          "state": {
            "_view_name": "LayoutView",
            "grid_template_rows": null,
            "right": null,
            "justify_content": null,
            "_view_module": "@jupyter-widgets/base",
            "overflow": null,
            "_model_module_version": "1.2.0",
            "_view_count": null,
            "flex_flow": null,
            "width": null,
            "min_width": null,
            "border": null,
            "align_items": null,
            "bottom": null,
            "_model_module": "@jupyter-widgets/base",
            "top": null,
            "grid_column": null,
            "overflow_y": null,
            "overflow_x": null,
            "grid_auto_flow": null,
            "grid_area": null,
            "grid_template_columns": null,
            "flex": null,
            "_model_name": "LayoutModel",
            "justify_items": null,
            "grid_row": null,
            "max_height": null,
            "align_content": null,
            "visibility": null,
            "align_self": null,
            "height": null,
            "min_height": null,
            "padding": null,
            "grid_auto_rows": null,
            "grid_gap": null,
            "max_width": null,
            "order": null,
            "_view_module_version": "1.2.0",
            "grid_template_areas": null,
            "object_position": null,
            "object_fit": null,
            "grid_auto_columns": null,
            "margin": null,
            "display": null,
            "left": null
          }
        },
        "f656c26eb78341c2a812adef8eb49a68": {
          "model_module": "@jupyter-widgets/controls",
          "model_name": "FloatProgressModel",
          "state": {
            "_view_name": "ProgressView",
            "style": "IPY_MODEL_b007ad509c0245cb98ec02b8eb8ba03a",
            "_dom_classes": [],
            "description": "100%",
            "_model_name": "FloatProgressModel",
            "bar_style": "success",
            "max": 52,
            "_view_module": "@jupyter-widgets/controls",
            "_model_module_version": "1.5.0",
            "value": 52,
            "_view_count": null,
            "_view_module_version": "1.5.0",
            "orientation": "horizontal",
            "min": 0,
            "description_tooltip": null,
            "_model_module": "@jupyter-widgets/controls",
            "layout": "IPY_MODEL_79891570dcdc44b9b79b835e04b09577"
          }
        },
        "abaf631b7e6e41da95833be38590ce8d": {
          "model_module": "@jupyter-widgets/controls",
          "model_name": "HTMLModel",
          "state": {
            "_view_name": "HTMLView",
            "style": "IPY_MODEL_76e9380f8b684a80bdacbcbb84f1631b",
            "_dom_classes": [],
            "description": "",
            "_model_name": "HTMLModel",
            "placeholder": "​",
            "_view_module": "@jupyter-widgets/controls",
            "_model_module_version": "1.5.0",
            "value": " 52/52 [00:45&lt;00:00,  1.15it/s]",
            "_view_count": null,
            "_view_module_version": "1.5.0",
            "description_tooltip": null,
            "_model_module": "@jupyter-widgets/controls",
            "layout": "IPY_MODEL_bc13aaaeb3bd4fdfaee7dcb435f11a51"
          }
        },
        "b007ad509c0245cb98ec02b8eb8ba03a": {
          "model_module": "@jupyter-widgets/controls",
          "model_name": "ProgressStyleModel",
          "state": {
            "_view_name": "StyleView",
            "_model_name": "ProgressStyleModel",
            "description_width": "initial",
            "_view_module": "@jupyter-widgets/base",
            "_model_module_version": "1.5.0",
            "_view_count": null,
            "_view_module_version": "1.2.0",
            "bar_color": null,
            "_model_module": "@jupyter-widgets/controls"
          }
        },
        "79891570dcdc44b9b79b835e04b09577": {
          "model_module": "@jupyter-widgets/base",
          "model_name": "LayoutModel",
          "state": {
            "_view_name": "LayoutView",
            "grid_template_rows": null,
            "right": null,
            "justify_content": null,
            "_view_module": "@jupyter-widgets/base",
            "overflow": null,
            "_model_module_version": "1.2.0",
            "_view_count": null,
            "flex_flow": null,
            "width": null,
            "min_width": null,
            "border": null,
            "align_items": null,
            "bottom": null,
            "_model_module": "@jupyter-widgets/base",
            "top": null,
            "grid_column": null,
            "overflow_y": null,
            "overflow_x": null,
            "grid_auto_flow": null,
            "grid_area": null,
            "grid_template_columns": null,
            "flex": null,
            "_model_name": "LayoutModel",
            "justify_items": null,
            "grid_row": null,
            "max_height": null,
            "align_content": null,
            "visibility": null,
            "align_self": null,
            "height": null,
            "min_height": null,
            "padding": null,
            "grid_auto_rows": null,
            "grid_gap": null,
            "max_width": null,
            "order": null,
            "_view_module_version": "1.2.0",
            "grid_template_areas": null,
            "object_position": null,
            "object_fit": null,
            "grid_auto_columns": null,
            "margin": null,
            "display": null,
            "left": null
          }
        },
        "76e9380f8b684a80bdacbcbb84f1631b": {
          "model_module": "@jupyter-widgets/controls",
          "model_name": "DescriptionStyleModel",
          "state": {
            "_view_name": "StyleView",
            "_model_name": "DescriptionStyleModel",
            "description_width": "",
            "_view_module": "@jupyter-widgets/base",
            "_model_module_version": "1.5.0",
            "_view_count": null,
            "_view_module_version": "1.2.0",
            "_model_module": "@jupyter-widgets/controls"
          }
        },
        "bc13aaaeb3bd4fdfaee7dcb435f11a51": {
          "model_module": "@jupyter-widgets/base",
          "model_name": "LayoutModel",
          "state": {
            "_view_name": "LayoutView",
            "grid_template_rows": null,
            "right": null,
            "justify_content": null,
            "_view_module": "@jupyter-widgets/base",
            "overflow": null,
            "_model_module_version": "1.2.0",
            "_view_count": null,
            "flex_flow": null,
            "width": null,
            "min_width": null,
            "border": null,
            "align_items": null,
            "bottom": null,
            "_model_module": "@jupyter-widgets/base",
            "top": null,
            "grid_column": null,
            "overflow_y": null,
            "overflow_x": null,
            "grid_auto_flow": null,
            "grid_area": null,
            "grid_template_columns": null,
            "flex": null,
            "_model_name": "LayoutModel",
            "justify_items": null,
            "grid_row": null,
            "max_height": null,
            "align_content": null,
            "visibility": null,
            "align_self": null,
            "height": null,
            "min_height": null,
            "padding": null,
            "grid_auto_rows": null,
            "grid_gap": null,
            "max_width": null,
            "order": null,
            "_view_module_version": "1.2.0",
            "grid_template_areas": null,
            "object_position": null,
            "object_fit": null,
            "grid_auto_columns": null,
            "margin": null,
            "display": null,
            "left": null
          }
        },
        "01d0e8e85cc54eba98c4a380be803ca3": {
          "model_module": "@jupyter-widgets/controls",
          "model_name": "HBoxModel",
          "state": {
            "_view_name": "HBoxView",
            "_dom_classes": [],
            "_model_name": "HBoxModel",
            "_view_module": "@jupyter-widgets/controls",
            "_model_module_version": "1.5.0",
            "_view_count": null,
            "_view_module_version": "1.5.0",
            "box_style": "",
            "layout": "IPY_MODEL_70e58e9ddd1046e29120f722e96fa23a",
            "_model_module": "@jupyter-widgets/controls",
            "children": [
              "IPY_MODEL_a994a006328447a0bbadea82cfaccb1b",
              "IPY_MODEL_b9401a6f35874e2c9d183d59211fb7d6"
            ]
          }
        },
        "70e58e9ddd1046e29120f722e96fa23a": {
          "model_module": "@jupyter-widgets/base",
          "model_name": "LayoutModel",
          "state": {
            "_view_name": "LayoutView",
            "grid_template_rows": null,
            "right": null,
            "justify_content": null,
            "_view_module": "@jupyter-widgets/base",
            "overflow": null,
            "_model_module_version": "1.2.0",
            "_view_count": null,
            "flex_flow": null,
            "width": null,
            "min_width": null,
            "border": null,
            "align_items": null,
            "bottom": null,
            "_model_module": "@jupyter-widgets/base",
            "top": null,
            "grid_column": null,
            "overflow_y": null,
            "overflow_x": null,
            "grid_auto_flow": null,
            "grid_area": null,
            "grid_template_columns": null,
            "flex": null,
            "_model_name": "LayoutModel",
            "justify_items": null,
            "grid_row": null,
            "max_height": null,
            "align_content": null,
            "visibility": null,
            "align_self": null,
            "height": null,
            "min_height": null,
            "padding": null,
            "grid_auto_rows": null,
            "grid_gap": null,
            "max_width": null,
            "order": null,
            "_view_module_version": "1.2.0",
            "grid_template_areas": null,
            "object_position": null,
            "object_fit": null,
            "grid_auto_columns": null,
            "margin": null,
            "display": null,
            "left": null
          }
        },
        "a994a006328447a0bbadea82cfaccb1b": {
          "model_module": "@jupyter-widgets/controls",
          "model_name": "FloatProgressModel",
          "state": {
            "_view_name": "ProgressView",
            "style": "IPY_MODEL_827c73ffd846468aacf06519146ff6a5",
            "_dom_classes": [],
            "description": "100%",
            "_model_name": "FloatProgressModel",
            "bar_style": "success",
            "max": 52,
            "_view_module": "@jupyter-widgets/controls",
            "_model_module_version": "1.5.0",
            "value": 52,
            "_view_count": null,
            "_view_module_version": "1.5.0",
            "orientation": "horizontal",
            "min": 0,
            "description_tooltip": null,
            "_model_module": "@jupyter-widgets/controls",
            "layout": "IPY_MODEL_186c0d0739104ad89bcfef55f09b4d0a"
          }
        },
        "b9401a6f35874e2c9d183d59211fb7d6": {
          "model_module": "@jupyter-widgets/controls",
          "model_name": "HTMLModel",
          "state": {
            "_view_name": "HTMLView",
            "style": "IPY_MODEL_6a66fee4d2e14fb6b9e9c8dddccdf5f6",
            "_dom_classes": [],
            "description": "",
            "_model_name": "HTMLModel",
            "placeholder": "​",
            "_view_module": "@jupyter-widgets/controls",
            "_model_module_version": "1.5.0",
            "value": " 52/52 [00:22&lt;00:00,  2.31it/s]",
            "_view_count": null,
            "_view_module_version": "1.5.0",
            "description_tooltip": null,
            "_model_module": "@jupyter-widgets/controls",
            "layout": "IPY_MODEL_066ae963802a444aa7e39c16ca139ec8"
          }
        },
        "827c73ffd846468aacf06519146ff6a5": {
          "model_module": "@jupyter-widgets/controls",
          "model_name": "ProgressStyleModel",
          "state": {
            "_view_name": "StyleView",
            "_model_name": "ProgressStyleModel",
            "description_width": "initial",
            "_view_module": "@jupyter-widgets/base",
            "_model_module_version": "1.5.0",
            "_view_count": null,
            "_view_module_version": "1.2.0",
            "bar_color": null,
            "_model_module": "@jupyter-widgets/controls"
          }
        },
        "186c0d0739104ad89bcfef55f09b4d0a": {
          "model_module": "@jupyter-widgets/base",
          "model_name": "LayoutModel",
          "state": {
            "_view_name": "LayoutView",
            "grid_template_rows": null,
            "right": null,
            "justify_content": null,
            "_view_module": "@jupyter-widgets/base",
            "overflow": null,
            "_model_module_version": "1.2.0",
            "_view_count": null,
            "flex_flow": null,
            "width": null,
            "min_width": null,
            "border": null,
            "align_items": null,
            "bottom": null,
            "_model_module": "@jupyter-widgets/base",
            "top": null,
            "grid_column": null,
            "overflow_y": null,
            "overflow_x": null,
            "grid_auto_flow": null,
            "grid_area": null,
            "grid_template_columns": null,
            "flex": null,
            "_model_name": "LayoutModel",
            "justify_items": null,
            "grid_row": null,
            "max_height": null,
            "align_content": null,
            "visibility": null,
            "align_self": null,
            "height": null,
            "min_height": null,
            "padding": null,
            "grid_auto_rows": null,
            "grid_gap": null,
            "max_width": null,
            "order": null,
            "_view_module_version": "1.2.0",
            "grid_template_areas": null,
            "object_position": null,
            "object_fit": null,
            "grid_auto_columns": null,
            "margin": null,
            "display": null,
            "left": null
          }
        },
        "6a66fee4d2e14fb6b9e9c8dddccdf5f6": {
          "model_module": "@jupyter-widgets/controls",
          "model_name": "DescriptionStyleModel",
          "state": {
            "_view_name": "StyleView",
            "_model_name": "DescriptionStyleModel",
            "description_width": "",
            "_view_module": "@jupyter-widgets/base",
            "_model_module_version": "1.5.0",
            "_view_count": null,
            "_view_module_version": "1.2.0",
            "_model_module": "@jupyter-widgets/controls"
          }
        },
        "066ae963802a444aa7e39c16ca139ec8": {
          "model_module": "@jupyter-widgets/base",
          "model_name": "LayoutModel",
          "state": {
            "_view_name": "LayoutView",
            "grid_template_rows": null,
            "right": null,
            "justify_content": null,
            "_view_module": "@jupyter-widgets/base",
            "overflow": null,
            "_model_module_version": "1.2.0",
            "_view_count": null,
            "flex_flow": null,
            "width": null,
            "min_width": null,
            "border": null,
            "align_items": null,
            "bottom": null,
            "_model_module": "@jupyter-widgets/base",
            "top": null,
            "grid_column": null,
            "overflow_y": null,
            "overflow_x": null,
            "grid_auto_flow": null,
            "grid_area": null,
            "grid_template_columns": null,
            "flex": null,
            "_model_name": "LayoutModel",
            "justify_items": null,
            "grid_row": null,
            "max_height": null,
            "align_content": null,
            "visibility": null,
            "align_self": null,
            "height": null,
            "min_height": null,
            "padding": null,
            "grid_auto_rows": null,
            "grid_gap": null,
            "max_width": null,
            "order": null,
            "_view_module_version": "1.2.0",
            "grid_template_areas": null,
            "object_position": null,
            "object_fit": null,
            "grid_auto_columns": null,
            "margin": null,
            "display": null,
            "left": null
          }
        }
      }
    }
  },
  "cells": [
    {
      "cell_type": "markdown",
      "metadata": {
        "id": "view-in-github",
        "colab_type": "text"
      },
      "source": [
        "<a href=\"https://colab.research.google.com/github/Ryo-Tanohata/J-Quants-Tutorial/blob/main/20210224_chapter03_tutorial.ipynb\" target=\"_parent\"><img src=\"https://colab.research.google.com/assets/colab-badge.svg\" alt=\"Open In Colab\"/></a>"
      ]
    },
    {
      "cell_type": "code",
      "metadata": {
        "id": "TsDycxrklAeG"
      },
      "source": [
        "%%HTML\n",
        "<style>\n",
        "    div#notebook-container    { width: 100%; }\n",
        "    div#menubar-container     { width: 65%; }\n",
        "    div#maintoolbar-container { width: 99%; }\n",
        "</style>"
      ],
      "execution_count": null,
      "outputs": []
    },
    {
      "cell_type": "markdown",
      "metadata": {
        "id": "rFX2J23CTk80"
      },
      "source": [
        "コンペ：https://signate.jp/competitions/443"
      ]
    },
    {
      "cell_type": "markdown",
      "metadata": {
        "id": "Rn26ZuV4Tqav"
      },
      "source": [
        "チュートリアル：https://japanexchangegroup.github.io/J-Quants-Tutorial/#_%E3%83%8B%E3%83%A5%E3%83%BC%E3%82%B9%E3%81%A7%E3%83%9D%E3%83%BC%E3%83%88%E3%83%95%E3%82%A9%E3%83%AA%E3%82%AA%E3%82%92%E6%A7%8B%E7%AF%89%E3%81%97%E3%82%88%E3%81%86"
      ]
    },
    {
      "cell_type": "markdown",
      "metadata": {
        "id": "XuiLAJRXiYet"
      },
      "source": [
        "#データの取得"
      ]
    },
    {
      "cell_type": "code",
      "metadata": {
        "id": "uvS75Ku0Eirp",
        "colab": {
          "base_uri": "https://localhost:8080/"
        },
        "outputId": "8f022d61-a66d-4fa2-c4bc-42794c5b61c3"
      },
      "source": [
        "!git clone https://github.com/JapanExchangeGroup/J-Quants-Tutorial.git"
      ],
      "execution_count": null,
      "outputs": [
        {
          "output_type": "stream",
          "text": [
            "Cloning into 'J-Quants-Tutorial'...\n",
            "remote: Enumerating objects: 2796, done.\u001b[K\n",
            "remote: Counting objects: 100% (179/179), done.\u001b[K\n",
            "remote: Compressing objects: 100% (116/116), done.\u001b[K\n",
            "remote: Total 2796 (delta 58), reused 131 (delta 39), pack-reused 2617\u001b[K\n",
            "Receiving objects: 100% (2796/2796), 141.37 MiB | 27.01 MiB/s, done.\n",
            "Resolving deltas: 100% (518/518), done.\n",
            "Checking out files: 100% (2016/2016), done.\n"
          ],
          "name": "stdout"
        }
      ]
    },
    {
      "cell_type": "code",
      "metadata": {
        "colab": {
          "base_uri": "https://localhost:8080/"
        },
        "id": "mGSTgQA4Kz5c",
        "outputId": "b65470f9-d366-4ef5-9f8f-a7f7d3e41532"
      },
      "source": [
        "#signate.jsonをGoogle Drive からひっぱってくるやつ\n",
        "from googleapiclient.discovery import build\n",
        "import io, os\n",
        "from googleapiclient.http import MediaIoBaseDownload\n",
        "from google.colab import auth\n",
        " \n",
        "auth.authenticate_user()\n",
        " \n",
        "drive_service = build('drive', 'v3')\n",
        "results = drive_service.files().list(\n",
        "        q=\"name = 'signate.json'\", fields=\"files(id)\").execute()\n",
        "signate_api_key = results.get('files', [])\n",
        " \n",
        "filename = \"/root/.signate/signate.json\"\n",
        "os.makedirs(os.path.dirname(filename), exist_ok=True)\n",
        " \n",
        "request = drive_service.files().get_media(fileId=signate_api_key[0]['id'])\n",
        "fh = io.FileIO(filename, 'wb')\n",
        "downloader = MediaIoBaseDownload(fh, request)\n",
        "done = False\n",
        "while done is False:\n",
        "    status, done = downloader.next_chunk()\n",
        "    print(\"Download %d%%.\" % int(status.progress() * 100))\n",
        "os.chmod(filename, 600)"
      ],
      "execution_count": null,
      "outputs": [
        {
          "output_type": "stream",
          "text": [
            "Download 100%.\n"
          ],
          "name": "stdout"
        }
      ]
    },
    {
      "cell_type": "code",
      "metadata": {
        "id": "Hlpwndbq03sx",
        "colab": {
          "base_uri": "https://localhost:8080/"
        },
        "outputId": "14570818-7a47-4e63-ae4f-2c98be201671"
      },
      "source": [
        "!pip install -q signate"
      ],
      "execution_count": null,
      "outputs": [
        {
          "output_type": "stream",
          "text": [
            "\u001b[?25l\r\u001b[K     |██▏                             | 10kB 15.3MB/s eta 0:00:01\r\u001b[K     |████▎                           | 20kB 19.0MB/s eta 0:00:01\r\u001b[K     |██████▍                         | 30kB 23.5MB/s eta 0:00:01\r\u001b[K     |████████▌                       | 40kB 17.5MB/s eta 0:00:01\r\u001b[K     |██████████▊                     | 51kB 13.6MB/s eta 0:00:01\r\u001b[K     |████████████▉                   | 61kB 13.8MB/s eta 0:00:01\r\u001b[K     |███████████████                 | 71kB 13.5MB/s eta 0:00:01\r\u001b[K     |█████████████████               | 81kB 14.3MB/s eta 0:00:01\r\u001b[K     |███████████████████▎            | 92kB 12.6MB/s eta 0:00:01\r\u001b[K     |█████████████████████▍          | 102kB 12.1MB/s eta 0:00:01\r\u001b[K     |███████████████████████▌        | 112kB 12.1MB/s eta 0:00:01\r\u001b[K     |█████████████████████████▋      | 122kB 12.1MB/s eta 0:00:01\r\u001b[K     |███████████████████████████▉    | 133kB 12.1MB/s eta 0:00:01\r\u001b[K     |██████████████████████████████  | 143kB 12.1MB/s eta 0:00:01\r\u001b[K     |████████████████████████████████| 153kB 12.1MB/s \n",
            "\u001b[?25h  Building wheel for wget (setup.py) ... \u001b[?25l\u001b[?25hdone\n",
            "\u001b[31mERROR: requests 2.23.0 has requirement urllib3!=1.25.0,!=1.25.1,<1.26,>=1.21.1, but you'll have urllib3 1.26.4 which is incompatible.\u001b[0m\n",
            "\u001b[31mERROR: datascience 0.10.6 has requirement folium==0.2.1, but you'll have folium 0.8.3 which is incompatible.\u001b[0m\n"
          ],
          "name": "stdout"
        }
      ]
    },
    {
      "cell_type": "code",
      "metadata": {
        "id": "0ceV6jS5E8M-"
      },
      "source": [
        "data_dir=\"/content/J-Quants-Tutorial/handson/data_dir\""
      ],
      "execution_count": null,
      "outputs": []
    },
    {
      "cell_type": "code",
      "metadata": {
        "colab": {
          "base_uri": "https://localhost:8080/"
        },
        "id": "coR6srKD3VW_",
        "outputId": "0180ce2b-a16e-4ce6-da4a-72c0f3937711"
      },
      "source": [
        "!signate download --competition-id=443 --path=\"/content/J-Quants-Tutorial/handson/data_dir\""
      ],
      "execution_count": null,
      "outputs": [
        {
          "output_type": "stream",
          "text": [
            "purchase_date.csv\n",
            "\n",
            "article.csv.gz\n",
            "\n",
            "region.csv.gz\n",
            "\n",
            "industry.csv.gz\n",
            "\n",
            "industry2.csv.gz\n",
            "\n",
            "theme.csv.gz\n",
            "\n",
            "disclosureItems.csv.gz\n",
            "\n",
            "sample_submit.zip\n",
            "\n",
            "stock_list.csv.gz\n",
            "\n",
            "stock_fin.csv.gz\n",
            "\n",
            "headline_features.zip\n",
            "\n",
            "keywords_features.zip\n",
            "\n",
            "tdnet.csv.gz\n",
            "\n",
            "Chapter02_models.zip\n",
            "\n",
            "nikkei_article.csv.gz\n",
            "\n",
            "stock_labels.csv.gz\n",
            "\n",
            "stock_price.csv.gz\n",
            "\n",
            "stock_fin_price.csv.gz\n",
            "\n",
            "headline_features.pkl\n",
            "\n",
            "keywords_features.pkl\n",
            "\n",
            "\u001b[32m\n",
            "Download completed.\u001b[0m\n"
          ],
          "name": "stdout"
        }
      ]
    },
    {
      "cell_type": "markdown",
      "metadata": {
        "id": "irr-l1CnlAeS"
      },
      "source": [
        "# シンプルなポートフォリオ組成モデルの作成"
      ]
    },
    {
      "cell_type": "markdown",
      "metadata": {
        "id": "754BqhmslAeT"
      },
      "source": [
        "```\n",
        "　バックテストの実行方法を理解したので、いよいよシンプルなポートフォリオ組成モデルを作成しましょう。ポートフォリオ組成モデルを作成することを通して、本コンペティションに投稿するモデルの出力や評価方法を把握し、最終的には作成したモデルを投稿して結果がリーダーボードに掲載されることを確認します。\n",
        "\n",
        "　本節では以下を説明しています。\n",
        "\n",
        "- ポートフォリオ組成モデルの作成方法\n",
        "- バックテストの使用方法\n",
        "- 投稿用パッケージの作成方法\n",
        "\n",
        "　具体的には、以下のステップで進めていきます。\n",
        "\n",
        "[source]\n",
        "----\n",
        "1. 必要なライブラリの読み込み\n",
        "2. データセットの読み込み\n",
        "3. ポートフォリオ組成戦略の策定\n",
        "4. ポートフォリオの組成\n",
        "5. 出力の調整\n",
        "6. バックテストの実行\n",
        "7. バックテストの評価\n",
        "8. 投稿用パッケージのディレクトリ作成\n",
        "9. 作成したコードをランタイム実行用にクラスにまとめる\n",
        "10. 提出用パッケージの作成と提出\n",
        "----\n",
        "```"
      ]
    },
    {
      "cell_type": "markdown",
      "metadata": {
        "id": "3Kc18w31dOrM"
      },
      "source": [
        "## 必要な入力データ等"
      ]
    },
    {
      "cell_type": "markdown",
      "metadata": {
        "id": "Q8PWV9pMlAeV"
      },
      "source": [
        "```\n",
        "■バックテスト用クラス +\n",
        "本コンペティションの評価方法と同等のロジックを実装したバックテスト用のクラスを提供しています。本notebookからimportできる必要があります。import時にエラーとなる場合は、`backtest.py` ファイルをダウンロードしている確認の上、sys.path に追加して再実行してください。なお、バックテスト用のクラスの取得方法は、<<anchor-3.6 ,3.6. バックテスト環境の構築>>をご参照ください。\n",
        "\n",
        "■データセット +\n",
        "本章で構築するモデルにおいては、以下のデータファイルを使用します。そのため、コンペティションサイトからダウンロードしたデータファイルを配置し、ディレクトリパスを `dataset_dir` 変数に設定してください。\n",
        "\n",
        "- stock_list.csv.gz\n",
        "- stock_price.csv.gz\n",
        "```"
      ]
    },
    {
      "cell_type": "markdown",
      "metadata": {
        "id": "-Pj6dUA1lAeV"
      },
      "source": [
        "## 1. 必要なライブラリの読み込み"
      ]
    },
    {
      "cell_type": "markdown",
      "metadata": {
        "id": "c_lb9YzplAeV"
      },
      "source": [
        "ランタイム環境とGoogle Colaboratory環境の両者で共通のライブラリを使用するためにバージョンを調整します。"
      ]
    },
    {
      "cell_type": "code",
      "metadata": {
        "id": "En1-ETBJlAeW",
        "colab": {
          "base_uri": "https://localhost:8080/"
        },
        "outputId": "735806c8-7ec0-4a20-b27b-2c7437aa72aa"
      },
      "source": [
        "# ライブラリのバージョンを調整します\n",
        "!pip install --no-cache-dir joblib==1.0.1 numpy==1.19.5 pandas==1.1.5 scikit-learn==0.20.3 scipy==1.2.1 seaborn==0.9.0"
      ],
      "execution_count": null,
      "outputs": [
        {
          "output_type": "stream",
          "text": [
            "Requirement already satisfied: joblib==1.0.1 in /usr/local/lib/python3.7/dist-packages (1.0.1)\n",
            "Requirement already satisfied: numpy==1.19.5 in /usr/local/lib/python3.7/dist-packages (1.19.5)\n",
            "Requirement already satisfied: pandas==1.1.5 in /usr/local/lib/python3.7/dist-packages (1.1.5)\n",
            "Collecting scikit-learn==0.20.3\n",
            "\u001b[?25l  Downloading https://files.pythonhosted.org/packages/aa/cc/a84e1748a2a70d0f3e081f56cefc634f3b57013b16faa6926d3a6f0598df/scikit_learn-0.20.3-cp37-cp37m-manylinux1_x86_64.whl (5.4MB)\n",
            "\u001b[K     |████████████████████████████████| 5.4MB 8.8MB/s \n",
            "\u001b[?25hCollecting scipy==1.2.1\n",
            "\u001b[?25l  Downloading https://files.pythonhosted.org/packages/3e/7e/5cee36eee5b3194687232f6150a89a38f784883c612db7f4da2ab190980d/scipy-1.2.1-cp37-cp37m-manylinux1_x86_64.whl (24.8MB)\n",
            "\u001b[K     |████████████████████████████████| 24.8MB 1.4MB/s \n",
            "\u001b[?25hCollecting seaborn==0.9.0\n",
            "\u001b[?25l  Downloading https://files.pythonhosted.org/packages/a8/76/220ba4420459d9c4c9c9587c6ce607bf56c25b3d3d2de62056efe482dadc/seaborn-0.9.0-py3-none-any.whl (208kB)\n",
            "\u001b[K     |████████████████████████████████| 215kB 48.7MB/s \n",
            "\u001b[?25hRequirement already satisfied: python-dateutil>=2.7.3 in /usr/local/lib/python3.7/dist-packages (from pandas==1.1.5) (2.8.1)\n",
            "Requirement already satisfied: pytz>=2017.2 in /usr/local/lib/python3.7/dist-packages (from pandas==1.1.5) (2018.9)\n",
            "Requirement already satisfied: matplotlib>=1.4.3 in /usr/local/lib/python3.7/dist-packages (from seaborn==0.9.0) (3.2.2)\n",
            "Requirement already satisfied: six>=1.5 in /usr/local/lib/python3.7/dist-packages (from python-dateutil>=2.7.3->pandas==1.1.5) (1.15.0)\n",
            "Requirement already satisfied: cycler>=0.10 in /usr/local/lib/python3.7/dist-packages (from matplotlib>=1.4.3->seaborn==0.9.0) (0.10.0)\n",
            "Requirement already satisfied: kiwisolver>=1.0.1 in /usr/local/lib/python3.7/dist-packages (from matplotlib>=1.4.3->seaborn==0.9.0) (1.3.1)\n",
            "Requirement already satisfied: pyparsing!=2.0.4,!=2.1.2,!=2.1.6,>=2.0.1 in /usr/local/lib/python3.7/dist-packages (from matplotlib>=1.4.3->seaborn==0.9.0) (2.4.7)\n",
            "\u001b[31mERROR: albumentations 0.1.12 has requirement imgaug<0.2.7,>=0.2.5, but you'll have imgaug 0.2.9 which is incompatible.\u001b[0m\n",
            "Installing collected packages: scipy, scikit-learn, seaborn\n",
            "  Found existing installation: scipy 1.4.1\n",
            "    Uninstalling scipy-1.4.1:\n",
            "      Successfully uninstalled scipy-1.4.1\n",
            "  Found existing installation: scikit-learn 0.22.2.post1\n",
            "    Uninstalling scikit-learn-0.22.2.post1:\n",
            "      Successfully uninstalled scikit-learn-0.22.2.post1\n",
            "  Found existing installation: seaborn 0.11.1\n",
            "    Uninstalling seaborn-0.11.1:\n",
            "      Successfully uninstalled seaborn-0.11.1\n",
            "Successfully installed scikit-learn-0.20.3 scipy-1.2.1 seaborn-0.9.0\n"
          ],
          "name": "stdout"
        }
      ]
    },
    {
      "cell_type": "code",
      "metadata": {
        "id": "9dF8wbVClAeW",
        "colab": {
          "base_uri": "https://localhost:8080/"
        },
        "outputId": "db4f9f73-c1f8-41ec-a26a-075b39da4798"
      },
      "source": [
        "import io\n",
        "import os\n",
        "import sys\n",
        "import zipfile\n",
        "\n",
        "import matplotlib\n",
        "import matplotlib.pyplot as plt\n",
        "import numpy as np\n",
        "import pandas as pd\n",
        "import seaborn as sns\n",
        "from tqdm.auto import tqdm\n",
        "from scipy import stats\n",
        "from IPython.core.magic import register_cell_magic"
      ],
      "execution_count": null,
      "outputs": [
        {
          "output_type": "stream",
          "text": [
            "/usr/local/lib/python3.7/dist-packages/statsmodels/tools/_testing.py:19: FutureWarning: pandas.util.testing is deprecated. Use the functions in the public API at pandas.testing instead.\n",
            "  import pandas.util.testing as tm\n"
          ],
          "name": "stderr"
        }
      ]
    },
    {
      "cell_type": "markdown",
      "metadata": {
        "id": "iAJ6Kv5wlAeW"
      },
      "source": [
        "　次に本コンペティションの評価検証用のバックテストモジュールを読み込みます。インポート時にエラーが出た場合は、sys.path に backtest.py ファイルを配置したディレクトリを追加してから再度インポートしてください。"
      ]
    },
    {
      "cell_type": "code",
      "metadata": {
        "id": "K8P7FIbVlAeX"
      },
      "source": [
        "module_dir = \"/content/J-Quants-Tutorial/handson/Chapter03/backtest\" \n",
        "sys.path.append(module_dir)\n",
        "\n",
        "from backtest import Backtest"
      ],
      "execution_count": null,
      "outputs": []
    },
    {
      "cell_type": "markdown",
      "metadata": {
        "id": "MVJ6SoR-lAeX"
      },
      "source": [
        "Pandasのデータを表示する際に表略されないように設定を変更します"
      ]
    },
    {
      "cell_type": "code",
      "metadata": {
        "id": "c0Wj6ba1lAeX"
      },
      "source": [
        "# 表示用の設定を変更します\n",
        "pd.options.display.max_rows = 100\n",
        "pd.options.display.max_columns = 100\n",
        "pd.options.display.width = 120"
      ],
      "execution_count": null,
      "outputs": []
    },
    {
      "cell_type": "markdown",
      "metadata": {
        "id": "qA6Ro3MFlAeX"
      },
      "source": [
        "## 2. データセットの読み込み"
      ]
    },
    {
      "cell_type": "markdown",
      "metadata": {
        "id": "wfIWCyvTlAeY"
      },
      "source": [
        "```\n",
        "　データセットを配置したディレクトリのパスを設定します。Google Colabをご利用の場合は Google Drive にデータセットをアップロードして、そのディレクトリを指定してください。また、データセットの取得方法および内容については「<<anchor-3.4, 3.4. データセットの説明>>」をご参照ください。\n",
        "```"
      ]
    },
    {
      "cell_type": "code",
      "metadata": {
        "id": "rMkJK73WlAeY"
      },
      "source": [
        "# データセットを配置したディレクトリのパスを設定\n",
        "dataset_dir = \"/content/J-Quants-Tutorial/handson/data_dir\""
      ],
      "execution_count": null,
      "outputs": []
    },
    {
      "cell_type": "markdown",
      "metadata": {
        "id": "Jyty9Ms5lAeY"
      },
      "source": [
        "　本コンペティションのランタイム環境におけるデータセットへのアクセスは、 `ScoringService.predict()` メソッドに渡されるinputsパラメーターを通して行う必要があります。そのため、以下のように本notebook環境でもランタイム環境と共通の方法でデータセットにアクセスすることで、コードが複雑になったり投稿用にコードを編集したりしなくても済むようにしています。"
      ]
    },
    {
      "cell_type": "code",
      "metadata": {
        "id": "lCVy3-_XlAeZ"
      },
      "source": [
        "# 入力パラメーターを設定します。ランタイム環境での実行時と同一フォーマットにします\n",
        "inputs = {\n",
        "    \"stock_list\": f\"{dataset_dir}/stock_list.csv.gz\",\n",
        "    \"stock_price\": f\"{dataset_dir}/stock_price.csv.gz\",\n",
        "}"
      ],
      "execution_count": null,
      "outputs": []
    },
    {
      "cell_type": "markdown",
      "metadata": {
        "id": "_j3pdo2zlAeZ"
      },
      "source": [
        "　本コンペティションでは2016年以降のデータを提供していますが、本notebookではモデル作成・評価時の処理時間を短くするために 2020-01-01 以降のデータを使用してバックテストを実施・評価します。なお、実際に評価をする場合は可能な限り長い期間を評価に利用することを推奨します。"
      ]
    },
    {
      "cell_type": "code",
      "metadata": {
        "id": "XWL_3UDhlAeZ"
      },
      "source": [
        "# 投資対象日付を指定します\n",
        "start_dt = pd.Timestamp(\"2020-01-01\")"
      ],
      "execution_count": null,
      "outputs": []
    },
    {
      "cell_type": "markdown",
      "metadata": {
        "id": "Kgnrom7aMp5N"
      },
      "source": [
        "　ランタイム環境においては `ScoringService.predict()` メソッドに渡されるinputsパラメーターに `purchase_date` というキー名で予測対象日が記載されたCSV形式のファイルへのパスが渡され、そのファイル内に記載されている日付を予測対象日として使用します。ここではランタイム環境に対応するために `purchase_date` が存在する場合は、指定された日付を使用するロジックを組み込んでおきます。purchase_date のフォーマットについては link:https://signate.jp/competitions/443/data[SIGNATEのコンペティションサイト] にサンプルファイルが配置されているためそちらをご参照ください。"
      ]
    },
    {
      "cell_type": "code",
      "metadata": {
        "id": "h5Cb8T_vMrBQ"
      },
      "source": [
        "if \"purchase_date\" in inputs.keys():\n",
        "    # ランタイム環境では指定された投資対象日付を使用します\n",
        "    # purchase_dateを読み込み\n",
        "    df_purchase_date = pd.read_csv(inputs[\"purchase_date\"])\n",
        "    # purchase_dateの最も古い日付を投資対象日付として使用します\n",
        "    start_dt = pd.Timestamp(df_purchase_date.sort_values(\"Purchase Date\").iloc[0, 0])"
      ],
      "execution_count": null,
      "outputs": []
    },
    {
      "cell_type": "markdown",
      "metadata": {
        "id": "tHMF4wCQlAeZ"
      },
      "source": [
        "　本コンペティションでは投資対象となる銘柄群 (ユニバース) が設定されています。そのため、ユニバース内の銘柄に絞って処理を実施するために銘柄情報を読み込みます。"
      ]
    },
    {
      "cell_type": "code",
      "metadata": {
        "id": "6D4G06sslAea"
      },
      "source": [
        "# 銘柄情報読み込み\n",
        "df_stock_list = pd.read_csv(inputs[\"stock_list\"])\n",
        "# 問題2のユニバース (投資対象の条件を満たす銘柄群) 取得\n",
        "codes = df_stock_list.loc[\n",
        "    df_stock_list.loc[:, \"universe_comp2\"] == True, \"Local Code\"\n",
        "].unique()"
      ],
      "execution_count": null,
      "outputs": []
    },
    {
      "cell_type": "markdown",
      "metadata": {
        "id": "jk8hXEyOlAea"
      },
      "source": [
        "　以下では、シンプルに株価情報のみを利用してポートフォリオを組成するために株価情報を読み込んでいます。本コンペティションでは、データセットはcsv.gz形式で提供していますので、データの型情報が保存されていません。そのため、特に日付型のカラムについては明示的に変換する必要があります。read_csvのparse_dateパラメーター等、日付型を指定する方法は複数ありますが、本notebookでは一度読み込んでから変換しています。"
      ]
    },
    {
      "cell_type": "code",
      "metadata": {
        "id": "nNLOQ18ilAea"
      },
      "source": [
        "# 価格情報読み込み、インデックス作成\n",
        "df_price = pd.read_csv(inputs[\"stock_price\"]).set_index(\"EndOfDayQuote Date\")\n",
        "# 日付型に変換\n",
        "df_price.index = pd.to_datetime(df_price.index, format=\"%Y-%m-%d\")"
      ],
      "execution_count": null,
      "outputs": []
    },
    {
      "cell_type": "markdown",
      "metadata": {
        "id": "Q444bBfSlAea"
      },
      "source": [
        "　処理時間を最適化するために処理対象データを日付でフィルタをして絞り込みます。本notebookでは過去20営業日のデータを使用して特徴量を作成するため、投資対象日付から過去20営業日時点のデータを含める必要がありますが、バッファとして過去30日のデータを含めることにします。同時に株価情報をユニバースと一致するように絞り込んでいます。"
      ]
    },
    {
      "cell_type": "code",
      "metadata": {
        "id": "xw0vaT8VlAeb"
      },
      "source": [
        "# 投資対象日の前週金曜日時点で予測を出力するため、予測出力用の日付を設定します。\n",
        "pred_start_dt = pd.Timestamp(start_dt) - pd.Timedelta(\"3D\")\n",
        "# 特徴量の生成に必要な日数をバッファとして設定\n",
        "n = 30\n",
        "# データ絞り込み日付設定\n",
        "data_start_dt = pred_start_dt - pd.offsets.BDay(n)\n",
        "# 日付で絞り込み\n",
        "filter_date = df_price.index >= data_start_dt\n",
        "# 銘柄をユニバースで絞り込み\n",
        "filter_universe = df_price.loc[:, \"Local Code\"].isin(codes)\n",
        "# 絞り込み実施\n",
        "df_price = df_price.loc[filter_date & filter_universe]"
      ],
      "execution_count": null,
      "outputs": []
    },
    {
      "cell_type": "markdown",
      "metadata": {
        "id": "_bzTSwePlAeb"
      },
      "source": [
        "　`head()` や `tail()` メソッドを使用して処理結果が期待通りとなっていることを確認しながら進めていきます。ここではデータが2019年11月20日以降に絞り込まれていることが確認できます。`.T`  プロパティ https://pandas.pydata.org/pandas-docs/stable/reference/api/pandas.DataFrame.transpose.html#pandas.DataFrame.transpose を使用して行と列を入れ替えることで可読性が上がる場合があります。\n",
        "\n",
        "　ここで計算したデータセットのフォーマットを確認するために、データセットの先頭を見てみます。"
      ]
    },
    {
      "cell_type": "code",
      "metadata": {
        "id": "RBIaW2QZlAeb",
        "colab": {
          "base_uri": "https://localhost:8080/",
          "height": 494
        },
        "outputId": "bf78eb0d-8ede-462a-f66b-271b12b53de4"
      },
      "source": [
        "df_price.head(3).T"
      ],
      "execution_count": null,
      "outputs": [
        {
          "output_type": "execute_result",
          "data": {
            "text/html": [
              "<div>\n",
              "<style scoped>\n",
              "    .dataframe tbody tr th:only-of-type {\n",
              "        vertical-align: middle;\n",
              "    }\n",
              "\n",
              "    .dataframe tbody tr th {\n",
              "        vertical-align: top;\n",
              "    }\n",
              "\n",
              "    .dataframe thead th {\n",
              "        text-align: right;\n",
              "    }\n",
              "</style>\n",
              "<table border=\"1\" class=\"dataframe\">\n",
              "  <thead>\n",
              "    <tr style=\"text-align: right;\">\n",
              "      <th>EndOfDayQuote Date</th>\n",
              "      <th>2019-11-18</th>\n",
              "      <th>2019-11-19</th>\n",
              "      <th>2019-11-20</th>\n",
              "    </tr>\n",
              "  </thead>\n",
              "  <tbody>\n",
              "    <tr>\n",
              "      <th>Local Code</th>\n",
              "      <td>1301</td>\n",
              "      <td>1301</td>\n",
              "      <td>1301</td>\n",
              "    </tr>\n",
              "    <tr>\n",
              "      <th>EndOfDayQuote Open</th>\n",
              "      <td>2941</td>\n",
              "      <td>2930</td>\n",
              "      <td>2939</td>\n",
              "    </tr>\n",
              "    <tr>\n",
              "      <th>EndOfDayQuote High</th>\n",
              "      <td>2941</td>\n",
              "      <td>2948</td>\n",
              "      <td>2939</td>\n",
              "    </tr>\n",
              "    <tr>\n",
              "      <th>EndOfDayQuote Low</th>\n",
              "      <td>2923</td>\n",
              "      <td>2926</td>\n",
              "      <td>2883</td>\n",
              "    </tr>\n",
              "    <tr>\n",
              "      <th>EndOfDayQuote Close</th>\n",
              "      <td>2935</td>\n",
              "      <td>2938</td>\n",
              "      <td>2895</td>\n",
              "    </tr>\n",
              "    <tr>\n",
              "      <th>EndOfDayQuote ExchangeOfficialClose</th>\n",
              "      <td>2935</td>\n",
              "      <td>2938</td>\n",
              "      <td>2895</td>\n",
              "    </tr>\n",
              "    <tr>\n",
              "      <th>EndOfDayQuote Volume</th>\n",
              "      <td>14200</td>\n",
              "      <td>12800</td>\n",
              "      <td>35700</td>\n",
              "    </tr>\n",
              "    <tr>\n",
              "      <th>EndOfDayQuote CumulativeAdjustmentFactor</th>\n",
              "      <td>1</td>\n",
              "      <td>1</td>\n",
              "      <td>1</td>\n",
              "    </tr>\n",
              "    <tr>\n",
              "      <th>EndOfDayQuote PreviousClose</th>\n",
              "      <td>2923</td>\n",
              "      <td>2935</td>\n",
              "      <td>2938</td>\n",
              "    </tr>\n",
              "    <tr>\n",
              "      <th>EndOfDayQuote PreviousCloseDate</th>\n",
              "      <td>2019/11/15</td>\n",
              "      <td>2019/11/18</td>\n",
              "      <td>2019/11/19</td>\n",
              "    </tr>\n",
              "    <tr>\n",
              "      <th>EndOfDayQuote PreviousExchangeOfficialClose</th>\n",
              "      <td>2923</td>\n",
              "      <td>2935</td>\n",
              "      <td>2938</td>\n",
              "    </tr>\n",
              "    <tr>\n",
              "      <th>EndOfDayQuote PreviousExchangeOfficialCloseDate</th>\n",
              "      <td>2019/11/15</td>\n",
              "      <td>2019/11/18</td>\n",
              "      <td>2019/11/19</td>\n",
              "    </tr>\n",
              "    <tr>\n",
              "      <th>EndOfDayQuote ChangeFromPreviousClose</th>\n",
              "      <td>12</td>\n",
              "      <td>3</td>\n",
              "      <td>-43</td>\n",
              "    </tr>\n",
              "    <tr>\n",
              "      <th>EndOfDayQuote PercentChangeFromPreviousClose</th>\n",
              "      <td>0.411</td>\n",
              "      <td>0.102</td>\n",
              "      <td>-1.464</td>\n",
              "    </tr>\n",
              "    <tr>\n",
              "      <th>EndOfDayQuote VWAP</th>\n",
              "      <td>2932.92</td>\n",
              "      <td>2937.37</td>\n",
              "      <td>2905.94</td>\n",
              "    </tr>\n",
              "  </tbody>\n",
              "</table>\n",
              "</div>"
            ],
            "text/plain": [
              "EndOfDayQuote Date                               2019-11-18  2019-11-19  2019-11-20\n",
              "Local Code                                             1301        1301        1301\n",
              "EndOfDayQuote Open                                     2941        2930        2939\n",
              "EndOfDayQuote High                                     2941        2948        2939\n",
              "EndOfDayQuote Low                                      2923        2926        2883\n",
              "EndOfDayQuote Close                                    2935        2938        2895\n",
              "EndOfDayQuote ExchangeOfficialClose                    2935        2938        2895\n",
              "EndOfDayQuote Volume                                  14200       12800       35700\n",
              "EndOfDayQuote CumulativeAdjustmentFactor                  1           1           1\n",
              "EndOfDayQuote PreviousClose                            2923        2935        2938\n",
              "EndOfDayQuote PreviousCloseDate                  2019/11/15  2019/11/18  2019/11/19\n",
              "EndOfDayQuote PreviousExchangeOfficialClose            2923        2935        2938\n",
              "EndOfDayQuote PreviousExchangeOfficialCloseDate  2019/11/15  2019/11/18  2019/11/19\n",
              "EndOfDayQuote ChangeFromPreviousClose                    12           3         -43\n",
              "EndOfDayQuote PercentChangeFromPreviousClose          0.411       0.102      -1.464\n",
              "EndOfDayQuote VWAP                                  2932.92     2937.37     2905.94"
            ]
          },
          "metadata": {
            "tags": []
          },
          "execution_count": 18
        }
      ]
    },
    {
      "cell_type": "markdown",
      "metadata": {
        "id": "8gbmkmlllAeb"
      },
      "source": [
        "## 3. ポートフォリオ組成戦略の策定"
      ]
    },
    {
      "cell_type": "markdown",
      "metadata": {
        "id": "h4ARQkPzlAec"
      },
      "source": [
        "```\n",
        "　ポートフォリオを組成するための特徴量を作成します。今回は以下の2種類の戦略を採用します。\n",
        "\n",
        "1. リターン・リバーサル (逆張り) 戦略を採用して、過去1ヶ月(約20営業日)の株価下落率の上位25銘柄を選択します。\n",
        "(「リターン・リバーサル」 野村證券証券用語解説集より引用 https://www.nomura.co.jp/terms/japan/ri/A01944.html)\n",
        "2. トレンドフォロー (順張り) 戦略を採用して、過去1ヶ月(約20営業日)の株価上昇率の上位25銘柄を選択します。\n",
        "(「トレンドフォロー」 野村證券証券用語解説集より引用 https://www.nomura.co.jp/terms/japan/ta/A02002.html)\n",
        "\n",
        "　過去1ヶ月(20営業日)の株価下落率/上昇率を計算するために、銘柄毎にグループ化してから株価変化率を計算します。 +\n",
        "　本コンペティションに提出するポートフォリオは各週の週初の営業日に買付実施されるため、買付日前週の金曜日終値時点を銘柄選択の基準とします。基準日のデータを取得するために単純に金曜日にのみ絞り込んだ場合、金曜日が祝日の場合にその翌週の銘柄を選択できなくなるおそれがあるため、平日でリサンプル(pandasにおいて平日を意味する ``B`` を指定してresample関数を呼んでいます)し、欠損値がある場合には前日の値を使うように前方補完(pandasではffill関数を利用)を実施します。これにより、金曜日に必ずデータが存在するようにしています。\n",
        "```"
      ]
    },
    {
      "cell_type": "code",
      "metadata": {
        "id": "6mvGmuQdlAec",
        "colab": {
          "base_uri": "https://localhost:8080/",
          "height": 250
        },
        "outputId": "31c2402b-3ef3-43ab-aca4-4fde06d3a854"
      },
      "source": [
        "# 欠損値がある場合にも正しく動作しているかを確認するため、処理前に木曜日、金曜日が祝日である2020-07-23、2020-07-24のレコードが存在しないことを確認しておきます。\n",
        "df_price.loc[\"2020-07-22\":\"2020-07-27\"].head(4)"
      ],
      "execution_count": null,
      "outputs": [
        {
          "output_type": "execute_result",
          "data": {
            "text/html": [
              "<div>\n",
              "<style scoped>\n",
              "    .dataframe tbody tr th:only-of-type {\n",
              "        vertical-align: middle;\n",
              "    }\n",
              "\n",
              "    .dataframe tbody tr th {\n",
              "        vertical-align: top;\n",
              "    }\n",
              "\n",
              "    .dataframe thead th {\n",
              "        text-align: right;\n",
              "    }\n",
              "</style>\n",
              "<table border=\"1\" class=\"dataframe\">\n",
              "  <thead>\n",
              "    <tr style=\"text-align: right;\">\n",
              "      <th></th>\n",
              "      <th>Local Code</th>\n",
              "      <th>EndOfDayQuote Open</th>\n",
              "      <th>EndOfDayQuote High</th>\n",
              "      <th>EndOfDayQuote Low</th>\n",
              "      <th>EndOfDayQuote Close</th>\n",
              "      <th>EndOfDayQuote ExchangeOfficialClose</th>\n",
              "      <th>EndOfDayQuote Volume</th>\n",
              "      <th>EndOfDayQuote CumulativeAdjustmentFactor</th>\n",
              "      <th>EndOfDayQuote PreviousClose</th>\n",
              "      <th>EndOfDayQuote PreviousCloseDate</th>\n",
              "      <th>EndOfDayQuote PreviousExchangeOfficialClose</th>\n",
              "      <th>EndOfDayQuote PreviousExchangeOfficialCloseDate</th>\n",
              "      <th>EndOfDayQuote ChangeFromPreviousClose</th>\n",
              "      <th>EndOfDayQuote PercentChangeFromPreviousClose</th>\n",
              "      <th>EndOfDayQuote VWAP</th>\n",
              "    </tr>\n",
              "    <tr>\n",
              "      <th>EndOfDayQuote Date</th>\n",
              "      <th></th>\n",
              "      <th></th>\n",
              "      <th></th>\n",
              "      <th></th>\n",
              "      <th></th>\n",
              "      <th></th>\n",
              "      <th></th>\n",
              "      <th></th>\n",
              "      <th></th>\n",
              "      <th></th>\n",
              "      <th></th>\n",
              "      <th></th>\n",
              "      <th></th>\n",
              "      <th></th>\n",
              "      <th></th>\n",
              "    </tr>\n",
              "  </thead>\n",
              "  <tbody>\n",
              "    <tr>\n",
              "      <th>2020-07-22</th>\n",
              "      <td>1301</td>\n",
              "      <td>2770.0</td>\n",
              "      <td>2770.0</td>\n",
              "      <td>2720.0</td>\n",
              "      <td>2720.0</td>\n",
              "      <td>2720.0</td>\n",
              "      <td>8900.0</td>\n",
              "      <td>1.0</td>\n",
              "      <td>2773.0</td>\n",
              "      <td>2020/07/21</td>\n",
              "      <td>2773.0</td>\n",
              "      <td>2020/07/21</td>\n",
              "      <td>-53.0</td>\n",
              "      <td>-1.911</td>\n",
              "      <td>2744.180</td>\n",
              "    </tr>\n",
              "    <tr>\n",
              "      <th>2020-07-27</th>\n",
              "      <td>1301</td>\n",
              "      <td>2720.0</td>\n",
              "      <td>2728.0</td>\n",
              "      <td>2700.0</td>\n",
              "      <td>2720.0</td>\n",
              "      <td>2720.0</td>\n",
              "      <td>13100.0</td>\n",
              "      <td>1.0</td>\n",
              "      <td>2720.0</td>\n",
              "      <td>2020/07/22</td>\n",
              "      <td>2720.0</td>\n",
              "      <td>2020/07/22</td>\n",
              "      <td>0.0</td>\n",
              "      <td>0.000</td>\n",
              "      <td>2712.710</td>\n",
              "    </tr>\n",
              "    <tr>\n",
              "      <th>2020-07-22</th>\n",
              "      <td>1332</td>\n",
              "      <td>475.0</td>\n",
              "      <td>475.0</td>\n",
              "      <td>463.0</td>\n",
              "      <td>463.0</td>\n",
              "      <td>463.0</td>\n",
              "      <td>1009300.0</td>\n",
              "      <td>1.0</td>\n",
              "      <td>473.0</td>\n",
              "      <td>2020/07/21</td>\n",
              "      <td>473.0</td>\n",
              "      <td>2020/07/21</td>\n",
              "      <td>-10.0</td>\n",
              "      <td>-2.114</td>\n",
              "      <td>466.618</td>\n",
              "    </tr>\n",
              "    <tr>\n",
              "      <th>2020-07-27</th>\n",
              "      <td>1332</td>\n",
              "      <td>462.0</td>\n",
              "      <td>468.0</td>\n",
              "      <td>456.0</td>\n",
              "      <td>468.0</td>\n",
              "      <td>468.0</td>\n",
              "      <td>1383200.0</td>\n",
              "      <td>1.0</td>\n",
              "      <td>463.0</td>\n",
              "      <td>2020/07/22</td>\n",
              "      <td>463.0</td>\n",
              "      <td>2020/07/22</td>\n",
              "      <td>5.0</td>\n",
              "      <td>1.080</td>\n",
              "      <td>464.488</td>\n",
              "    </tr>\n",
              "  </tbody>\n",
              "</table>\n",
              "</div>"
            ],
            "text/plain": [
              "                    Local Code  EndOfDayQuote Open  EndOfDayQuote High  EndOfDayQuote Low  EndOfDayQuote Close  \\\n",
              "EndOfDayQuote Date                                                                                               \n",
              "2020-07-22                1301              2770.0              2770.0             2720.0               2720.0   \n",
              "2020-07-27                1301              2720.0              2728.0             2700.0               2720.0   \n",
              "2020-07-22                1332               475.0               475.0              463.0                463.0   \n",
              "2020-07-27                1332               462.0               468.0              456.0                468.0   \n",
              "\n",
              "                    EndOfDayQuote ExchangeOfficialClose  EndOfDayQuote Volume  \\\n",
              "EndOfDayQuote Date                                                              \n",
              "2020-07-22                                       2720.0                8900.0   \n",
              "2020-07-27                                       2720.0               13100.0   \n",
              "2020-07-22                                        463.0             1009300.0   \n",
              "2020-07-27                                        468.0             1383200.0   \n",
              "\n",
              "                    EndOfDayQuote CumulativeAdjustmentFactor  EndOfDayQuote PreviousClose  \\\n",
              "EndOfDayQuote Date                                                                          \n",
              "2020-07-22                                               1.0                       2773.0   \n",
              "2020-07-27                                               1.0                       2720.0   \n",
              "2020-07-22                                               1.0                        473.0   \n",
              "2020-07-27                                               1.0                        463.0   \n",
              "\n",
              "                   EndOfDayQuote PreviousCloseDate  EndOfDayQuote PreviousExchangeOfficialClose  \\\n",
              "EndOfDayQuote Date                                                                                \n",
              "2020-07-22                              2020/07/21                                       2773.0   \n",
              "2020-07-27                              2020/07/22                                       2720.0   \n",
              "2020-07-22                              2020/07/21                                        473.0   \n",
              "2020-07-27                              2020/07/22                                        463.0   \n",
              "\n",
              "                   EndOfDayQuote PreviousExchangeOfficialCloseDate  EndOfDayQuote ChangeFromPreviousClose  \\\n",
              "EndOfDayQuote Date                                                                                          \n",
              "2020-07-22                                              2020/07/21                                  -53.0   \n",
              "2020-07-27                                              2020/07/22                                    0.0   \n",
              "2020-07-22                                              2020/07/21                                  -10.0   \n",
              "2020-07-27                                              2020/07/22                                    5.0   \n",
              "\n",
              "                    EndOfDayQuote PercentChangeFromPreviousClose  EndOfDayQuote VWAP  \n",
              "EndOfDayQuote Date                                                                    \n",
              "2020-07-22                                                -1.911            2744.180  \n",
              "2020-07-27                                                 0.000            2712.710  \n",
              "2020-07-22                                                -2.114             466.618  \n",
              "2020-07-27                                                 1.080             464.488  "
            ]
          },
          "metadata": {
            "tags": []
          },
          "execution_count": 19
        }
      ]
    },
    {
      "cell_type": "code",
      "metadata": {
        "id": "qbEfoxOAlAec"
      },
      "source": [
        "# groupby を使用して処理するために並び替え\n",
        "df_price.sort_values([\"Local Code\", \"EndOfDayQuote Date\"], inplace=True)\n",
        "# 銘柄毎にグループにします。\n",
        "grouped_price = df_price.groupby(\"Local Code\")[\n",
        "    \"EndOfDayQuote ExchangeOfficialClose\"\n",
        "]\n",
        "# 銘柄毎に20営業日の変化率を作成してから、金曜日に必ずデータが存在するようにリサンプルして前方補完します。\n",
        "df_feature = grouped_price.apply(\n",
        "    lambda x: x.pct_change(20).resample(\"B\").ffill().dropna()\n",
        ").to_frame()"
      ],
      "execution_count": null,
      "outputs": []
    },
    {
      "cell_type": "markdown",
      "metadata": {
        "id": "SCpPCP5UlAec"
      },
      "source": [
        "```\n",
        "　大量のデータを処理する場合、処理によっては数分から数時間かかる場合があります。処理済みのデータを保存しておくことで、処理時間のかかる処理を省略して作業できるようにすることは重要なテクニックの一つです。今回はメモリ上に別の変数として保存しておきますが、セッションが閉じられる際に処理済みデータもクリアされてしまうことに加えて、大量のデータである場合はメモリ上に保存しておくとメモリを圧迫するため、ファイルに書き出しておいて必要な時にファイルから読み込むのが良い方法です。\n",
        "\n",
        "　Pandasには様々な形式でのデータの入出力用メソッド (link:https://pandas.pydata.org/pandas-docs/stable/user_guide/io.html[リンク]) が用意されています。例えば、データが圧縮されて型が保存される `to_hdf` メソッド (link:https://pandas.pydata.org/pandas-docs/stable/reference/api/pandas.DataFrame.to_hdf.html[リンク])を使用してファイルに書き出し、対応する `read_hdf` メソッド (link:https://pandas.pydata.org/pandas-docs/stable/reference/api/pandas.read_hdf.html[リンク])で読み出すことで簡単にデータフレームを読み書きできます。\n",
        "\n",
        "　平日を指定してデータのリサンプル行い、欠損値に前日の値を使うように前方補完した結果が期待通りになっているかを確認しましょう。2020-07-23及び2020-07-24はそれぞれ木曜日及び金曜日の祝日でしたので、2020-07-23及び2020-07-24に2020-07-22の値が入っていれば良いことになります。\n",
        "```"
      ]
    },
    {
      "cell_type": "code",
      "metadata": {
        "id": "ifrtaXnrlAed",
        "colab": {
          "base_uri": "https://localhost:8080/",
          "height": 191
        },
        "outputId": "f6495ced-c38f-4aff-838f-6225a7e9dc32"
      },
      "source": [
        "# 上記は比較的時間のかかる処理なので、処理済みデータを別に残しておきます。\n",
        "df_work = df_feature.copy()"
      ],
      "execution_count": 1,
      "outputs": [
        {
          "output_type": "error",
          "ename": "NameError",
          "evalue": "ignored",
          "traceback": [
            "\u001b[0;31m---------------------------------------------------------------------------\u001b[0m",
            "\u001b[0;31mNameError\u001b[0m                                 Traceback (most recent call last)",
            "\u001b[0;32m<ipython-input-1-86bde0e8a148>\u001b[0m in \u001b[0;36m<module>\u001b[0;34m()\u001b[0m\n\u001b[1;32m      1\u001b[0m \u001b[0;31m# 上記は比較的時間のかかる処理なので、処理済みデータを別に残しておきます。\u001b[0m\u001b[0;34m\u001b[0m\u001b[0;34m\u001b[0m\u001b[0;34m\u001b[0m\u001b[0m\n\u001b[0;32m----> 2\u001b[0;31m \u001b[0mdf_work\u001b[0m \u001b[0;34m=\u001b[0m \u001b[0mdf_feature\u001b[0m\u001b[0;34m.\u001b[0m\u001b[0mcopy\u001b[0m\u001b[0;34m(\u001b[0m\u001b[0;34m)\u001b[0m\u001b[0;34m\u001b[0m\u001b[0;34m\u001b[0m\u001b[0m\n\u001b[0m",
            "\u001b[0;31mNameError\u001b[0m: name 'df_feature' is not defined"
          ]
        }
      ]
    },
    {
      "cell_type": "code",
      "metadata": {
        "id": "AGbHFnK0lAed",
        "scrolled": true,
        "colab": {
          "base_uri": "https://localhost:8080/",
          "height": 196
        },
        "outputId": "1e940714-60a7-4439-dbca-4cab31e465ee"
      },
      "source": [
        "# 処理後に木曜日、金曜日が祝日である2020-07-23、2020-07-24のレコードが前方補完されていることを確認します。\n",
        "df_work.loc[(slice(None), slice(\"2020-07-22\", \"2020-07-27\")),].head(4)"
      ],
      "execution_count": null,
      "outputs": [
        {
          "output_type": "execute_result",
          "data": {
            "text/html": [
              "<div>\n",
              "<style scoped>\n",
              "    .dataframe tbody tr th:only-of-type {\n",
              "        vertical-align: middle;\n",
              "    }\n",
              "\n",
              "    .dataframe tbody tr th {\n",
              "        vertical-align: top;\n",
              "    }\n",
              "\n",
              "    .dataframe thead th {\n",
              "        text-align: right;\n",
              "    }\n",
              "</style>\n",
              "<table border=\"1\" class=\"dataframe\">\n",
              "  <thead>\n",
              "    <tr style=\"text-align: right;\">\n",
              "      <th></th>\n",
              "      <th></th>\n",
              "      <th>EndOfDayQuote ExchangeOfficialClose</th>\n",
              "    </tr>\n",
              "    <tr>\n",
              "      <th>Local Code</th>\n",
              "      <th>EndOfDayQuote Date</th>\n",
              "      <th></th>\n",
              "    </tr>\n",
              "  </thead>\n",
              "  <tbody>\n",
              "    <tr>\n",
              "      <th rowspan=\"4\" valign=\"top\">1301</th>\n",
              "      <th>2020-07-22</th>\n",
              "      <td>0.018727</td>\n",
              "    </tr>\n",
              "    <tr>\n",
              "      <th>2020-07-23</th>\n",
              "      <td>0.018727</td>\n",
              "    </tr>\n",
              "    <tr>\n",
              "      <th>2020-07-24</th>\n",
              "      <td>0.018727</td>\n",
              "    </tr>\n",
              "    <tr>\n",
              "      <th>2020-07-27</th>\n",
              "      <td>0.014169</td>\n",
              "    </tr>\n",
              "  </tbody>\n",
              "</table>\n",
              "</div>"
            ],
            "text/plain": [
              "                               EndOfDayQuote ExchangeOfficialClose\n",
              "Local Code EndOfDayQuote Date                                     \n",
              "1301       2020-07-22                                     0.018727\n",
              "           2020-07-23                                     0.018727\n",
              "           2020-07-24                                     0.018727\n",
              "           2020-07-27                                     0.014169"
            ]
          },
          "metadata": {
            "tags": []
          },
          "execution_count": 22
        }
      ]
    },
    {
      "cell_type": "markdown",
      "metadata": {
        "id": "_xCj6RD4dOrV"
      },
      "source": [
        "　以下のコードでデータを整えます。インデックスとカラム名を調整しています。"
      ]
    },
    {
      "cell_type": "code",
      "metadata": {
        "id": "mkify_45lAed"
      },
      "source": [
        "# インデックスが銘柄コードと日付になっているため、日付のみに変更します。\n",
        "df_work = df_work.reset_index(level=[0])\n",
        "# カラム名を変更します。 \n",
        "df_work.rename(\n",
        "    columns={\"EndOfDayQuote ExchangeOfficialClose\": \"pct_change\"},\n",
        "    inplace=True,\n",
        ")\n",
        "# データをpred_start_dt以降の日付に絞り込みます。\n",
        "df_work = df_work.loc[df_work.index >= pred_start_dt]"
      ],
      "execution_count": null,
      "outputs": []
    },
    {
      "cell_type": "markdown",
      "metadata": {
        "id": "49n7ghG5lAed"
      },
      "source": [
        "特徴量が生成されていることを確認します。"
      ]
    },
    {
      "cell_type": "code",
      "metadata": {
        "id": "9TybKXoglAee",
        "colab": {
          "base_uri": "https://localhost:8080/",
          "height": 166
        },
        "outputId": "35bd649a-e2cf-4b6d-8180-16ccbecb7687"
      },
      "source": [
        "# df_workの最初の3行を出力する。\n",
        "df_work.head(3)"
      ],
      "execution_count": null,
      "outputs": [
        {
          "output_type": "execute_result",
          "data": {
            "text/html": [
              "<div>\n",
              "<style scoped>\n",
              "    .dataframe tbody tr th:only-of-type {\n",
              "        vertical-align: middle;\n",
              "    }\n",
              "\n",
              "    .dataframe tbody tr th {\n",
              "        vertical-align: top;\n",
              "    }\n",
              "\n",
              "    .dataframe thead th {\n",
              "        text-align: right;\n",
              "    }\n",
              "</style>\n",
              "<table border=\"1\" class=\"dataframe\">\n",
              "  <thead>\n",
              "    <tr style=\"text-align: right;\">\n",
              "      <th></th>\n",
              "      <th>Local Code</th>\n",
              "      <th>pct_change</th>\n",
              "    </tr>\n",
              "    <tr>\n",
              "      <th>EndOfDayQuote Date</th>\n",
              "      <th></th>\n",
              "      <th></th>\n",
              "    </tr>\n",
              "  </thead>\n",
              "  <tbody>\n",
              "    <tr>\n",
              "      <th>2019-12-30</th>\n",
              "      <td>1301</td>\n",
              "      <td>-0.010327</td>\n",
              "    </tr>\n",
              "    <tr>\n",
              "      <th>2019-12-31</th>\n",
              "      <td>1301</td>\n",
              "      <td>-0.010327</td>\n",
              "    </tr>\n",
              "    <tr>\n",
              "      <th>2020-01-01</th>\n",
              "      <td>1301</td>\n",
              "      <td>-0.010327</td>\n",
              "    </tr>\n",
              "  </tbody>\n",
              "</table>\n",
              "</div>"
            ],
            "text/plain": [
              "                    Local Code  pct_change\n",
              "EndOfDayQuote Date                        \n",
              "2019-12-30                1301   -0.010327\n",
              "2019-12-31                1301   -0.010327\n",
              "2020-01-01                1301   -0.010327"
            ]
          },
          "metadata": {
            "tags": []
          },
          "execution_count": 24
        }
      ]
    },
    {
      "cell_type": "markdown",
      "metadata": {
        "id": "qVSsPa7ylAee"
      },
      "source": [
        "## 4. ポートフォリオの組成"
      ]
    },
    {
      "cell_type": "markdown",
      "metadata": {
        "id": "fxvNssJPlAee"
      },
      "source": [
        "```\n",
        "　今回のポートフォリオでは買付日前週の金曜日終値時点を銘柄選択の基準とするため、金曜日のデータのみに絞り込みます。すでに「<<anchor-3.7.4,3.7.4. ポートフォリオ構築戦略の策定>>」において、金曜日が祝日の場合の処理はしていますので、そのまま金曜日に絞り込んで問題ありません。\n",
        "```"
      ]
    },
    {
      "cell_type": "code",
      "metadata": {
        "id": "hCZZqNSKlAee"
      },
      "source": [
        "# 金曜日のデータのみに絞り込みます\n",
        "df_work = df_work.loc[df_work.index.dayofweek == 4]"
      ],
      "execution_count": null,
      "outputs": []
    },
    {
      "cell_type": "markdown",
      "metadata": {
        "id": "Gg8h-dMulAee"
      },
      "source": [
        "　金曜日のデータのみとなっていることを確認します"
      ]
    },
    {
      "cell_type": "code",
      "metadata": {
        "id": "GGVrG-O1lAee",
        "scrolled": true,
        "colab": {
          "base_uri": "https://localhost:8080/",
          "height": 137
        },
        "outputId": "0b2b8eef-1f24-41af-ceb4-9fcbaac48b3b"
      },
      "source": [
        "# df_workの最初の2行を出力する。\n",
        "df_work.head(2)"
      ],
      "execution_count": null,
      "outputs": [
        {
          "output_type": "execute_result",
          "data": {
            "text/html": [
              "<div>\n",
              "<style scoped>\n",
              "    .dataframe tbody tr th:only-of-type {\n",
              "        vertical-align: middle;\n",
              "    }\n",
              "\n",
              "    .dataframe tbody tr th {\n",
              "        vertical-align: top;\n",
              "    }\n",
              "\n",
              "    .dataframe thead th {\n",
              "        text-align: right;\n",
              "    }\n",
              "</style>\n",
              "<table border=\"1\" class=\"dataframe\">\n",
              "  <thead>\n",
              "    <tr style=\"text-align: right;\">\n",
              "      <th></th>\n",
              "      <th>Local Code</th>\n",
              "      <th>pct_change</th>\n",
              "    </tr>\n",
              "    <tr>\n",
              "      <th>EndOfDayQuote Date</th>\n",
              "      <th></th>\n",
              "      <th></th>\n",
              "    </tr>\n",
              "  </thead>\n",
              "  <tbody>\n",
              "    <tr>\n",
              "      <th>2020-01-03</th>\n",
              "      <td>1301</td>\n",
              "      <td>-0.010327</td>\n",
              "    </tr>\n",
              "    <tr>\n",
              "      <th>2020-01-10</th>\n",
              "      <td>1301</td>\n",
              "      <td>0.020536</td>\n",
              "    </tr>\n",
              "  </tbody>\n",
              "</table>\n",
              "</div>"
            ],
            "text/plain": [
              "                    Local Code  pct_change\n",
              "EndOfDayQuote Date                        \n",
              "2020-01-03                1301   -0.010327\n",
              "2020-01-10                1301    0.020536"
            ]
          },
          "metadata": {
            "tags": []
          },
          "execution_count": 26
        }
      ]
    },
    {
      "cell_type": "markdown",
      "metadata": {
        "id": "Sw-QQZZtlAef"
      },
      "source": [
        "```\n",
        "　次に、日付毎にグループ化してから、下落率上位25銘柄を選択しています。本コンペティションの評価では、出力されたポートフォリオに記載されている順番で銘柄が購入されるため、なるべくリターンが高くなる銘柄から先に出力して購入されるようにすることが最適と考えられます。ここでは、下落率が高い銘柄ほどリターンの大きくなるとの仮説を立てて、`pct_change` について昇順で並べ替えてから銘柄を選択しています。こうすることで下落率が高い銘柄順に出力されるようにしています。\n",
        "\n",
        "　なお、ここでは説明をシンプルにするために特に理由なく25銘柄を選択していますが、例えば、5銘柄から50銘柄まで5銘柄ずつ増加させた合計10個のポートフォリオを組成してバックテストでパフォーマンスを比較することで、この戦略における最適な選択銘柄数を見つけられるかもしれません。また、その場合、50銘柄のポートフォリオを組成しておいて、バックテスト投入時に銘柄数を絞り込むロジックを組むことで処理時間を最適化できるかもしれません。\n",
        "```"
      ]
    },
    {
      "cell_type": "code",
      "metadata": {
        "id": "pXM6BrialAef"
      },
      "source": [
        "# 日付毎に処理するためグループ化します\n",
        "grouped_work = df_work.groupby(\"EndOfDayQuote Date\", as_index=False)"
      ],
      "execution_count": null,
      "outputs": []
    },
    {
      "cell_type": "code",
      "metadata": {
        "id": "XcvcZcpXlAek"
      },
      "source": [
        "# 選択する銘柄数を指定します\n",
        "number_of_portfolio_stocks = 25\n",
        "\n",
        "# ポートフォリオの組成方法を戦略に応じて調整します\n",
        "strategies = {\n",
        "    # リターン・リバーサル戦略\n",
        "    \"reversal\": {\"asc\": True},\n",
        "    # トレンドフォロー戦略\n",
        "    \"trend\": {\"asc\": False},\n",
        "}\n",
        "\n",
        "# 戦略に応じたポートフォリオを保存します\n",
        "df_portfolios = {}\n",
        "\n",
        "# strategy_id が設定されていない場合は全ての戦略のポートフォリオを作成します\n",
        "if \"strategy_id\" not in locals():\n",
        "    strategy_id = None\n",
        "\n",
        "for i in [strategy_id] if strategy_id is not None else strategies.keys():\n",
        "    #  日付毎に戦略に応じた上位25銘柄を選択します。\n",
        "    df_portfolios[i] = grouped_work.apply(\n",
        "        lambda x: x.sort_values(\n",
        "            \"pct_change\", ascending=strategies[i][\"asc\"]\n",
        "        ).head(number_of_portfolio_stocks)\n",
        "    )"
      ],
      "execution_count": null,
      "outputs": []
    },
    {
      "cell_type": "markdown",
      "metadata": {
        "id": "UEEsRXCvlAem"
      },
      "source": [
        "```\n",
        "　以下を確認します。\n",
        "\n",
        "1. 1つの週に対して25銘柄選択されていること\n",
        "2. 戦略に応じてpct_changeの値が反転していること\n",
        "```"
      ]
    },
    {
      "cell_type": "code",
      "metadata": {
        "id": "ik0DsvtWlAen",
        "scrolled": false,
        "colab": {
          "base_uri": "https://localhost:8080/",
          "height": 852
        },
        "outputId": "6ec755d5-736d-4be7-c7b2-c497e35c5636"
      },
      "source": [
        "# 結果結合用\n",
        "buff = []\n",
        "# 戦略毎に処理\n",
        "for i in df_portfolios.keys():\n",
        "    # ポートフォリオを表示用に保存\n",
        "    buff.append(\n",
        "        df_portfolios[i]\n",
        "        # マルチインデックスは操作しにくいので日付のみに変更します\n",
        "        .reset_index(level=[0])\n",
        "        # 先頭の26レコードを取得します\n",
        "        .head(26)\n",
        "        # 結合した後の列名をわかりやすくするために変更します\n",
        "        .rename(columns={v: f\"{i}_\" + v for v in df_portfolios[i].columns})\n",
        "    )\n",
        "# 結合して保存\n",
        "pd.concat(buff, axis=1)"
      ],
      "execution_count": null,
      "outputs": [
        {
          "output_type": "execute_result",
          "data": {
            "text/html": [
              "<div>\n",
              "<style scoped>\n",
              "    .dataframe tbody tr th:only-of-type {\n",
              "        vertical-align: middle;\n",
              "    }\n",
              "\n",
              "    .dataframe tbody tr th {\n",
              "        vertical-align: top;\n",
              "    }\n",
              "\n",
              "    .dataframe thead th {\n",
              "        text-align: right;\n",
              "    }\n",
              "</style>\n",
              "<table border=\"1\" class=\"dataframe\">\n",
              "  <thead>\n",
              "    <tr style=\"text-align: right;\">\n",
              "      <th></th>\n",
              "      <th>level_0</th>\n",
              "      <th>reversal_Local Code</th>\n",
              "      <th>reversal_pct_change</th>\n",
              "      <th>level_0</th>\n",
              "      <th>trend_Local Code</th>\n",
              "      <th>trend_pct_change</th>\n",
              "    </tr>\n",
              "    <tr>\n",
              "      <th>EndOfDayQuote Date</th>\n",
              "      <th></th>\n",
              "      <th></th>\n",
              "      <th></th>\n",
              "      <th></th>\n",
              "      <th></th>\n",
              "      <th></th>\n",
              "    </tr>\n",
              "  </thead>\n",
              "  <tbody>\n",
              "    <tr>\n",
              "      <th>2020-01-03</th>\n",
              "      <td>0</td>\n",
              "      <td>4592</td>\n",
              "      <td>-0.390509</td>\n",
              "      <td>0</td>\n",
              "      <td>6387</td>\n",
              "      <td>0.683388</td>\n",
              "    </tr>\n",
              "    <tr>\n",
              "      <th>2020-01-03</th>\n",
              "      <td>0</td>\n",
              "      <td>3254</td>\n",
              "      <td>-0.238041</td>\n",
              "      <td>0</td>\n",
              "      <td>4772</td>\n",
              "      <td>0.590909</td>\n",
              "    </tr>\n",
              "    <tr>\n",
              "      <th>2020-01-03</th>\n",
              "      <td>0</td>\n",
              "      <td>6875</td>\n",
              "      <td>-0.238018</td>\n",
              "      <td>0</td>\n",
              "      <td>6195</td>\n",
              "      <td>0.574572</td>\n",
              "    </tr>\n",
              "    <tr>\n",
              "      <th>2020-01-03</th>\n",
              "      <td>0</td>\n",
              "      <td>4571</td>\n",
              "      <td>-0.216292</td>\n",
              "      <td>0</td>\n",
              "      <td>5805</td>\n",
              "      <td>0.472906</td>\n",
              "    </tr>\n",
              "    <tr>\n",
              "      <th>2020-01-03</th>\n",
              "      <td>0</td>\n",
              "      <td>7956</td>\n",
              "      <td>-0.208087</td>\n",
              "      <td>0</td>\n",
              "      <td>2301</td>\n",
              "      <td>0.444934</td>\n",
              "    </tr>\n",
              "    <tr>\n",
              "      <th>2020-01-03</th>\n",
              "      <td>0</td>\n",
              "      <td>6049</td>\n",
              "      <td>-0.206723</td>\n",
              "      <td>0</td>\n",
              "      <td>8057</td>\n",
              "      <td>0.429389</td>\n",
              "    </tr>\n",
              "    <tr>\n",
              "      <th>2020-01-03</th>\n",
              "      <td>0</td>\n",
              "      <td>7744</td>\n",
              "      <td>-0.201477</td>\n",
              "      <td>0</td>\n",
              "      <td>2160</td>\n",
              "      <td>0.428416</td>\n",
              "    </tr>\n",
              "    <tr>\n",
              "      <th>2020-01-03</th>\n",
              "      <td>0</td>\n",
              "      <td>2395</td>\n",
              "      <td>-0.197201</td>\n",
              "      <td>0</td>\n",
              "      <td>7033</td>\n",
              "      <td>0.417166</td>\n",
              "    </tr>\n",
              "    <tr>\n",
              "      <th>2020-01-03</th>\n",
              "      <td>0</td>\n",
              "      <td>3660</td>\n",
              "      <td>-0.190358</td>\n",
              "      <td>0</td>\n",
              "      <td>4308</td>\n",
              "      <td>0.369888</td>\n",
              "    </tr>\n",
              "    <tr>\n",
              "      <th>2020-01-03</th>\n",
              "      <td>0</td>\n",
              "      <td>3549</td>\n",
              "      <td>-0.174910</td>\n",
              "      <td>0</td>\n",
              "      <td>7745</td>\n",
              "      <td>0.326276</td>\n",
              "    </tr>\n",
              "    <tr>\n",
              "      <th>2020-01-03</th>\n",
              "      <td>0</td>\n",
              "      <td>6966</td>\n",
              "      <td>-0.163335</td>\n",
              "      <td>0</td>\n",
              "      <td>9418</td>\n",
              "      <td>0.308731</td>\n",
              "    </tr>\n",
              "    <tr>\n",
              "      <th>2020-01-03</th>\n",
              "      <td>0</td>\n",
              "      <td>7959</td>\n",
              "      <td>-0.162630</td>\n",
              "      <td>0</td>\n",
              "      <td>6030</td>\n",
              "      <td>0.303882</td>\n",
              "    </tr>\n",
              "    <tr>\n",
              "      <th>2020-01-03</th>\n",
              "      <td>0</td>\n",
              "      <td>9262</td>\n",
              "      <td>-0.160945</td>\n",
              "      <td>0</td>\n",
              "      <td>2792</td>\n",
              "      <td>0.290647</td>\n",
              "    </tr>\n",
              "    <tr>\n",
              "      <th>2020-01-03</th>\n",
              "      <td>0</td>\n",
              "      <td>3665</td>\n",
              "      <td>-0.157994</td>\n",
              "      <td>0</td>\n",
              "      <td>7065</td>\n",
              "      <td>0.270258</td>\n",
              "    </tr>\n",
              "    <tr>\n",
              "      <th>2020-01-03</th>\n",
              "      <td>0</td>\n",
              "      <td>3540</td>\n",
              "      <td>-0.153425</td>\n",
              "      <td>0</td>\n",
              "      <td>7725</td>\n",
              "      <td>0.266986</td>\n",
              "    </tr>\n",
              "    <tr>\n",
              "      <th>2020-01-03</th>\n",
              "      <td>0</td>\n",
              "      <td>3415</td>\n",
              "      <td>-0.149233</td>\n",
              "      <td>0</td>\n",
              "      <td>4970</td>\n",
              "      <td>0.262248</td>\n",
              "    </tr>\n",
              "    <tr>\n",
              "      <th>2020-01-03</th>\n",
              "      <td>0</td>\n",
              "      <td>3915</td>\n",
              "      <td>-0.142055</td>\n",
              "      <td>0</td>\n",
              "      <td>3793</td>\n",
              "      <td>0.260573</td>\n",
              "    </tr>\n",
              "    <tr>\n",
              "      <th>2020-01-03</th>\n",
              "      <td>0</td>\n",
              "      <td>3688</td>\n",
              "      <td>-0.140969</td>\n",
              "      <td>0</td>\n",
              "      <td>6196</td>\n",
              "      <td>0.255708</td>\n",
              "    </tr>\n",
              "    <tr>\n",
              "      <th>2020-01-03</th>\n",
              "      <td>0</td>\n",
              "      <td>2158</td>\n",
              "      <td>-0.139303</td>\n",
              "      <td>0</td>\n",
              "      <td>3480</td>\n",
              "      <td>0.255411</td>\n",
              "    </tr>\n",
              "    <tr>\n",
              "      <th>2020-01-03</th>\n",
              "      <td>0</td>\n",
              "      <td>3990</td>\n",
              "      <td>-0.129799</td>\n",
              "      <td>0</td>\n",
              "      <td>4776</td>\n",
              "      <td>0.238731</td>\n",
              "    </tr>\n",
              "    <tr>\n",
              "      <th>2020-01-03</th>\n",
              "      <td>0</td>\n",
              "      <td>6187</td>\n",
              "      <td>-0.128635</td>\n",
              "      <td>0</td>\n",
              "      <td>9270</td>\n",
              "      <td>0.230222</td>\n",
              "    </tr>\n",
              "    <tr>\n",
              "      <th>2020-01-03</th>\n",
              "      <td>0</td>\n",
              "      <td>3788</td>\n",
              "      <td>-0.127185</td>\n",
              "      <td>0</td>\n",
              "      <td>6619</td>\n",
              "      <td>0.229292</td>\n",
              "    </tr>\n",
              "    <tr>\n",
              "      <th>2020-01-03</th>\n",
              "      <td>0</td>\n",
              "      <td>5909</td>\n",
              "      <td>-0.126891</td>\n",
              "      <td>0</td>\n",
              "      <td>8848</td>\n",
              "      <td>0.228374</td>\n",
              "    </tr>\n",
              "    <tr>\n",
              "      <th>2020-01-03</th>\n",
              "      <td>0</td>\n",
              "      <td>7244</td>\n",
              "      <td>-0.125576</td>\n",
              "      <td>0</td>\n",
              "      <td>3854</td>\n",
              "      <td>0.221130</td>\n",
              "    </tr>\n",
              "    <tr>\n",
              "      <th>2020-01-03</th>\n",
              "      <td>0</td>\n",
              "      <td>2170</td>\n",
              "      <td>-0.123967</td>\n",
              "      <td>0</td>\n",
              "      <td>6742</td>\n",
              "      <td>0.213178</td>\n",
              "    </tr>\n",
              "    <tr>\n",
              "      <th>2020-01-10</th>\n",
              "      <td>1</td>\n",
              "      <td>4592</td>\n",
              "      <td>-0.358134</td>\n",
              "      <td>1</td>\n",
              "      <td>6387</td>\n",
              "      <td>0.668619</td>\n",
              "    </tr>\n",
              "  </tbody>\n",
              "</table>\n",
              "</div>"
            ],
            "text/plain": [
              "                    level_0  reversal_Local Code  reversal_pct_change  level_0  trend_Local Code  trend_pct_change\n",
              "EndOfDayQuote Date                                                                                                \n",
              "2020-01-03                0                 4592            -0.390509        0              6387          0.683388\n",
              "2020-01-03                0                 3254            -0.238041        0              4772          0.590909\n",
              "2020-01-03                0                 6875            -0.238018        0              6195          0.574572\n",
              "2020-01-03                0                 4571            -0.216292        0              5805          0.472906\n",
              "2020-01-03                0                 7956            -0.208087        0              2301          0.444934\n",
              "2020-01-03                0                 6049            -0.206723        0              8057          0.429389\n",
              "2020-01-03                0                 7744            -0.201477        0              2160          0.428416\n",
              "2020-01-03                0                 2395            -0.197201        0              7033          0.417166\n",
              "2020-01-03                0                 3660            -0.190358        0              4308          0.369888\n",
              "2020-01-03                0                 3549            -0.174910        0              7745          0.326276\n",
              "2020-01-03                0                 6966            -0.163335        0              9418          0.308731\n",
              "2020-01-03                0                 7959            -0.162630        0              6030          0.303882\n",
              "2020-01-03                0                 9262            -0.160945        0              2792          0.290647\n",
              "2020-01-03                0                 3665            -0.157994        0              7065          0.270258\n",
              "2020-01-03                0                 3540            -0.153425        0              7725          0.266986\n",
              "2020-01-03                0                 3415            -0.149233        0              4970          0.262248\n",
              "2020-01-03                0                 3915            -0.142055        0              3793          0.260573\n",
              "2020-01-03                0                 3688            -0.140969        0              6196          0.255708\n",
              "2020-01-03                0                 2158            -0.139303        0              3480          0.255411\n",
              "2020-01-03                0                 3990            -0.129799        0              4776          0.238731\n",
              "2020-01-03                0                 6187            -0.128635        0              9270          0.230222\n",
              "2020-01-03                0                 3788            -0.127185        0              6619          0.229292\n",
              "2020-01-03                0                 5909            -0.126891        0              8848          0.228374\n",
              "2020-01-03                0                 7244            -0.125576        0              3854          0.221130\n",
              "2020-01-03                0                 2170            -0.123967        0              6742          0.213178\n",
              "2020-01-10                1                 4592            -0.358134        1              6387          0.668619"
            ]
          },
          "metadata": {
            "tags": []
          },
          "execution_count": 29
        }
      ]
    },
    {
      "cell_type": "markdown",
      "metadata": {
        "id": "JCo-IWfylAeo"
      },
      "source": [
        "```\n",
        "　ポートフォリオに組み入れる銘柄を決めたので、各銘柄について購入金額を指定します。今回はシンプルにするために50,000円を一律で指定して購入金額の総額を25銘柄分で合計125万とすることで、1株の価格が5万円を超えている銘柄が含まれていても予算上限に近い金額を購入できるようにしています。株価を参照して銘柄数や購入金額を調整することも検討してみてください。なお、本コンペティションのポートフォリオは、対象週の月曜日日付を指定する必要がありますので、金曜日から月曜日日付に変更しています。\n",
        "```"
      ]
    },
    {
      "cell_type": "code",
      "metadata": {
        "id": "SynYCYh3lAes"
      },
      "source": [
        "# 銘柄ごとの購入金額を指定\n",
        "budget = 50000\n",
        "# 戦略毎に処理\n",
        "for i in df_portfolios.keys():\n",
        "    # 購入株式数を設定\n",
        "    df_portfolios[i].loc[:, \"budget\"] = budget\n",
        "    # インデックスを日付のみにします\n",
        "    df_portfolios[i].reset_index(level=[0], inplace=True)\n",
        "    # 金曜日から月曜日日付に変更\n",
        "    df_portfolios[i].index = df_portfolios[i].index + pd.Timedelta(\"3D\")"
      ],
      "execution_count": null,
      "outputs": []
    },
    {
      "cell_type": "markdown",
      "metadata": {
        "id": "gf5lCeeelAes"
      },
      "source": [
        "これでポートフォリオが完成しました。完成したデータを確認します。"
      ]
    },
    {
      "cell_type": "code",
      "metadata": {
        "id": "gaslvHlllAet",
        "colab": {
          "base_uri": "https://localhost:8080/",
          "height": 353
        },
        "outputId": "aee84d86-e3c9-45bb-8996-b6839514ec14"
      },
      "source": [
        "# 戦略毎に処理\n",
        "for i in df_portfolios.keys():\n",
        "    # 戦略名を表示\n",
        "    display(i)\n",
        "    # 表示\n",
        "    display(df_portfolios[i].head(3))"
      ],
      "execution_count": null,
      "outputs": [
        {
          "output_type": "display_data",
          "data": {
            "application/vnd.google.colaboratory.intrinsic+json": {
              "type": "string"
            },
            "text/plain": [
              "'reversal'"
            ]
          },
          "metadata": {
            "tags": []
          }
        },
        {
          "output_type": "display_data",
          "data": {
            "text/html": [
              "<div>\n",
              "<style scoped>\n",
              "    .dataframe tbody tr th:only-of-type {\n",
              "        vertical-align: middle;\n",
              "    }\n",
              "\n",
              "    .dataframe tbody tr th {\n",
              "        vertical-align: top;\n",
              "    }\n",
              "\n",
              "    .dataframe thead th {\n",
              "        text-align: right;\n",
              "    }\n",
              "</style>\n",
              "<table border=\"1\" class=\"dataframe\">\n",
              "  <thead>\n",
              "    <tr style=\"text-align: right;\">\n",
              "      <th></th>\n",
              "      <th>level_0</th>\n",
              "      <th>Local Code</th>\n",
              "      <th>pct_change</th>\n",
              "      <th>budget</th>\n",
              "    </tr>\n",
              "    <tr>\n",
              "      <th>EndOfDayQuote Date</th>\n",
              "      <th></th>\n",
              "      <th></th>\n",
              "      <th></th>\n",
              "      <th></th>\n",
              "    </tr>\n",
              "  </thead>\n",
              "  <tbody>\n",
              "    <tr>\n",
              "      <th>2020-01-06</th>\n",
              "      <td>0</td>\n",
              "      <td>4592</td>\n",
              "      <td>-0.390509</td>\n",
              "      <td>50000</td>\n",
              "    </tr>\n",
              "    <tr>\n",
              "      <th>2020-01-06</th>\n",
              "      <td>0</td>\n",
              "      <td>3254</td>\n",
              "      <td>-0.238041</td>\n",
              "      <td>50000</td>\n",
              "    </tr>\n",
              "    <tr>\n",
              "      <th>2020-01-06</th>\n",
              "      <td>0</td>\n",
              "      <td>6875</td>\n",
              "      <td>-0.238018</td>\n",
              "      <td>50000</td>\n",
              "    </tr>\n",
              "  </tbody>\n",
              "</table>\n",
              "</div>"
            ],
            "text/plain": [
              "                    level_0  Local Code  pct_change  budget\n",
              "EndOfDayQuote Date                                         \n",
              "2020-01-06                0        4592   -0.390509   50000\n",
              "2020-01-06                0        3254   -0.238041   50000\n",
              "2020-01-06                0        6875   -0.238018   50000"
            ]
          },
          "metadata": {
            "tags": []
          }
        },
        {
          "output_type": "display_data",
          "data": {
            "application/vnd.google.colaboratory.intrinsic+json": {
              "type": "string"
            },
            "text/plain": [
              "'trend'"
            ]
          },
          "metadata": {
            "tags": []
          }
        },
        {
          "output_type": "display_data",
          "data": {
            "text/html": [
              "<div>\n",
              "<style scoped>\n",
              "    .dataframe tbody tr th:only-of-type {\n",
              "        vertical-align: middle;\n",
              "    }\n",
              "\n",
              "    .dataframe tbody tr th {\n",
              "        vertical-align: top;\n",
              "    }\n",
              "\n",
              "    .dataframe thead th {\n",
              "        text-align: right;\n",
              "    }\n",
              "</style>\n",
              "<table border=\"1\" class=\"dataframe\">\n",
              "  <thead>\n",
              "    <tr style=\"text-align: right;\">\n",
              "      <th></th>\n",
              "      <th>level_0</th>\n",
              "      <th>Local Code</th>\n",
              "      <th>pct_change</th>\n",
              "      <th>budget</th>\n",
              "    </tr>\n",
              "    <tr>\n",
              "      <th>EndOfDayQuote Date</th>\n",
              "      <th></th>\n",
              "      <th></th>\n",
              "      <th></th>\n",
              "      <th></th>\n",
              "    </tr>\n",
              "  </thead>\n",
              "  <tbody>\n",
              "    <tr>\n",
              "      <th>2020-01-06</th>\n",
              "      <td>0</td>\n",
              "      <td>6387</td>\n",
              "      <td>0.683388</td>\n",
              "      <td>50000</td>\n",
              "    </tr>\n",
              "    <tr>\n",
              "      <th>2020-01-06</th>\n",
              "      <td>0</td>\n",
              "      <td>4772</td>\n",
              "      <td>0.590909</td>\n",
              "      <td>50000</td>\n",
              "    </tr>\n",
              "    <tr>\n",
              "      <th>2020-01-06</th>\n",
              "      <td>0</td>\n",
              "      <td>6195</td>\n",
              "      <td>0.574572</td>\n",
              "      <td>50000</td>\n",
              "    </tr>\n",
              "  </tbody>\n",
              "</table>\n",
              "</div>"
            ],
            "text/plain": [
              "                    level_0  Local Code  pct_change  budget\n",
              "EndOfDayQuote Date                                         \n",
              "2020-01-06                0        6387    0.683388   50000\n",
              "2020-01-06                0        4772    0.590909   50000\n",
              "2020-01-06                0        6195    0.574572   50000"
            ]
          },
          "metadata": {
            "tags": []
          }
        }
      ]
    },
    {
      "cell_type": "markdown",
      "metadata": {
        "id": "G63ZZHmSlAet"
      },
      "source": [
        "　ポートフォリオ組成に用いた特徴量やその他のカラムが残っているため、本コンペティションで決められている出力フォーマットと一致するように出力を調整します。"
      ]
    },
    {
      "cell_type": "markdown",
      "metadata": {
        "id": "V3fA1mYnlAeu"
      },
      "source": [
        "## 5. 出力の調整"
      ]
    },
    {
      "cell_type": "markdown",
      "metadata": {
        "id": "C38aXnU8lAeu"
      },
      "source": [
        "```\n",
        "　本コンペティションのポートフォリオの出力フォーマットは「<<anchor-3.3.4, 3.3.4. 提出するモデルの予測出力の定義>>」をご参照ください。ここでは出力フォーマットに合わせるためにインデックス名やカラム数を調整します。\n",
        "```"
      ]
    },
    {
      "cell_type": "code",
      "metadata": {
        "id": "-v380F_XlAeu"
      },
      "source": [
        "# 戦略毎に処理\n",
        "for i in df_portfolios.keys():\n",
        "    # インデックス名を設定\n",
        "    df_portfolios[i].index.name = \"date\"\n",
        "    # 出力するカラムを絞り込みます\n",
        "    df_portfolios[i] = df_portfolios[i].loc[:, [\"Local Code\", \"budget\"]]"
      ],
      "execution_count": null,
      "outputs": []
    },
    {
      "cell_type": "markdown",
      "metadata": {
        "id": "sAg5ss07lAeu"
      },
      "source": [
        "ポートフォリオが出力フォーマットと一致していることを確認します。"
      ]
    },
    {
      "cell_type": "code",
      "metadata": {
        "id": "UHjBp3bKlAeu",
        "colab": {
          "base_uri": "https://localhost:8080/",
          "height": 316
        },
        "outputId": "91bb252a-5886-4de1-9534-b96ad2e86e75"
      },
      "source": [
        "# 戦略毎に処理\n",
        "for i in df_portfolios.keys():\n",
        "    # ポートフォリオを確認\n",
        "    display(df_portfolios[i].head(3))"
      ],
      "execution_count": null,
      "outputs": [
        {
          "output_type": "display_data",
          "data": {
            "text/html": [
              "<div>\n",
              "<style scoped>\n",
              "    .dataframe tbody tr th:only-of-type {\n",
              "        vertical-align: middle;\n",
              "    }\n",
              "\n",
              "    .dataframe tbody tr th {\n",
              "        vertical-align: top;\n",
              "    }\n",
              "\n",
              "    .dataframe thead th {\n",
              "        text-align: right;\n",
              "    }\n",
              "</style>\n",
              "<table border=\"1\" class=\"dataframe\">\n",
              "  <thead>\n",
              "    <tr style=\"text-align: right;\">\n",
              "      <th></th>\n",
              "      <th>Local Code</th>\n",
              "      <th>budget</th>\n",
              "    </tr>\n",
              "    <tr>\n",
              "      <th>date</th>\n",
              "      <th></th>\n",
              "      <th></th>\n",
              "    </tr>\n",
              "  </thead>\n",
              "  <tbody>\n",
              "    <tr>\n",
              "      <th>2020-01-06</th>\n",
              "      <td>4592</td>\n",
              "      <td>50000</td>\n",
              "    </tr>\n",
              "    <tr>\n",
              "      <th>2020-01-06</th>\n",
              "      <td>3254</td>\n",
              "      <td>50000</td>\n",
              "    </tr>\n",
              "    <tr>\n",
              "      <th>2020-01-06</th>\n",
              "      <td>6875</td>\n",
              "      <td>50000</td>\n",
              "    </tr>\n",
              "  </tbody>\n",
              "</table>\n",
              "</div>"
            ],
            "text/plain": [
              "            Local Code  budget\n",
              "date                          \n",
              "2020-01-06        4592   50000\n",
              "2020-01-06        3254   50000\n",
              "2020-01-06        6875   50000"
            ]
          },
          "metadata": {
            "tags": []
          }
        },
        {
          "output_type": "display_data",
          "data": {
            "text/html": [
              "<div>\n",
              "<style scoped>\n",
              "    .dataframe tbody tr th:only-of-type {\n",
              "        vertical-align: middle;\n",
              "    }\n",
              "\n",
              "    .dataframe tbody tr th {\n",
              "        vertical-align: top;\n",
              "    }\n",
              "\n",
              "    .dataframe thead th {\n",
              "        text-align: right;\n",
              "    }\n",
              "</style>\n",
              "<table border=\"1\" class=\"dataframe\">\n",
              "  <thead>\n",
              "    <tr style=\"text-align: right;\">\n",
              "      <th></th>\n",
              "      <th>Local Code</th>\n",
              "      <th>budget</th>\n",
              "    </tr>\n",
              "    <tr>\n",
              "      <th>date</th>\n",
              "      <th></th>\n",
              "      <th></th>\n",
              "    </tr>\n",
              "  </thead>\n",
              "  <tbody>\n",
              "    <tr>\n",
              "      <th>2020-01-06</th>\n",
              "      <td>6387</td>\n",
              "      <td>50000</td>\n",
              "    </tr>\n",
              "    <tr>\n",
              "      <th>2020-01-06</th>\n",
              "      <td>4772</td>\n",
              "      <td>50000</td>\n",
              "    </tr>\n",
              "    <tr>\n",
              "      <th>2020-01-06</th>\n",
              "      <td>6195</td>\n",
              "      <td>50000</td>\n",
              "    </tr>\n",
              "  </tbody>\n",
              "</table>\n",
              "</div>"
            ],
            "text/plain": [
              "            Local Code  budget\n",
              "date                          \n",
              "2020-01-06        6387   50000\n",
              "2020-01-06        4772   50000\n",
              "2020-01-06        6195   50000"
            ]
          },
          "metadata": {
            "tags": []
          }
        }
      ]
    },
    {
      "cell_type": "markdown",
      "metadata": {
        "id": "Jsr8pSxHlAev"
      },
      "source": [
        "　本コンペティションの `ScoringService.predict` の出力仕様はcsv形式の文字列であるため、仕様に合わせて出力します。"
      ]
    },
    {
      "cell_type": "code",
      "metadata": {
        "id": "CqEHbTnOlAev"
      },
      "source": [
        "# 出力保存用\n",
        "outputs = {}\n",
        "# 戦略毎に処理\n",
        "for i in df_portfolios.keys():\n",
        "    # 出力します\n",
        "    out = io.StringIO()\n",
        "    # CSV形式で出力\n",
        "    df_portfolios[i].to_csv(out, header=True)\n",
        "    # 出力を保存\n",
        "    outputs[i] = out.getvalue()"
      ],
      "execution_count": null,
      "outputs": []
    },
    {
      "cell_type": "markdown",
      "metadata": {
        "id": "VjNZQnlnlAev"
      },
      "source": [
        "出力を確認します。"
      ]
    },
    {
      "cell_type": "code",
      "metadata": {
        "id": "eMV--V5glAev",
        "colab": {
          "base_uri": "https://localhost:8080/"
        },
        "outputId": "e1c0e8f6-f26e-429d-c082-5275b4982753"
      },
      "source": [
        "# 戦略毎に処理\n",
        "for i in outputs.keys():\n",
        "    # 戦略名を表示\n",
        "    print(f'// \"{i}\"')\n",
        "    # 出力を確認\n",
        "    print(\"\\n\".join(outputs[i].split(\"\\n\")[:4]))"
      ],
      "execution_count": null,
      "outputs": [
        {
          "output_type": "stream",
          "text": [
            "// \"reversal\"\n",
            "date,Local Code,budget\n",
            "2020-01-06,4592,50000\n",
            "2020-01-06,3254,50000\n",
            "2020-01-06,6875,50000\n",
            "// \"trend\"\n",
            "date,Local Code,budget\n",
            "2020-01-06,6387,50000\n",
            "2020-01-06,4772,50000\n",
            "2020-01-06,6195,50000\n"
          ],
          "name": "stdout"
        }
      ]
    },
    {
      "cell_type": "markdown",
      "metadata": {
        "id": "PKLk2sKdlAev"
      },
      "source": [
        "バックテスト用に出力を保存しておきます。"
      ]
    },
    {
      "cell_type": "code",
      "metadata": {
        "id": "MA88kUUwlAev"
      },
      "source": [
        "# 戦略毎に処理\n",
        "for i in outputs.keys():\n",
        "    # 出力を保存します。\n",
        "    with open(f\"chapter03-tutorial-01-{i}.csv\", mode=\"w\") as f:\n",
        "        # ポートフォリオをファイルに書き出し\n",
        "        f.write(outputs[i])"
      ],
      "execution_count": null,
      "outputs": []
    },
    {
      "cell_type": "code",
      "metadata": {
        "id": "ccMt7NqUlAew"
      },
      "source": [
        ""
      ],
      "execution_count": null,
      "outputs": []
    },
    {
      "cell_type": "markdown",
      "metadata": {
        "id": "gjZ2s7U-lAew"
      },
      "source": [
        "## 6. バックテストの実行"
      ]
    },
    {
      "cell_type": "markdown",
      "metadata": {
        "id": "wmO3Ju8YlAew"
      },
      "source": [
        "```\n",
        "　本コンペティションの Public LB および Private LB と同等の評価ロジックを実装したバックテスト用の `backtest.py` ファイルを使用して、作成したポートフォリオを評価します。\n",
        "バックテストの使用法などの詳細は、「<<anchor-3.6, 3.6. バックテスト環境の構築>>」をご参照ください。\n",
        "\n",
        "　初めにバックテストを使用する際に必要なデータを準備します。バックテストの実行には以下の3つのデータが必要になります。\n",
        "\n",
        "1. ユニバース (stock_list.csv.gz)\n",
        "2. 株価 (stock_price.csv.gz)\n",
        "3. テスト対象のポートフォリオ\n",
        "\n",
        "　`Backtest.prepare_data` に1および2のデータを保存しているディレクトリへのパスを指定して、必要なデータをロードします。\n",
        "```"
      ]
    },
    {
      "cell_type": "code",
      "metadata": {
        "id": "yZ6YnFKJlAew"
      },
      "source": [
        "# データを保存しているディレクトリを指定します。\n",
        "backtest_dataset_dir = dataset_dir\n",
        "# バックテストに必要なデータを読み込みます。\n",
        "backtest_codes, backtest_price = Backtest.prepare_data(backtest_dataset_dir)"
      ],
      "execution_count": null,
      "outputs": []
    },
    {
      "cell_type": "markdown",
      "metadata": {
        "id": "vGkEZjlmlAew"
      },
      "source": [
        "　バックテスト対象の戦略であるリターン・リバーサル戦略とトレンドフォロー戦略を定義します。"
      ]
    },
    {
      "cell_type": "code",
      "metadata": {
        "id": "TSz4lSaqlAex"
      },
      "source": [
        "# ポートフォリオの組成方法\n",
        "backtest_strategies = {\n",
        "    # リターン・リバーサル戦略\n",
        "    \"reversal\": {},\n",
        "    # トレンドフォロー戦略\n",
        "    \"trend\": {},\n",
        "}"
      ],
      "execution_count": null,
      "outputs": []
    },
    {
      "cell_type": "markdown",
      "metadata": {
        "id": "wU9aQ8OnlAex"
      },
      "source": [
        "```\n",
        "　`Backtest.load_submit` にテスト対象のポートフォリオを保存したファイルへのパスを指定して読み込みます。`load_submit` ではデータを読み込み時にフォーマットのチェックをしたり、レコード順を付与するなどのバックテスト実行のための前処理を実施しています。\n",
        "```"
      ]
    },
    {
      "cell_type": "code",
      "metadata": {
        "id": "f4O9jophlAex"
      },
      "source": [
        "# ポートフォリオデータ保存用\n",
        "df_submits = {}\n",
        "# 先ほど出力したポートフィリオデータを読み込みます\n",
        "for i in backtest_strategies.keys():\n",
        "    # ポートフォリオを読み込み\n",
        "    df_submits[i] = Backtest.load_submit(f\"chapter03-tutorial-01-{i}.csv\")"
      ],
      "execution_count": null,
      "outputs": []
    },
    {
      "cell_type": "markdown",
      "metadata": {
        "id": "2XKDMIoLlAex"
      },
      "source": [
        "3つのデータを指定してバックテストを実行します。"
      ]
    },
    {
      "cell_type": "code",
      "metadata": {
        "id": "CxUmMisolAex",
        "scrolled": false,
        "colab": {
          "base_uri": "https://localhost:8080/",
          "height": 165,
          "referenced_widgets": [
            "447d01f438224e8eaa8388633098b99f",
            "224069d80bcb4a449ab4619e85cb39f7",
            "7eb63bdaa82d4a38a5979d3d07040e99",
            "171eba795b1e45c6a115f2516016e7ac",
            "c15ba4c730fa4bf987cbcecd162c749a",
            "195a2e6facdf4705a88ca42cb4e8b4b8",
            "d5ce1d27dfdd472792845fd015eac791",
            "9707e9fc65f74a5cb535f4f82fd0a920",
            "0e658427d6b24cad9382f2340f361cd0",
            "58f587f4b6214c40938e8aa00234a793",
            "f656c26eb78341c2a812adef8eb49a68",
            "abaf631b7e6e41da95833be38590ce8d",
            "b007ad509c0245cb98ec02b8eb8ba03a",
            "79891570dcdc44b9b79b835e04b09577",
            "76e9380f8b684a80bdacbcbb84f1631b",
            "bc13aaaeb3bd4fdfaee7dcb435f11a51",
            "01d0e8e85cc54eba98c4a380be803ca3",
            "70e58e9ddd1046e29120f722e96fa23a",
            "a994a006328447a0bbadea82cfaccb1b",
            "b9401a6f35874e2c9d183d59211fb7d6",
            "827c73ffd846468aacf06519146ff6a5",
            "186c0d0739104ad89bcfef55f09b4d0a",
            "6a66fee4d2e14fb6b9e9c8dddccdf5f6",
            "066ae963802a444aa7e39c16ca139ec8"
          ]
        },
        "outputId": "b39e445a-04ac-4e68-dd5c-836b022a1ce5"
      },
      "source": [
        "# バックテスト結果リターン情報保存用\n",
        "results = {}\n",
        "# バックテスト結果銘柄情報保存用\n",
        "stocks = {}\n",
        "# 戦略毎に処理\n",
        "for i in tqdm(backtest_strategies.keys()):\n",
        "    # バックテストを実行します\n",
        "    results[i], stocks[i] = Backtest.run(df_submits[i], backtest_codes, backtest_price)"
      ],
      "execution_count": null,
      "outputs": [
        {
          "output_type": "display_data",
          "data": {
            "application/vnd.jupyter.widget-view+json": {
              "model_id": "447d01f438224e8eaa8388633098b99f",
              "version_minor": 0,
              "version_major": 2
            },
            "text/plain": [
              "HBox(children=(FloatProgress(value=0.0, max=2.0), HTML(value='')))"
            ]
          },
          "metadata": {
            "tags": []
          }
        },
        {
          "output_type": "display_data",
          "data": {
            "application/vnd.jupyter.widget-view+json": {
              "model_id": "0e658427d6b24cad9382f2340f361cd0",
              "version_minor": 0,
              "version_major": 2
            },
            "text/plain": [
              "HBox(children=(FloatProgress(value=0.0, max=52.0), HTML(value='')))"
            ]
          },
          "metadata": {
            "tags": []
          }
        },
        {
          "output_type": "stream",
          "text": [
            "\n"
          ],
          "name": "stdout"
        },
        {
          "output_type": "display_data",
          "data": {
            "application/vnd.jupyter.widget-view+json": {
              "model_id": "01d0e8e85cc54eba98c4a380be803ca3",
              "version_minor": 0,
              "version_major": 2
            },
            "text/plain": [
              "HBox(children=(FloatProgress(value=0.0, max=52.0), HTML(value='')))"
            ]
          },
          "metadata": {
            "tags": []
          }
        },
        {
          "output_type": "stream",
          "text": [
            "\n",
            "\n"
          ],
          "name": "stdout"
        }
      ]
    },
    {
      "cell_type": "markdown",
      "metadata": {
        "id": "hfC3pl3nlAex"
      },
      "source": [
        "返り値を確認します。評価は下記で実施します。"
      ]
    },
    {
      "cell_type": "code",
      "metadata": {
        "id": "FzGqMp0klAey",
        "scrolled": false,
        "colab": {
          "base_uri": "https://localhost:8080/",
          "height": 207
        },
        "outputId": "3e19dbca-89b3-450d-ee42-c406129f9780"
      },
      "source": [
        "# バックテスト結果のサマリー\n",
        "results[\"reversal\"].head(3)"
      ],
      "execution_count": null,
      "outputs": [
        {
          "output_type": "execute_result",
          "data": {
            "text/html": [
              "<div>\n",
              "<style scoped>\n",
              "    .dataframe tbody tr th:only-of-type {\n",
              "        vertical-align: middle;\n",
              "    }\n",
              "\n",
              "    .dataframe tbody tr th {\n",
              "        vertical-align: top;\n",
              "    }\n",
              "\n",
              "    .dataframe thead th {\n",
              "        text-align: right;\n",
              "    }\n",
              "</style>\n",
              "<table border=\"1\" class=\"dataframe\">\n",
              "  <thead>\n",
              "    <tr style=\"text-align: right;\">\n",
              "      <th></th>\n",
              "      <th>day_1</th>\n",
              "      <th>day_2</th>\n",
              "      <th>day_3</th>\n",
              "      <th>day_4</th>\n",
              "      <th>day_5</th>\n",
              "      <th>date</th>\n",
              "      <th>holiday</th>\n",
              "      <th>bought</th>\n",
              "      <th>cash</th>\n",
              "      <th>week_pl</th>\n",
              "      <th>week_return</th>\n",
              "      <th>day_1_return</th>\n",
              "      <th>day_1_pl</th>\n",
              "      <th>day_2_return</th>\n",
              "      <th>day_2_pl</th>\n",
              "      <th>day_3_return</th>\n",
              "      <th>day_3_pl</th>\n",
              "      <th>day_4_return</th>\n",
              "      <th>day_4_pl</th>\n",
              "      <th>day_5_return</th>\n",
              "      <th>day_5_pl</th>\n",
              "      <th>exp</th>\n",
              "      <th>std</th>\n",
              "      <th>sharp</th>\n",
              "    </tr>\n",
              "  </thead>\n",
              "  <tbody>\n",
              "    <tr>\n",
              "      <th>0</th>\n",
              "      <td>995534.0</td>\n",
              "      <td>1011910.0</td>\n",
              "      <td>988362.0</td>\n",
              "      <td>1005208.0</td>\n",
              "      <td>1006121.0</td>\n",
              "      <td>2020-01-06</td>\n",
              "      <td>[]</td>\n",
              "      <td>999725.0</td>\n",
              "      <td>275.0</td>\n",
              "      <td>6121.0</td>\n",
              "      <td>0.6121</td>\n",
              "      <td>-0.4466</td>\n",
              "      <td>-4466.0</td>\n",
              "      <td>1.644946</td>\n",
              "      <td>16376.0</td>\n",
              "      <td>-2.327084</td>\n",
              "      <td>-23548.0</td>\n",
              "      <td>1.704436</td>\n",
              "      <td>16846.0</td>\n",
              "      <td>0.090827</td>\n",
              "      <td>913.0</td>\n",
              "      <td>0.133305</td>\n",
              "      <td>1.669216</td>\n",
              "      <td>0.079861</td>\n",
              "    </tr>\n",
              "    <tr>\n",
              "      <th>1</th>\n",
              "      <td>1000000.0</td>\n",
              "      <td>992826.0</td>\n",
              "      <td>991568.0</td>\n",
              "      <td>985070.0</td>\n",
              "      <td>990154.0</td>\n",
              "      <td>2020-01-13</td>\n",
              "      <td>[0]</td>\n",
              "      <td>999670.0</td>\n",
              "      <td>330.0</td>\n",
              "      <td>-9846.0</td>\n",
              "      <td>-0.9846</td>\n",
              "      <td>0.0000</td>\n",
              "      <td>0.0</td>\n",
              "      <td>-0.717400</td>\n",
              "      <td>-7174.0</td>\n",
              "      <td>-0.126709</td>\n",
              "      <td>-1258.0</td>\n",
              "      <td>-0.655326</td>\n",
              "      <td>-6498.0</td>\n",
              "      <td>0.516105</td>\n",
              "      <td>5084.0</td>\n",
              "      <td>-0.245832</td>\n",
              "      <td>0.572946</td>\n",
              "      <td>-0.429067</td>\n",
              "    </tr>\n",
              "    <tr>\n",
              "      <th>2</th>\n",
              "      <td>1008989.0</td>\n",
              "      <td>1005477.0</td>\n",
              "      <td>1003247.0</td>\n",
              "      <td>986361.0</td>\n",
              "      <td>966403.0</td>\n",
              "      <td>2020-01-20</td>\n",
              "      <td>[]</td>\n",
              "      <td>999933.0</td>\n",
              "      <td>67.0</td>\n",
              "      <td>-33597.0</td>\n",
              "      <td>-3.3597</td>\n",
              "      <td>0.8989</td>\n",
              "      <td>8989.0</td>\n",
              "      <td>-0.348071</td>\n",
              "      <td>-3512.0</td>\n",
              "      <td>-0.221785</td>\n",
              "      <td>-2230.0</td>\n",
              "      <td>-1.683135</td>\n",
              "      <td>-16886.0</td>\n",
              "      <td>-2.023397</td>\n",
              "      <td>-19958.0</td>\n",
              "      <td>-0.675498</td>\n",
              "      <td>1.185744</td>\n",
              "      <td>-0.569683</td>\n",
              "    </tr>\n",
              "  </tbody>\n",
              "</table>\n",
              "</div>"
            ],
            "text/plain": [
              "       day_1      day_2      day_3      day_4      day_5       date holiday    bought   cash  week_pl  week_return  \\\n",
              "0   995534.0  1011910.0   988362.0  1005208.0  1006121.0 2020-01-06      []  999725.0  275.0   6121.0       0.6121   \n",
              "1  1000000.0   992826.0   991568.0   985070.0   990154.0 2020-01-13     [0]  999670.0  330.0  -9846.0      -0.9846   \n",
              "2  1008989.0  1005477.0  1003247.0   986361.0   966403.0 2020-01-20      []  999933.0   67.0 -33597.0      -3.3597   \n",
              "\n",
              "   day_1_return  day_1_pl  day_2_return  day_2_pl  day_3_return  day_3_pl  day_4_return  day_4_pl  day_5_return  \\\n",
              "0       -0.4466   -4466.0      1.644946   16376.0     -2.327084  -23548.0      1.704436   16846.0      0.090827   \n",
              "1        0.0000       0.0     -0.717400   -7174.0     -0.126709   -1258.0     -0.655326   -6498.0      0.516105   \n",
              "2        0.8989    8989.0     -0.348071   -3512.0     -0.221785   -2230.0     -1.683135  -16886.0     -2.023397   \n",
              "\n",
              "   day_5_pl       exp       std     sharp  \n",
              "0     913.0  0.133305  1.669216  0.079861  \n",
              "1    5084.0 -0.245832  0.572946 -0.429067  \n",
              "2  -19958.0 -0.675498  1.185744 -0.569683  "
            ]
          },
          "metadata": {
            "tags": []
          },
          "execution_count": 41
        }
      ]
    },
    {
      "cell_type": "code",
      "metadata": {
        "id": "y9v9FaaQlAey",
        "colab": {
          "base_uri": "https://localhost:8080/",
          "height": 137
        },
        "outputId": "6d701672-6fff-44b0-c816-db5eafee07f6"
      },
      "source": [
        "# 銘柄毎の情報\n",
        "stocks[\"reversal\"].head(3)"
      ],
      "execution_count": null,
      "outputs": [
        {
          "output_type": "execute_result",
          "data": {
            "text/html": [
              "<div>\n",
              "<style scoped>\n",
              "    .dataframe tbody tr th:only-of-type {\n",
              "        vertical-align: middle;\n",
              "    }\n",
              "\n",
              "    .dataframe tbody tr th {\n",
              "        vertical-align: top;\n",
              "    }\n",
              "\n",
              "    .dataframe thead th {\n",
              "        text-align: right;\n",
              "    }\n",
              "</style>\n",
              "<table border=\"1\" class=\"dataframe\">\n",
              "  <thead>\n",
              "    <tr style=\"text-align: right;\">\n",
              "      <th></th>\n",
              "      <th>date</th>\n",
              "      <th>Local Code</th>\n",
              "      <th>budget</th>\n",
              "      <th>n</th>\n",
              "      <th>entry</th>\n",
              "      <th>day_1</th>\n",
              "      <th>day_2</th>\n",
              "      <th>day_3</th>\n",
              "      <th>day_4</th>\n",
              "      <th>day_5</th>\n",
              "      <th>bought</th>\n",
              "      <th>actual</th>\n",
              "    </tr>\n",
              "  </thead>\n",
              "  <tbody>\n",
              "    <tr>\n",
              "      <th>0</th>\n",
              "      <td>2020-01-06</td>\n",
              "      <td>4592</td>\n",
              "      <td>50000</td>\n",
              "      <td>0</td>\n",
              "      <td>2602.0</td>\n",
              "      <td>2640.0</td>\n",
              "      <td>2645.0</td>\n",
              "      <td>2600.0</td>\n",
              "      <td>2652.0</td>\n",
              "      <td>2683.0</td>\n",
              "      <td>49438.0</td>\n",
              "      <td>19.0</td>\n",
              "    </tr>\n",
              "    <tr>\n",
              "      <th>1</th>\n",
              "      <td>2020-01-06</td>\n",
              "      <td>3254</td>\n",
              "      <td>50000</td>\n",
              "      <td>1</td>\n",
              "      <td>1318.0</td>\n",
              "      <td>1344.0</td>\n",
              "      <td>1351.0</td>\n",
              "      <td>1342.0</td>\n",
              "      <td>1339.0</td>\n",
              "      <td>1331.0</td>\n",
              "      <td>48766.0</td>\n",
              "      <td>37.0</td>\n",
              "    </tr>\n",
              "    <tr>\n",
              "      <th>2</th>\n",
              "      <td>2020-01-06</td>\n",
              "      <td>6875</td>\n",
              "      <td>50000</td>\n",
              "      <td>2</td>\n",
              "      <td>1848.0</td>\n",
              "      <td>1827.0</td>\n",
              "      <td>1847.0</td>\n",
              "      <td>1794.0</td>\n",
              "      <td>1892.0</td>\n",
              "      <td>1883.0</td>\n",
              "      <td>49896.0</td>\n",
              "      <td>27.0</td>\n",
              "    </tr>\n",
              "  </tbody>\n",
              "</table>\n",
              "</div>"
            ],
            "text/plain": [
              "        date  Local Code  budget  n   entry   day_1   day_2   day_3   day_4   day_5   bought  actual\n",
              "0 2020-01-06        4592   50000  0  2602.0  2640.0  2645.0  2600.0  2652.0  2683.0  49438.0    19.0\n",
              "1 2020-01-06        3254   50000  1  1318.0  1344.0  1351.0  1342.0  1339.0  1331.0  48766.0    37.0\n",
              "2 2020-01-06        6875   50000  2  1848.0  1827.0  1847.0  1794.0  1892.0  1883.0  49896.0    27.0"
            ]
          },
          "metadata": {
            "tags": []
          },
          "execution_count": 42
        }
      ]
    },
    {
      "cell_type": "code",
      "metadata": {
        "id": "FtqubtlMlAey"
      },
      "source": [
        ""
      ],
      "execution_count": null,
      "outputs": []
    },
    {
      "cell_type": "markdown",
      "metadata": {
        "id": "tnHu1VPvlAey"
      },
      "source": [
        "## 7. バックテストの評価"
      ]
    },
    {
      "cell_type": "markdown",
      "metadata": {
        "id": "nHsBeLUXlAey"
      },
      "source": [
        "```\n",
        "　バックテストを実行して取得した、週毎のリターン情報と各銘柄毎の購入結果数の情報を評価していきます。各評価項目の定義については、「<<anchor-3.6.4, 3.6.4. バックテストの評価軸と取引戦略>>」をご参照ください。\n",
        "\n",
        "　結果の評価として以下を実施します。\n",
        "\n",
        "*週毎のリターンデータ*\n",
        "\n",
        "1. 週毎の運用実績（PL）の分布をプロット (週毎の運用実績の合計値が本コンペティションの評価項目)\n",
        "2. 週毎の運用実績の統計量の算出\n",
        "3. 週毎の勝率・ペイオフレシオ・シャープレシオの算出\n",
        "4. 週毎のリターン推移のプロット\n",
        "5. 曜日別分析のためのバイオリンプロット\n",
        "6. 週毎のリターンの累積プロット\n",
        "7. ユニバースとの散布図\n",
        "8. ユニバースに対するベータを計算\n",
        "```"
      ]
    },
    {
      "cell_type": "markdown",
      "metadata": {
        "id": "Ci20xqLfdOre"
      },
      "source": [
        "### 1. 週毎の運用実績（PL）の分布をプロット (週毎の運用実績の合計値が本コンペティションの評価項目)"
      ]
    },
    {
      "cell_type": "markdown",
      "metadata": {
        "id": "GSD0ISD6lAez"
      },
      "source": [
        "　まず、週毎の運用実績の分布をプロットしてみます。"
      ]
    },
    {
      "cell_type": "code",
      "metadata": {
        "id": "5qCke4OQlAez",
        "colab": {
          "base_uri": "https://localhost:8080/",
          "height": 499
        },
        "outputId": "dd5c11b1-0062-4a06-e3e1-a13d94ab5bb0"
      },
      "source": [
        "# 描画領域を定義\n",
        "fig, axes = plt.subplots(1, len(results), figsize=(8 * len(results), 8), sharex=True, sharey=True)\n",
        "\n",
        "# 戦略毎に処理\n",
        "for i, k in enumerate(results.keys()):\n",
        "    # 描画位置を指定\n",
        "    ax = axes[i]\n",
        "    # 分布をプロット\n",
        "    results[k].week_pl.hist(bins=25, ax=ax)\n",
        "    # タイトルを設定\n",
        "    ax.set_title(f\"{k}: week pl distribution\")\n",
        "#　描画\n",
        "plt.show()"
      ],
      "execution_count": null,
      "outputs": [
        {
          "output_type": "display_data",
          "data": {
            "image/png": "[encoded data removed]",
            "text/plain": [
              "<Figure size 1152x576 with 2 Axes>"
            ]
          },
          "metadata": {
            "tags": [],
            "needs_background": "light"
          }
        }
      ]
    },
    {
      "cell_type": "markdown",
      "metadata": {
        "id": "lTTldWIGlAez"
      },
      "source": [
        "　trendとreversalは共にほぼ0平均に見えますが、reversalは分布が若干広いように見え、週によっては大きなマイナスも観測されていることがわかります。おそらくCOVID-19の暴落が発生した週が該当すると想像できます。ただし、大きなプラスの週もあるため、その負けを取り返しているかもしれません。ただ、このプロットだけではあまり戦略の良し悪しはわかりません。"
      ]
    },
    {
      "cell_type": "markdown",
      "metadata": {
        "id": "N5j_ToW_dOrf"
      },
      "source": [
        "### 2. 週毎の運用実績の統計量の算出"
      ]
    },
    {
      "cell_type": "markdown",
      "metadata": {
        "id": "bdzdD4YNdOrf"
      },
      "source": [
        "　週毎の運用実績の統計量を算出します。"
      ]
    },
    {
      "cell_type": "code",
      "metadata": {
        "id": "E4eh9bQnlAez",
        "scrolled": true,
        "colab": {
          "base_uri": "https://localhost:8080/",
          "height": 137
        },
        "outputId": "8f87d083-5968-4721-9dbe-d613ba3127fb"
      },
      "source": [
        "# week_plの分布の統計量\n",
        "\n",
        "# 結合用データ保存\n",
        "buff = []\n",
        "# ストラテジー毎に処理\n",
        "for k in results.keys():\n",
        "    # week_plの統計量を取得します。\n",
        "    df = results[k].loc[:, [\"week_pl\"]].describe().T\n",
        "    # インデックスを編集してストラテジーのIDにする\n",
        "    df.index = [k]\n",
        "    # インデックス名変更\n",
        "    df.index.name = \"strategy_id\"\n",
        "    # 結合用に保存\n",
        "    buff.append(df)\n",
        "# 結合して表示\n",
        "pd.concat(buff)"
      ],
      "execution_count": null,
      "outputs": [
        {
          "output_type": "execute_result",
          "data": {
            "text/html": [
              "<div>\n",
              "<style scoped>\n",
              "    .dataframe tbody tr th:only-of-type {\n",
              "        vertical-align: middle;\n",
              "    }\n",
              "\n",
              "    .dataframe tbody tr th {\n",
              "        vertical-align: top;\n",
              "    }\n",
              "\n",
              "    .dataframe thead th {\n",
              "        text-align: right;\n",
              "    }\n",
              "</style>\n",
              "<table border=\"1\" class=\"dataframe\">\n",
              "  <thead>\n",
              "    <tr style=\"text-align: right;\">\n",
              "      <th></th>\n",
              "      <th>count</th>\n",
              "      <th>mean</th>\n",
              "      <th>std</th>\n",
              "      <th>min</th>\n",
              "      <th>25%</th>\n",
              "      <th>50%</th>\n",
              "      <th>75%</th>\n",
              "      <th>max</th>\n",
              "    </tr>\n",
              "    <tr>\n",
              "      <th>strategy_id</th>\n",
              "      <th></th>\n",
              "      <th></th>\n",
              "      <th></th>\n",
              "      <th></th>\n",
              "      <th></th>\n",
              "      <th></th>\n",
              "      <th></th>\n",
              "      <th></th>\n",
              "    </tr>\n",
              "  </thead>\n",
              "  <tbody>\n",
              "    <tr>\n",
              "      <th>reversal</th>\n",
              "      <td>52.0</td>\n",
              "      <td>4802.094231</td>\n",
              "      <td>72986.721385</td>\n",
              "      <td>-212011.0</td>\n",
              "      <td>-26704.45</td>\n",
              "      <td>520.0</td>\n",
              "      <td>25756.5</td>\n",
              "      <td>283378.0</td>\n",
              "    </tr>\n",
              "    <tr>\n",
              "      <th>trend</th>\n",
              "      <td>52.0</td>\n",
              "      <td>1633.675000</td>\n",
              "      <td>50198.665255</td>\n",
              "      <td>-134025.6</td>\n",
              "      <td>-29224.25</td>\n",
              "      <td>10457.0</td>\n",
              "      <td>30529.8</td>\n",
              "      <td>97641.0</td>\n",
              "    </tr>\n",
              "  </tbody>\n",
              "</table>\n",
              "</div>"
            ],
            "text/plain": [
              "             count         mean           std       min       25%      50%      75%       max\n",
              "strategy_id                                                                                  \n",
              "reversal      52.0  4802.094231  72986.721385 -212011.0 -26704.45    520.0  25756.5  283378.0\n",
              "trend         52.0  1633.675000  50198.665255 -134025.6 -29224.25  10457.0  30529.8   97641.0"
            ]
          },
          "metadata": {
            "tags": []
          },
          "execution_count": 44
        }
      ]
    },
    {
      "cell_type": "markdown",
      "metadata": {
        "id": "Sh8_aCVudOrf"
      },
      "source": [
        "　週毎の運用実績の統計量を確認すると、reversalがtrendより平均(mean)が高いことがわかります。ただし、中央値(50%)を確認するとtrendの方が高いのでreversalは小さな勝ちではなく、大きな勝ちを利用して平均を押し上げていることがわかります。また、25%分位点では大きな差異はないのに最小値はreversalがずっと小さいことから、大きな負けがあると想定されます。"
      ]
    },
    {
      "cell_type": "markdown",
      "metadata": {
        "id": "SUWy1tJpdOrf"
      },
      "source": [
        "### 3. 週毎の勝率・ペイオフレシオ・シャープレシオの算出"
      ]
    },
    {
      "cell_type": "markdown",
      "metadata": {
        "id": "66BAOKqElAez"
      },
      "source": [
        "　週毎の勝率、ペイオフレシオ、シャープレシオを算出します。"
      ]
    },
    {
      "cell_type": "code",
      "metadata": {
        "id": "g6xVAxjYlAe0",
        "scrolled": true,
        "colab": {
          "base_uri": "https://localhost:8080/",
          "height": 137
        },
        "outputId": "1d75e1f0-b434-4dca-8f6d-5ab21027bae2"
      },
      "source": [
        "# 結合用データ保存\n",
        "buff = []\n",
        "# 戦略毎に処理\n",
        "for k in results.keys():\n",
        "    df_return = results[k]\n",
        "    # 計算結果保存用\n",
        "    d = {}\n",
        "    # 件数\n",
        "    d[\"count\"] = df_return.shape[0]\n",
        "    # 勝率\n",
        "    d[\"win_ratio\"] = (\n",
        "        df_return.loc[df_return.loc[:, \"week_return\"] > 0].shape[0] / d[\"count\"]\n",
        "    )\n",
        "    # ペイオフレシオ\n",
        "    d[\"payoff_ratio\"] = df_return.loc[\n",
        "        df_return.loc[:, \"week_return\"] > 0, \"week_return\"\n",
        "    ].mean() / (\n",
        "        -1 * df_return.loc[df_return.loc[:, \"week_return\"] <= 0, \"week_return\"].mean()\n",
        "    )\n",
        "    # シャープレシオ\n",
        "    d[\"sharp\"] = (\n",
        "        df_return.loc[:, \"week_return\"].mean() / df_return.loc[:, \"week_return\"].std()\n",
        "    )\n",
        "    # 平均PL\n",
        "    d[\"avgPL\"] = df_return.loc[:, \"week_pl\"].mean()\n",
        "    # week_plの合計\n",
        "    d[\"PL\"] = df_return.loc[:, \"week_pl\"].sum()\n",
        "    # strategy_idを設定\n",
        "    df = pd.DataFrame([d], index=[k])\n",
        "    # インデックス名を指定\n",
        "    df.index.name = \"strategy_id\"\n",
        "    # 結合用に保存\n",
        "    buff.append(df)\n",
        "# 結合して表示\n",
        "pd.concat(buff)"
      ],
      "execution_count": null,
      "outputs": [
        {
          "output_type": "execute_result",
          "data": {
            "text/html": [
              "<div>\n",
              "<style scoped>\n",
              "    .dataframe tbody tr th:only-of-type {\n",
              "        vertical-align: middle;\n",
              "    }\n",
              "\n",
              "    .dataframe tbody tr th {\n",
              "        vertical-align: top;\n",
              "    }\n",
              "\n",
              "    .dataframe thead th {\n",
              "        text-align: right;\n",
              "    }\n",
              "</style>\n",
              "<table border=\"1\" class=\"dataframe\">\n",
              "  <thead>\n",
              "    <tr style=\"text-align: right;\">\n",
              "      <th></th>\n",
              "      <th>count</th>\n",
              "      <th>win_ratio</th>\n",
              "      <th>payoff_ratio</th>\n",
              "      <th>sharp</th>\n",
              "      <th>avgPL</th>\n",
              "      <th>PL</th>\n",
              "    </tr>\n",
              "    <tr>\n",
              "      <th>strategy_id</th>\n",
              "      <th></th>\n",
              "      <th></th>\n",
              "      <th></th>\n",
              "      <th></th>\n",
              "      <th></th>\n",
              "      <th></th>\n",
              "    </tr>\n",
              "  </thead>\n",
              "  <tbody>\n",
              "    <tr>\n",
              "      <th>reversal</th>\n",
              "      <td>52</td>\n",
              "      <td>0.500000</td>\n",
              "      <td>1.239941</td>\n",
              "      <td>0.065794</td>\n",
              "      <td>4802.094231</td>\n",
              "      <td>249708.9</td>\n",
              "    </tr>\n",
              "    <tr>\n",
              "      <th>trend</th>\n",
              "      <td>52</td>\n",
              "      <td>0.615385</td>\n",
              "      <td>0.681246</td>\n",
              "      <td>0.032544</td>\n",
              "      <td>1633.675000</td>\n",
              "      <td>84951.1</td>\n",
              "    </tr>\n",
              "  </tbody>\n",
              "</table>\n",
              "</div>"
            ],
            "text/plain": [
              "             count  win_ratio  payoff_ratio     sharp        avgPL        PL\n",
              "strategy_id                                                                 \n",
              "reversal        52   0.500000      1.239941  0.065794  4802.094231  249708.9\n",
              "trend           52   0.615385      0.681246  0.032544  1633.675000   84951.1"
            ]
          },
          "metadata": {
            "tags": []
          },
          "execution_count": 45
        }
      ]
    },
    {
      "cell_type": "markdown",
      "metadata": {
        "id": "-s36coAwdOrg"
      },
      "source": [
        "　reversalの週毎の勝率は50%ですが、payoff_ratioも1がより大きく一回の勝ちが負けよりおおきいことがわかります。trendはを勝率が60%を超えており、reversalよりも安定的に勝てるポートフォリオの可能性があります。"
      ]
    },
    {
      "cell_type": "markdown",
      "metadata": {
        "id": "gdI0Li5qdOrg"
      },
      "source": [
        "### 4. 週毎のリターン推移のプロット"
      ]
    },
    {
      "cell_type": "markdown",
      "metadata": {
        "id": "Mca-82ktlAe0"
      },
      "source": [
        "　週毎の1日目から5日目までのリターンの推移をプロットし、曜日毎に勝ち負けの分布に差異が無いかを確認しています。"
      ]
    },
    {
      "cell_type": "code",
      "metadata": {
        "id": "Hi0OmapVlAe0",
        "scrolled": false,
        "colab": {
          "base_uri": "https://localhost:8080/",
          "height": 436
        },
        "outputId": "d153ef43-56bb-45ba-f7cd-00ab21443eaa"
      },
      "source": [
        "# 描画領域を定義\n",
        "fig, axes = plt.subplots(\n",
        "    len(results), 1, figsize=(20, 4 * len(results)), sharex=True, sharey=True\n",
        ")\n",
        "\n",
        "# 描画用データ保存用\n",
        "dfs_plot = {}\n",
        "\n",
        "# 戦略毎に処理\n",
        "for i, k in enumerate(results.keys()):\n",
        "    # 描画位置を指定\n",
        "    ax = axes[i]\n",
        "    # 列を行に変換\n",
        "    dfs_plot[k] = (\n",
        "        results[k]\n",
        "        .set_index(\"date\")\n",
        "        .loc[\n",
        "            :,\n",
        "            [\n",
        "                \"day_1_return\",\n",
        "                \"day_2_return\",\n",
        "                \"day_3_return\",\n",
        "                \"day_4_return\",\n",
        "                \"day_5_return\",\n",
        "            ],\n",
        "        ]\n",
        "        .stack()\n",
        "        .to_frame()\n",
        "        .reset_index()\n",
        "        .rename(columns={0: \"return\"})\n",
        "    )\n",
        "    # 作業用に変数設定\n",
        "    df_plot = dfs_plot[k]\n",
        "    # 曜日毎のreturnをプロット\n",
        "    df_plot.groupby([\"level_1\", \"date\"]).first().unstack().plot(ax=ax, legend=False)\n",
        "    # タイトルを設定\n",
        "    ax.set_title(f\"{k}: Daily returns\")\n",
        "    # リターンが0の位置に基準線を描画\n",
        "    ax.axhline(y=0, color=\"black\")\n",
        "    # グリッドを表示\n",
        "    ax.grid(True)\n",
        "# 描画\n",
        "plt.show()"
      ],
      "execution_count": null,
      "outputs": [
        {
          "output_type": "display_data",
          "data": {
            "image/png": "[encoded data removed]",
            "text/plain": [
              "<Figure size 1440x576 with 2 Axes>"
            ]
          },
          "metadata": {
            "tags": [],
            "needs_background": "light"
          }
        }
      ]
    },
    {
      "cell_type": "markdown",
      "metadata": {
        "id": "A-cnxyLMdOrg"
      },
      "source": [
        "### 5. 曜日別分析のためのバイオリンプロット"
      ]
    },
    {
      "cell_type": "markdown",
      "metadata": {
        "id": "eLzaYRADlAe1"
      },
      "source": [
        "```\n",
        "　上のグラフでは何が起きているかわかりにくいので、seabornのバイオリンプロット(link:https://seaborn.pydata.org/generated/seaborn.violinplot.html[リンク])を利用します。バイオリンプロットはデータの密度分布を確認できるグラフであり、統計的な差異がありそうな箇所を発見するために便利です。バイオリンの形状はカーネル密度推定による確率密度関数を表しており、バイオリンの中心部分に平均、中央値、25%タイル、75%タイルを示す箱が表示されています。\n",
        "```"
      ]
    },
    {
      "cell_type": "code",
      "metadata": {
        "id": "dPpL0avalAe1",
        "scrolled": false,
        "colab": {
          "base_uri": "https://localhost:8080/",
          "height": 526
        },
        "outputId": "9cb507b6-6197-447f-db31-2b8eb5f0b03d"
      },
      "source": [
        "# 描画領域を定義\n",
        "fig, axes = plt.subplots(len(results), 1, figsize=(15, 4 * len(results)), sharex=True, sharey=True)\n",
        "\n",
        "# 戦略毎に処理\n",
        "for i, k in enumerate(results.keys()):\n",
        "    # 描画位置を指定\n",
        "    ax = axes[i]\n",
        "    # 箱が見やすいように横方向を指定してプロット\n",
        "    sns.violinplot(x=\"return\", y=\"level_1\", data=dfs_plot[k], ax=ax, orient=\"h\")\n",
        "    # タイトルを設定\n",
        "    ax.set_title(f\"{k}: daily return\")\n",
        "    # グリッドを表示\n",
        "    ax.grid(True)\n",
        "# 文字が重なって読みにくいので間隔調整\n",
        "fig.tight_layout(pad=2.0)\n",
        "# 描画\n",
        "plt.show()"
      ],
      "execution_count": null,
      "outputs": [
        {
          "output_type": "display_data",
          "data": {
            "image/png": "[encoded data removed]",
            "text/plain": [
              "<Figure size 1080x576 with 2 Axes>"
            ]
          },
          "metadata": {
            "tags": [],
            "needs_background": "light"
          }
        }
      ]
    },
    {
      "cell_type": "markdown",
      "metadata": {
        "id": "HmQUcQ8wdOrh"
      },
      "source": [
        "　reversal/trendは木・金曜日に負ける傾向がありそうです。trendはプラス側の裾野が若干広いように思われます。これはトレンドフォローを行うと大きな勝ちが取れている可能性が示唆されます。\n",
        "\n",
        "　取引戦略によっては月曜日に大きく勝つモデルや金曜日に大きく負けるなど曜日によって強さが異なることも多く、このような曜日ごとのプロットはその銘柄の特性を知る上で、確認する価値があります。特に曜日や月などの周期でチェックする場合、負けている方(このグラフでいうととマイナス側の分布)に注目することが重要です。周期性を狙って収益を意図的に取得することは難易度の高いテクニックですが、負けの場合は理由をしっかりと分析すると防げる可能性があるためです。例えば、よくあるのが金曜日特有の週末に発生するクローズオーダーなど、機関投資家のルールにより発生する取引です。"
      ]
    },
    {
      "cell_type": "markdown",
      "metadata": {
        "id": "Bd-YRxxwdOrh"
      },
      "source": [
        "### 6. 週毎のリターンの累積プロット"
      ]
    },
    {
      "cell_type": "markdown",
      "metadata": {
        "id": "AX_9vecVlAe1"
      },
      "source": [
        "　次にいよいよ取得した収益率の時系列を累積プロットします。まず、比較対象として取引対象の全銘柄の平均週次リターンを計算します。"
      ]
    },
    {
      "cell_type": "code",
      "metadata": {
        "id": "0DgZoggClAe1"
      },
      "source": [
        "# 変数名を調整します。\n",
        "# backtest_priceはユニバースで絞り込み済みです\n",
        "df_price = backtest_price"
      ],
      "execution_count": null,
      "outputs": []
    },
    {
      "cell_type": "code",
      "metadata": {
        "id": "zfwgf3mGlAe1"
      },
      "source": [
        "# 週毎に始値と終値を取得\n",
        "df_wp = (\n",
        "    # start_dt以降の日付のみ計算\n",
        "    df_price.loc[df_price.index >= start_dt].sort_values([\"Local Code\", \"EndOfDayQuote Date\"])\n",
        "    # 銘柄コード毎に処理\n",
        "    .groupby(\"Local Code\")\n",
        "    # 月曜日スタートで週にリサンプル\n",
        "    .resample(\"W-MON\", label=\"left\", closed=\"left\")\n",
        "    # 始値は最初のレコード、終値は最後のレコードを取得\n",
        "    .agg({\"EndOfDayQuote Open\": \"first\", \"EndOfDayQuote ExchangeOfficialClose\": \"last\"})\n",
        "    # マルチインデックスを解除\n",
        "    .reset_index(level=[0])\n",
        ")\n",
        "# Open が 0.0 の銘柄は値段が付かなかった銘柄で、バックテストでは購入対象外であるため除外する\n",
        "df_wp = df_wp.loc[df_wp.loc[:, \"EndOfDayQuote Open\"] != 0.0]\n",
        "# 銘柄毎の週次リターンを計算\n",
        "df_wp.loc[:, \"universe\"] = (\n",
        "    (\n",
        "        (\n",
        "            df_wp.loc[:, \"EndOfDayQuote ExchangeOfficialClose\"]\n",
        "            / df_wp.loc[:, \"EndOfDayQuote Open\"]\n",
        "        )\n",
        "        - 1\n",
        "    )\n",
        "    * 100\n",
        ")\n",
        "# ユニバースの週毎のリターンを計算します。\n",
        "df_universe_return = df_wp.groupby(df_wp.index)[\"universe\"].mean().to_frame()"
      ],
      "execution_count": null,
      "outputs": []
    },
    {
      "cell_type": "markdown",
      "metadata": {
        "id": "P80rrJi9lAe2"
      },
      "source": [
        "　対比軸である取引対象の全銘柄の平均週次リターンが準備できたら、今回の取引戦略の結果と一緒にプロットしてみます。"
      ]
    },
    {
      "cell_type": "code",
      "metadata": {
        "id": "S3nUctqNlAe2",
        "scrolled": false,
        "colab": {
          "base_uri": "https://localhost:8080/",
          "height": 444
        },
        "outputId": "bae8a237-18c6-4f13-8c4f-f534b40845a8"
      },
      "source": [
        "# 描画領域を定義\n",
        "fig, axes = plt.subplots(1, 1, figsize=(20, 8), sharex=True, sharey=True)\n",
        "\n",
        "# 戦略毎に処理\n",
        "for k in results.keys():\n",
        "    # 描画位置を指定\n",
        "    ax = axes\n",
        "    # 戦略別の累積リターンを描画\n",
        "    results[k].set_index(\"date\").loc[:, [\"week_return\"]].rename(\n",
        "        columns={\"week_return\": f\"{k}: week_return\"}\n",
        "    ).cumsum().plot(ax=ax)\n",
        "\n",
        "# ユニバースの週次リターンの累積をプロット\n",
        "df_universe_return.cumsum().plot(ax=ax, color=\"black\", label=\"universe\")\n",
        "\n",
        "# 表示を調整\n",
        "ax.set_title(\"Cumulative week_return\")\n",
        "# グリッドを表示\n",
        "ax.grid(True)\n",
        "# 描画\n",
        "plt.show()"
      ],
      "execution_count": null,
      "outputs": [
        {
          "output_type": "display_data",
          "data": {
            "image/png": "[encoded data removed]",
            "text/plain": [
              "<Figure size 1440x576 with 1 Axes>"
            ]
          },
          "metadata": {
            "tags": [],
            "needs_background": "light"
          }
        }
      ]
    },
    {
      "cell_type": "markdown",
      "metadata": {
        "id": "jiSiRR_FdOri"
      },
      "source": [
        "　このプロットは興味深いことがわかります。\n",
        "\n",
        "　まずreversalは、3月に発生した負けが非常に大きいことがわかります。ベンチマークはおよそ-20%の負けとなっているのに対し、reversalでは-40%に到達しています。これはリターン・リバーサル戦略を採用した場合、マーケット暴落時に負けが積み重なる現象として知られています。一方、その後に0%近辺まで戻しているので3月後半から5月末にかけて、取得できたリターンは非常に大きいこともわかります。ただ、対比軸である取引対象の全銘柄の平均週次リターンには到達していません。その後、reversal戦略のユニバースに対する有意性は6月以降はあまり観測できず、12月までユニバースの平均に勝てないまま最終的に負けています。\n",
        "\n",
        "　次に、trendは3月上旬の負けがユニバースの平均と比較すると小さいことがわかります。一方、reversal戦略の場合に観測された大きな収益性は観測できず、6月にユニバースの平均と同一の水準になると、以降はreversalと同等に12月までユニバースの平均に勝てないまま最終的に負けています。"
      ]
    },
    {
      "cell_type": "markdown",
      "metadata": {
        "id": "KnCW5K0XdOri"
      },
      "source": [
        "### 7. ユニバースとの散布図"
      ]
    },
    {
      "cell_type": "markdown",
      "metadata": {
        "id": "kWAVBwkrlAe2"
      },
      "source": [
        "　ユニバースとリターンの散布図は、マーケットの動きに対してポートフォリオの運用実績がどのように分布するかを確認するために利用します。"
      ]
    },
    {
      "cell_type": "code",
      "metadata": {
        "id": "wAbrFzmhlAe2",
        "scrolled": false,
        "colab": {
          "base_uri": "https://localhost:8080/",
          "height": 818
        },
        "outputId": "d30c22c4-6ef1-4cbc-d49c-3dae705b9a62"
      },
      "source": [
        "# 戦略毎に処理\n",
        "for k in results.keys():\n",
        "    # 散布図をプロット\n",
        "    p = sns.jointplot(\n",
        "        x=df_universe_return.iloc[:, 0],\n",
        "        y=results[k].loc[:, \"week_return\"],\n",
        "        kind=\"reg\",\n",
        "        height=5,\n",
        "        stat_func=stats.pearsonr,\n",
        "    )\n",
        "    # タイトルを設定\n",
        "    p.fig.suptitle(f\"{k}: week_return vs universe\")\n",
        "    # タイトル表示用に位置を調整\n",
        "    p.fig.subplots_adjust(top=0.95)\n",
        "    # 描画\n",
        "    plt.show()"
      ],
      "execution_count": null,
      "outputs": [
        {
          "output_type": "stream",
          "text": [
            "/usr/local/lib/python3.7/dist-packages/seaborn/axisgrid.py:1847: UserWarning: JointGrid annotation is deprecated and will be removed in a future release.\n",
            "  warnings.warn(UserWarning(msg))\n"
          ],
          "name": "stderr"
        },
        {
          "output_type": "display_data",
          "data": {
            "image/png": "[encoded data removed]",
            "text/plain": [
              "<Figure size 360x360 with 3 Axes>"
            ]
          },
          "metadata": {
            "tags": [],
            "needs_background": "light"
          }
        },
        {
          "output_type": "stream",
          "text": [
            "/usr/local/lib/python3.7/dist-packages/seaborn/axisgrid.py:1847: UserWarning: JointGrid annotation is deprecated and will be removed in a future release.\n",
            "  warnings.warn(UserWarning(msg))\n"
          ],
          "name": "stderr"
        },
        {
          "output_type": "display_data",
          "data": {
            "image/png": "[encoded data removed]",
            "text/plain": [
              "<Figure size 360x360 with 3 Axes>"
            ]
          },
          "metadata": {
            "tags": [],
            "needs_background": "light"
          }
        }
      ]
    },
    {
      "cell_type": "markdown",
      "metadata": {
        "id": "kr1BjG75dOri"
      },
      "source": [
        "　reversalはユニバースに対して、全体が下がった時に負けが大きく、ユニバースが上がった時に勝ちがわずかにユニバースを上回ることが観測できます。trendは分布が広がっており、ユニバースの影響をあまり受けていないことがわかります。また、0でリターンを稼いでいる週が多く観測出来、マーケットが動いていない時に細かく勝てている可能性が示唆されます。"
      ]
    },
    {
      "cell_type": "markdown",
      "metadata": {
        "id": "GK6F8l4JdOrj"
      },
      "source": [
        "### 8. ユニバースに対するベータを計算"
      ]
    },
    {
      "cell_type": "markdown",
      "metadata": {
        "id": "7dDl7e63lAe2"
      },
      "source": [
        "　上記の傾向はベータを計算すると一目瞭然です。"
      ]
    },
    {
      "cell_type": "code",
      "metadata": {
        "id": "nA4DBX0PlAe2",
        "colab": {
          "base_uri": "https://localhost:8080/",
          "height": 137
        },
        "outputId": "de8da75e-b794-418a-f79a-b6c3f6c04c24"
      },
      "source": [
        "# 結合用に保存\n",
        "buff = []\n",
        "# 戦略毎に処理\n",
        "for k in results.keys():\n",
        "    # ベータを計算\n",
        "    res = stats.linregress(df_universe_return.iloc[:,0], results[k].loc[:, \"week_return\"])\n",
        "    # 一覧表示用にデータフレームを作成\n",
        "    df_beta = pd.DataFrame([res.slope], index=[k], columns=[\"beta\"])\n",
        "    # インデックス名を設定\n",
        "    df_beta.index.name = \"storategy_id\"\n",
        "    # 保存\n",
        "    buff.append(df_beta)\n",
        "# 結合して表示\n",
        "pd.concat(buff)"
      ],
      "execution_count": null,
      "outputs": [
        {
          "output_type": "execute_result",
          "data": {
            "text/html": [
              "<div>\n",
              "<style scoped>\n",
              "    .dataframe tbody tr th:only-of-type {\n",
              "        vertical-align: middle;\n",
              "    }\n",
              "\n",
              "    .dataframe tbody tr th {\n",
              "        vertical-align: top;\n",
              "    }\n",
              "\n",
              "    .dataframe thead th {\n",
              "        text-align: right;\n",
              "    }\n",
              "</style>\n",
              "<table border=\"1\" class=\"dataframe\">\n",
              "  <thead>\n",
              "    <tr style=\"text-align: right;\">\n",
              "      <th></th>\n",
              "      <th>beta</th>\n",
              "    </tr>\n",
              "    <tr>\n",
              "      <th>storategy_id</th>\n",
              "      <th></th>\n",
              "    </tr>\n",
              "  </thead>\n",
              "  <tbody>\n",
              "    <tr>\n",
              "      <th>reversal</th>\n",
              "      <td>1.659928</td>\n",
              "    </tr>\n",
              "    <tr>\n",
              "      <th>trend</th>\n",
              "      <td>0.790303</td>\n",
              "    </tr>\n",
              "  </tbody>\n",
              "</table>\n",
              "</div>"
            ],
            "text/plain": [
              "                  beta\n",
              "storategy_id          \n",
              "reversal      1.659928\n",
              "trend         0.790303"
            ]
          },
          "metadata": {
            "tags": []
          },
          "execution_count": 52
        }
      ]
    },
    {
      "cell_type": "markdown",
      "metadata": {
        "id": "3N5VPe-8lAe3"
      },
      "source": [
        "　reversalはベータがおよそ1.6となっており、ユニバースが10%変動すると16%程度の変動が発生する取引戦略であることがわかります。ユニバースが-20%変動したときは-32%変動しますので、暴落時の大きな負けもこのベータ値の高さで説明ができます。3月のようにドローダウンが深くなる現象は、高いベータを持つ取引戦略にはよく観測されます。trendはベータが0.8近辺となっており、reversalと比較すると低いベータとなっています。"
      ]
    },
    {
      "cell_type": "markdown",
      "metadata": {
        "id": "TFl76RUplAe3"
      },
      "source": [
        "### 銘柄毎に分析するための準備"
      ]
    },
    {
      "cell_type": "markdown",
      "metadata": {
        "id": "UVT0vstylAe3"
      },
      "source": [
        "　最後に銘柄毎のデータを使用して分析していきます。\n",
        "\n",
        "*各銘柄毎のデータ*\n",
        "\n",
        "1. 銘柄毎の運用実績の分布をプロット\n",
        "2. 銘柄毎のreturnの分布をプロット\n",
        "3. 週毎の勝ち銘柄率をプロット、統計量の算出\n",
        "\n",
        "銘柄毎のデータを使用して分析するために必要な計算を実施します。"
      ]
    },
    {
      "cell_type": "code",
      "metadata": {
        "id": "0cOlBxt1lAe3"
      },
      "source": [
        "# 分析用データ保存用\n",
        "dfs_analyze = {}\n",
        "# 戦略毎に処理\n",
        "for i in stocks.keys():\n",
        "    # 分析用にデータをコピー\n",
        "    df_analyze = stocks[i].copy()\n",
        "    # day5に必ず値が存在するように調整します\n",
        "    df_analyze.loc[:, [\"day_1\", \"day_2\", \"day_3\", \"day_4\", \"day_5\"]] = (\n",
        "        df_analyze.loc[:, [\"day_1\", \"day_2\", \"day_3\", \"day_4\", \"day_5\"]]\n",
        "        .replace(0.0, np.nan)\n",
        "        .ffill(axis=1)\n",
        "    )\n",
        "    # 終値とエントリーの差分を計算\n",
        "    df_analyze.loc[:, \"diff\"] = df_analyze.loc[:, [\"entry\", \"day_5\"]].diff(axis=1)[\n",
        "        \"day_5\"\n",
        "    ]\n",
        "    # 損益を計算します\n",
        "    df_analyze.loc[:, \"pl\"] = df_analyze.loc[:, \"diff\"] * df_analyze.loc[:, \"actual\"]\n",
        "    # リターンを計算します\n",
        "    df_analyze.loc[:, \"return\"] = (\n",
        "        (df_analyze.loc[:, \"day_5\"] / df_analyze.loc[:, \"entry\"]) - 1\n",
        "    ) * 100\n",
        "    # infを0.0に変換\n",
        "    df_analyze = df_analyze.replace(np.inf, 0.0)\n",
        "    # 処理結果を保存\n",
        "    dfs_analyze[i] = df_analyze"
      ],
      "execution_count": null,
      "outputs": []
    },
    {
      "cell_type": "markdown",
      "metadata": {
        "id": "9D10XEOgdOrk"
      },
      "source": [
        "### 1.銘柄毎の運用実績の分布をプロット"
      ]
    },
    {
      "cell_type": "markdown",
      "metadata": {
        "id": "w9BX4FBglAe3"
      },
      "source": [
        "分析用データを表示して確認します"
      ]
    },
    {
      "cell_type": "code",
      "metadata": {
        "id": "PHwbGlYdlAe3",
        "colab": {
          "base_uri": "https://localhost:8080/",
          "height": 157
        },
        "outputId": "e473f7f9-b87c-4f8c-b0ae-5cbb6719c317"
      },
      "source": [
        "dfs_analyze[\"reversal\"].head(2)"
      ],
      "execution_count": null,
      "outputs": [
        {
          "output_type": "execute_result",
          "data": {
            "text/html": [
              "<div>\n",
              "<style scoped>\n",
              "    .dataframe tbody tr th:only-of-type {\n",
              "        vertical-align: middle;\n",
              "    }\n",
              "\n",
              "    .dataframe tbody tr th {\n",
              "        vertical-align: top;\n",
              "    }\n",
              "\n",
              "    .dataframe thead th {\n",
              "        text-align: right;\n",
              "    }\n",
              "</style>\n",
              "<table border=\"1\" class=\"dataframe\">\n",
              "  <thead>\n",
              "    <tr style=\"text-align: right;\">\n",
              "      <th></th>\n",
              "      <th>date</th>\n",
              "      <th>Local Code</th>\n",
              "      <th>budget</th>\n",
              "      <th>n</th>\n",
              "      <th>entry</th>\n",
              "      <th>day_1</th>\n",
              "      <th>day_2</th>\n",
              "      <th>day_3</th>\n",
              "      <th>day_4</th>\n",
              "      <th>day_5</th>\n",
              "      <th>bought</th>\n",
              "      <th>actual</th>\n",
              "      <th>diff</th>\n",
              "      <th>pl</th>\n",
              "      <th>return</th>\n",
              "    </tr>\n",
              "  </thead>\n",
              "  <tbody>\n",
              "    <tr>\n",
              "      <th>0</th>\n",
              "      <td>2020-01-06</td>\n",
              "      <td>4592</td>\n",
              "      <td>50000</td>\n",
              "      <td>0</td>\n",
              "      <td>2602.0</td>\n",
              "      <td>2640.0</td>\n",
              "      <td>2645.0</td>\n",
              "      <td>2600.0</td>\n",
              "      <td>2652.0</td>\n",
              "      <td>2683.0</td>\n",
              "      <td>49438.0</td>\n",
              "      <td>19.0</td>\n",
              "      <td>81.0</td>\n",
              "      <td>1539.0</td>\n",
              "      <td>3.112990</td>\n",
              "    </tr>\n",
              "    <tr>\n",
              "      <th>1</th>\n",
              "      <td>2020-01-06</td>\n",
              "      <td>3254</td>\n",
              "      <td>50000</td>\n",
              "      <td>1</td>\n",
              "      <td>1318.0</td>\n",
              "      <td>1344.0</td>\n",
              "      <td>1351.0</td>\n",
              "      <td>1342.0</td>\n",
              "      <td>1339.0</td>\n",
              "      <td>1331.0</td>\n",
              "      <td>48766.0</td>\n",
              "      <td>37.0</td>\n",
              "      <td>13.0</td>\n",
              "      <td>481.0</td>\n",
              "      <td>0.986343</td>\n",
              "    </tr>\n",
              "  </tbody>\n",
              "</table>\n",
              "</div>"
            ],
            "text/plain": [
              "        date  Local Code  budget  n   entry   day_1   day_2   day_3   day_4   day_5   bought  actual  diff      pl  \\\n",
              "0 2020-01-06        4592   50000  0  2602.0  2640.0  2645.0  2600.0  2652.0  2683.0  49438.0    19.0  81.0  1539.0   \n",
              "1 2020-01-06        3254   50000  1  1318.0  1344.0  1351.0  1342.0  1339.0  1331.0  48766.0    37.0  13.0   481.0   \n",
              "\n",
              "     return  \n",
              "0  3.112990  \n",
              "1  0.986343  "
            ]
          },
          "metadata": {
            "tags": []
          },
          "execution_count": 54
        }
      ]
    },
    {
      "cell_type": "markdown",
      "metadata": {
        "id": "r4lf_nMBdOrk"
      },
      "source": [
        "### 2.銘柄毎のリターンの分布をヒストグラムでプロット"
      ]
    },
    {
      "cell_type": "markdown",
      "metadata": {
        "id": "9nqVjU8VlAe4"
      },
      "source": [
        "銘柄毎の各週のデータを確認します。銘柄毎のリターンの分布をヒストグラムでまずはプロットします。"
      ]
    },
    {
      "cell_type": "code",
      "metadata": {
        "id": "fEDmgwmdlAe4",
        "scrolled": false,
        "colab": {
          "base_uri": "https://localhost:8080/",
          "height": 499
        },
        "outputId": "54eeaa84-4058-47ae-e1f1-dde279954f21"
      },
      "source": [
        "# 描画領域を定義\n",
        "fig, axes = plt.subplots(1, len(dfs_analyze), figsize=(8 * len(dfs_analyze), 8), sharex=True, sharey=True)\n",
        "\n",
        "# 戦略毎に処理\n",
        "for i, k in enumerate(dfs_analyze.keys()):\n",
        "    # 描画位置を指定\n",
        "    ax = axes[i]\n",
        "    # ヒストグラムをプロット\n",
        "    dfs_analyze[k].groupby([\"date\", \"Local Code\"])[\"return\"].sum().hist(bins=50, log=True, ax=ax)\n",
        "    # タイトルを設定\n",
        "    ax.set_title(f\"{k}: Weekly PL distribution\")\n",
        "# 描画\n",
        "plt.show()"
      ],
      "execution_count": null,
      "outputs": [
        {
          "output_type": "display_data",
          "data": {
            "image/png": "[encoded data removed]",
            "text/plain": [
              "<Figure size 1152x576 with 2 Axes>"
            ]
          },
          "metadata": {
            "tags": [],
            "needs_background": "light"
          }
        }
      ]
    },
    {
      "cell_type": "markdown",
      "metadata": {
        "id": "oWJATD8mdOrk"
      },
      "source": [
        "　銘柄毎リターンの分布をプロットしてみましたが、ここから何か知見は得ることは難しそうです。上のプロットからもこれといった知見をえることはできません。あえて言うなら、reversalが若干trendと比較すると裾野が広い程度です。ただし、リターンを大きな勝ちに依存している戦略や、負けの裾野が非常に広い戦略などもこのプロットで観測できるため、リターンの分布は常に確認することをおすすめします。"
      ]
    },
    {
      "cell_type": "markdown",
      "metadata": {
        "id": "sHG036JtdOrl"
      },
      "source": [
        "### 3.週毎に勝ち銘柄率を算出、統計量の算出"
      ]
    },
    {
      "cell_type": "markdown",
      "metadata": {
        "id": "9w1xRV_dlAe4"
      },
      "source": [
        "最後に週毎の銘柄の勝率を確認します。"
      ]
    },
    {
      "cell_type": "code",
      "metadata": {
        "id": "YRCozqTPlAe4",
        "colab": {
          "base_uri": "https://localhost:8080/",
          "height": 536
        },
        "outputId": "58eb5b28-50bc-4fb0-93cb-f0d3f75c4cc0"
      },
      "source": [
        "# 描画領域を定義\n",
        "fig, ax = plt.subplots(1, 1, figsize=(20, 8), sharex=True, sharey=True)\n",
        "\n",
        "# 統計量表示用\n",
        "buff = []\n",
        "# 戦略毎に処理\n",
        "for k in dfs_analyze.keys():\n",
        "    # 週毎の勝ち銘柄率を計算\n",
        "    win_ratio = (\n",
        "        dfs_analyze[k]\n",
        "        .set_index(\"date\")\n",
        "        .groupby(\"date\")\n",
        "        .apply(lambda x: (x.pl > 0).sum() / x.shape[0])\n",
        "        .to_frame()\n",
        "        .rename(columns={0: f\"{k}: win_ratio\"})\n",
        "    )\n",
        "    # プロット\n",
        "    win_ratio.plot(ax=ax)\n",
        "    # 統計量を保存\n",
        "    buff.append(win_ratio.describe().T)\n",
        "# ユニバースの勝ち銘柄率をプロット\n",
        "df_wp.groupby(df_wp.index).apply(lambda x: (x.universe > 0).sum() / x.shape[0]).rename(\n",
        "    \"universe\"\n",
        ").to_frame().plot(ax=ax, color=\"black\")\n",
        "# タイトルを設定\n",
        "ax.set_title(\"win ratio of selected stocks\")\n",
        "# グリッド表示\n",
        "ax.grid(True)\n",
        "# 0.5に基準線を描画\n",
        "ax.axhline(y=0.5, color=\"red\")\n",
        "#  描画\n",
        "plt.show()\n",
        "# 週毎の勝ち銘柄率の統計量\n",
        "display(pd.concat(buff))"
      ],
      "execution_count": null,
      "outputs": [
        {
          "output_type": "display_data",
          "data": {
            "image/png": "[encoded data removed]",
            "text/plain": [
              "<Figure size 1440x576 with 1 Axes>"
            ]
          },
          "metadata": {
            "tags": [],
            "needs_background": "light"
          }
        },
        {
          "output_type": "display_data",
          "data": {
            "text/html": [
              "<div>\n",
              "<style scoped>\n",
              "    .dataframe tbody tr th:only-of-type {\n",
              "        vertical-align: middle;\n",
              "    }\n",
              "\n",
              "    .dataframe tbody tr th {\n",
              "        vertical-align: top;\n",
              "    }\n",
              "\n",
              "    .dataframe thead th {\n",
              "        text-align: right;\n",
              "    }\n",
              "</style>\n",
              "<table border=\"1\" class=\"dataframe\">\n",
              "  <thead>\n",
              "    <tr style=\"text-align: right;\">\n",
              "      <th></th>\n",
              "      <th>count</th>\n",
              "      <th>mean</th>\n",
              "      <th>std</th>\n",
              "      <th>min</th>\n",
              "      <th>25%</th>\n",
              "      <th>50%</th>\n",
              "      <th>75%</th>\n",
              "      <th>max</th>\n",
              "    </tr>\n",
              "  </thead>\n",
              "  <tbody>\n",
              "    <tr>\n",
              "      <th>reversal: win_ratio</th>\n",
              "      <td>52.0</td>\n",
              "      <td>0.426923</td>\n",
              "      <td>0.238784</td>\n",
              "      <td>0.0</td>\n",
              "      <td>0.24</td>\n",
              "      <td>0.40</td>\n",
              "      <td>0.61</td>\n",
              "      <td>0.88</td>\n",
              "    </tr>\n",
              "    <tr>\n",
              "      <th>trend: win_ratio</th>\n",
              "      <td>52.0</td>\n",
              "      <td>0.405385</td>\n",
              "      <td>0.187956</td>\n",
              "      <td>0.0</td>\n",
              "      <td>0.28</td>\n",
              "      <td>0.44</td>\n",
              "      <td>0.56</td>\n",
              "      <td>0.72</td>\n",
              "    </tr>\n",
              "  </tbody>\n",
              "</table>\n",
              "</div>"
            ],
            "text/plain": [
              "                     count      mean       std  min   25%   50%   75%   max\n",
              "reversal: win_ratio   52.0  0.426923  0.238784  0.0  0.24  0.40  0.61  0.88\n",
              "trend: win_ratio      52.0  0.405385  0.187956  0.0  0.28  0.44  0.56  0.72"
            ]
          },
          "metadata": {
            "tags": []
          }
        }
      ]
    },
    {
      "cell_type": "markdown",
      "metadata": {
        "id": "M5xYVecUdOrl"
      },
      "source": [
        "　このプロットは黒線のuniverseに対してどの時期に銘柄単位で勝率が低く、どの時期に勝率が高かったを確認しています。trendは暴落後にあまり収益を得ることができませんでしたが、revesalやunivereとの差異が観測できます。 +\n",
        "もし、銘柄単位の勝率で大きな差異が発生していないのに、収益に差異が出ている場合はその時の銘柄の勝ち幅が大きい可能性があります。また、9月以降にもみ合いになってしまった時期はこの勝率でも50%近辺で揉み合っており、取引戦略の優位性が発揮できていない時期であることがわかります。"
      ]
    },
    {
      "cell_type": "markdown",
      "metadata": {
        "id": "gsUUhkaAdOrl"
      },
      "source": [
        "### 考察"
      ]
    },
    {
      "cell_type": "markdown",
      "metadata": {
        "id": "BMHV4TrElAe4"
      },
      "source": [
        "　ここまででいろいろな観点からreversalとtrendの評価を実施してきました。3月末以降のリターン・リバーサル戦略が有効に働いている時期もありましたし、トレンドフォロー戦略でベータ値を低く抑える可能性があることがわかりました。\n",
        "\n",
        "　基本的にリターン・リバーサル戦略とトレンドフォロー戦略は安定して勝てる手法ではなく、リバーサル・モメンタムという代表的なファクターと密接な関係があり、マーケットの局面ごとに有効な戦略が変わっていることが知られています。ここまでの結果から、適切にリターン・リバーサル戦略とトレンドフォロー戦略をモデルで切り替えることが実現できれば、高い収益が実現できるポテンシャルがありそうです。そのような機械学習モデルの構築を検討する価値はあるでしょう。\n",
        "\n",
        "　このように様々な可視化を通して、取引戦略を評価することで、取引戦略を発展させていくことができます。"
      ]
    },
    {
      "cell_type": "code",
      "metadata": {
        "id": "xjP7thxclAe5"
      },
      "source": [
        ""
      ],
      "execution_count": null,
      "outputs": []
    },
    {
      "cell_type": "code",
      "metadata": {
        "id": "ttrOU5jdlAe5"
      },
      "source": [
        ""
      ],
      "execution_count": null,
      "outputs": []
    },
    {
      "cell_type": "markdown",
      "metadata": {
        "id": "t6ObeNe1lAe5"
      },
      "source": [
        "## 8. 投稿用パッケージのディレクトリ作成"
      ]
    },
    {
      "cell_type": "markdown",
      "metadata": {
        "id": "V8XT5yxTlAe5"
      },
      "source": [
        "```\n",
        "　ここまで、モデルの作成及び評価をしてきました。ここからは、投稿用のパッケージを作成します。ランタイム環境用のモデルは以下の構成である必要がありますので、まずは必要なディレクトリを作成していきます。\n",
        "\n",
        "[source]\n",
        "----\n",
        ".\n",
        "├── model                  必須 学習済モデルを置くディレクトリ\n",
        "│   └── ...\n",
        "├── src                    必須 Python のプログラムを置くディレクトリ\n",
        "│   ├── predictor.py       必須 最初にプログラムが呼び出すファイル\n",
        "│   └── ...                その他のファイル (ディレクトリも作成可能)\n",
        "└── requirements.txt       任意\n",
        "\n",
        "----\n",
        "```"
      ]
    },
    {
      "cell_type": "code",
      "metadata": {
        "id": "7_1EuBiclAe5"
      },
      "source": [
        "# 作業用のディレクトリを設定\n",
        "working_dir = \".\"\n",
        "# パッケージのrootディレクトリ\n",
        "package_dir = f\"{working_dir}/archive\""
      ],
      "execution_count": null,
      "outputs": []
    },
    {
      "cell_type": "code",
      "metadata": {
        "id": "AzeOKZE_lAe6"
      },
      "source": [
        "# 必要なディレクトリを作成します\n",
        "os.makedirs(f\"{package_dir}/model\", exist_ok=True) \n",
        "os.makedirs(f\"{package_dir}/src\", exist_ok=True) \n",
        "# 今回はmodelディレクトリに保存するファイルがないため空ファイルを作成します\n",
        "open(f\"{package_dir}/model/dummy.txt\", mode=\"a\").close()"
      ],
      "execution_count": null,
      "outputs": []
    },
    {
      "cell_type": "code",
      "metadata": {
        "id": "SVdXE7NelAe6"
      },
      "source": [
        ""
      ],
      "execution_count": null,
      "outputs": []
    },
    {
      "cell_type": "markdown",
      "metadata": {
        "id": "mWdPmqh1lAe6"
      },
      "source": [
        "## 9. 作成したコードをランタイム実行用にクラスにまとめる"
      ]
    },
    {
      "cell_type": "markdown",
      "metadata": {
        "id": "Ax-tXAo0lAe6"
      },
      "source": [
        "　notebookの各セルで実行する内容をファイルに書き出すために、jupyter notebookにマジックコマンドを追加します。"
      ]
    },
    {
      "cell_type": "code",
      "metadata": {
        "id": "R_I6LHF7lAe6"
      },
      "source": [
        "# jupyter notebookにマジックコマンドを追加します\n",
        "# セル実行と同時にセル内の記載内容をファイルに書き込みます\n",
        "@register_cell_magic\n",
        "def writerun(line, cell):\n",
        "    # 書き込み先ファイルパスを取得\n",
        "    file_path = line.split()[-1]\n",
        "    # 親ディレクトリ名を取得\n",
        "    p_dir = os.path.dirname(file_path)\n",
        "    # 親ディレクトリが存在する場合は\n",
        "    if p_dir != \"\":\n",
        "        # ディレクトリ作成\n",
        "        os.makedirs(p_dir, exist_ok=True)\n",
        "    # cellの内容をファイルに書き込み\n",
        "    with open(file_path, mode=\"w\") as f:\n",
        "        f.write(cell)\n",
        "    # cellを実行\n",
        "    get_ipython().run_cell(cell)"
      ],
      "execution_count": null,
      "outputs": []
    },
    {
      "cell_type": "markdown",
      "metadata": {
        "id": "oSp1JLhElAe7"
      },
      "source": [
        "　以下のコードは、ここまでに一行ずつ作成したコードを投稿用の `ScoringService` としてまとめて実装したものになります。また、今回は学習済モデルのパラメーターなどをファイルに書き出していないため、`get_model` メソッドでは何もせずにTrueを返しています。そして、`predict` メソッドには上記で実行したコードをコピーして貼り付けています。表示用のコードおよび作業用データのコピーについてはランタイム環境では実行する必要がないため削除しています。\n",
        "\n",
        "　jupyter notebookのセルに `ScoringService` クラスを作成している理由は、`ScoringService` クラスの出力するポートフォリオがこれまで検証してきたポートフォリオと同一であることの検証が容易であるためです。慣れている方は直接`predictor.py` ファイル上で作業することを好まれるかもしれません。\n",
        "\n",
        "　次のセルでは、セルの先頭で `writerun` マジックコマンドを指定することで、実行時にセルの内容が `$package_dir/src/predictor.py` ファイルに書き込まれます。すでにファイルが存在している場合は上書きされるためご注意ください。"
      ]
    },
    {
      "cell_type": "code",
      "metadata": {
        "id": "mCpB1yxtlAe7"
      },
      "source": [
        "%%writerun $package_dir/src/predictor.py\n",
        "# -*- coding: utf-8 -*-\n",
        "import io\n",
        "\n",
        "import pandas as pd\n",
        "\n",
        "\n",
        "class ScoringService(object):\n",
        "    @classmethod\n",
        "    def get_model(cls, model_path=\"../model\"):\n",
        "        return True\n",
        "\n",
        "    @classmethod\n",
        "    def predict(\n",
        "        cls, inputs, start_dt=pd.Timestamp(\"2021-02-01\"), strategy_id=\"reversal\"\n",
        "    ):\n",
        "        ####\n",
        "        # データセットを読み込みます\n",
        "        ####\n",
        "        # 銘柄情報読み込み\n",
        "        df_stock_list = pd.read_csv(inputs[\"stock_list\"])\n",
        "        # 問題2のユニバース (投資対象銘柄群) 取得\n",
        "        codes = df_stock_list.loc[\n",
        "            df_stock_list.loc[:, \"universe_comp2\"] == True, \"Local Code\"\n",
        "        ].unique()\n",
        "\n",
        "        # 価格情報読み込み、インデックス作成\n",
        "        df_price = pd.read_csv(inputs[\"stock_price\"]).set_index(\"EndOfDayQuote Date\")\n",
        "        # 日付型に変換\n",
        "        df_price.index = pd.to_datetime(df_price.index, format=\"%Y-%m-%d\")\n",
        "\n",
        "        if \"purchase_date\" in inputs.keys():\n",
        "            # ランタイム環境では指定された投資対象日付を使用します\n",
        "            # purchase_dateを読み込み\n",
        "            df_purchase_date = pd.read_csv(inputs[\"purchase_date\"])\n",
        "            # purchase_dateの最も古い日付を設定\n",
        "            start_dt = pd.Timestamp(df_purchase_date.sort_values(\"Purchase Date\").iloc[0, 0])\n",
        "\n",
        "        # 投資対象日の前週金曜日時点で予測を出力するため、予測出力用の日付を設定します。\n",
        "        pred_start_dt = pd.Timestamp(start_dt) - pd.Timedelta(\"3D\")\n",
        "        # 特徴量の生成に必要な日数をバッファとして設定\n",
        "        n = 30\n",
        "        # データ絞り込み日付設定\n",
        "        data_start_dt = pred_start_dt - pd.offsets.BDay(n)\n",
        "        # 日付で絞り込み\n",
        "        filter_date = df_price.index >= data_start_dt\n",
        "        # 銘柄をユニバースで絞り込み\n",
        "        filter_universe = df_price.loc[:, \"Local Code\"].isin(codes)\n",
        "        # 絞り込み実施\n",
        "        df_price = df_price.loc[filter_date & filter_universe]\n",
        "\n",
        "        ####\n",
        "        # シンプルな特徴量を作成します\n",
        "        ####\n",
        "        # groupby を使用して処理するために並び替え\n",
        "        df_price.sort_values([\"Local Code\", \"EndOfDayQuote Date\"], inplace=True)\n",
        "        # 銘柄毎にグループにします。\n",
        "        grouped_price = df_price.groupby(\"Local Code\")[\n",
        "            \"EndOfDayQuote ExchangeOfficialClose\"\n",
        "        ]\n",
        "        # 銘柄毎に20営業日の変化率を作成してから、金曜日に必ずデータが存在するようにリサンプルしてフィルします\n",
        "        df_feature = grouped_price.apply(\n",
        "            lambda x: x.pct_change(20).resample(\"B\").ffill().dropna()\n",
        "        ).to_frame()\n",
        "\n",
        "        # 上記が比較的時間のかかる処理なので、処理済みデータを残しておきます。\n",
        "        df_work = df_feature  # copyはランタイム実行時には不要なので削除しています\n",
        "\n",
        "        # インデックスが銘柄コードと日付になっているため、日付のみに変更します。\n",
        "        df_work = df_work.reset_index(level=[0])\n",
        "        # カラム名を変更します\n",
        "        df_work.rename(\n",
        "            columns={\"EndOfDayQuote ExchangeOfficialClose\": \"pct_change\"},\n",
        "            inplace=True,\n",
        "        )\n",
        "        # データをpred_start_dt以降の日付に絞り込みます\n",
        "        df_work = df_work.loc[df_work.index >= pred_start_dt]\n",
        "\n",
        "        ####\n",
        "        # ポートフォリオを組成します\n",
        "        ####\n",
        "        # 金曜日のデータのみに絞り込みます\n",
        "        df_work = df_work.loc[df_work.index.dayofweek == 4]\n",
        "\n",
        "        # 日付毎に処理するためグループ化します\n",
        "        grouped_work = df_work.groupby(\"EndOfDayQuote Date\", as_index=False)\n",
        "\n",
        "        # 選択する銘柄数を指定します\n",
        "        number_of_portfolio_stocks = 25\n",
        "\n",
        "        # ポートフォリオの組成方法を戦略に応じて調整します\n",
        "        strategies = {\n",
        "            # リターン・リバーサル戦略\n",
        "            \"reversal\": {\"asc\": True},\n",
        "            # トレンドフォロー戦略\n",
        "            \"trend\": {\"asc\": False},\n",
        "        }\n",
        "\n",
        "        # 戦略に応じたポートフォリオを保存します\n",
        "        df_portfolios = {}\n",
        "\n",
        "        # strategy_id が設定されていない場合は全ての戦略のポートフォリオを作成します\n",
        "        if \"strategy_id\" not in locals():\n",
        "            strategy_id = None\n",
        "\n",
        "        for i in [strategy_id] if strategy_id is not None else strategies.keys():\n",
        "            #  日付毎に戦略に応じた上位25銘柄を選択します。\n",
        "            df_portfolios[i] = grouped_work.apply(\n",
        "                lambda x: x.sort_values(\n",
        "                    \"pct_change\", ascending=strategies[i][\"asc\"]\n",
        "                ).head(number_of_portfolio_stocks)\n",
        "            )\n",
        "\n",
        "        # 銘柄ごとの購入金額を指定\n",
        "        budget = 50000\n",
        "        # 戦略毎に処理\n",
        "        for i in df_portfolios.keys():\n",
        "            # 購入株式数を設定\n",
        "            df_portfolios[i].loc[:, \"budget\"] = budget\n",
        "            # インデックスを日付のみにします\n",
        "            df_portfolios[i].reset_index(level=[0], inplace=True)\n",
        "            # 金曜日から月曜日日付に変更\n",
        "            df_portfolios[i].index = df_portfolios[i].index + pd.Timedelta(\"3D\")\n",
        "\n",
        "        ####\n",
        "        # 出力を調整します\n",
        "        ####\n",
        "        # 戦略毎に処理\n",
        "        for i in df_portfolios.keys():\n",
        "            # インデックス名を設定\n",
        "            df_portfolios[i].index.name = \"date\"\n",
        "            # 出力するカラムを絞り込みます\n",
        "            df_portfolios[i] = df_portfolios[i].loc[:, [\"Local Code\", \"budget\"]]\n",
        "\n",
        "        # 出力保存用\n",
        "        outputs = {}\n",
        "        # 戦略毎に処理\n",
        "        for i in df_portfolios.keys():\n",
        "            # 出力します\n",
        "            out = io.StringIO()\n",
        "            # CSV形式で出力\n",
        "            df_portfolios[i].to_csv(out, header=True)\n",
        "            # 出力を保存\n",
        "            outputs[i] = out.getvalue()\n",
        "\n",
        "        return outputs[strategy_id]\n"
      ],
      "execution_count": null,
      "outputs": []
    },
    {
      "cell_type": "markdown",
      "metadata": {
        "id": "5XRXXLgllAe8"
      },
      "source": [
        "ファイルが書き込まれていることを確認します"
      ]
    },
    {
      "cell_type": "code",
      "metadata": {
        "id": "NcVoMzkYlAe8",
        "colab": {
          "base_uri": "https://localhost:8080/"
        },
        "outputId": "b6409f45-1f5c-47c3-eabf-48234e8114d7"
      },
      "source": [
        "! ls -l $package_dir/src/"
      ],
      "execution_count": null,
      "outputs": [
        {
          "output_type": "stream",
          "text": [
            "total 8\n",
            "-rw-r--r-- 1 root root 6001 May  2 22:22 predictor.py\n"
          ],
          "name": "stdout"
        }
      ]
    },
    {
      "cell_type": "markdown",
      "metadata": {
        "id": "W-cF86EalAe9"
      },
      "source": [
        "　作成したクラスが適切に動くかを動作確認します。 上記で1行ずつ実行した場合と同一の出力であれば良いことになります。"
      ]
    },
    {
      "cell_type": "code",
      "metadata": {
        "id": "WC7LJ-bglAe9"
      },
      "source": [
        "# 動作確認します\n",
        "str_ret = ScoringService.predict(inputs, start_dt=pd.Timestamp(\"2020-01-01\"))"
      ],
      "execution_count": null,
      "outputs": []
    },
    {
      "cell_type": "code",
      "metadata": {
        "id": "E6B_s0R4lAe9",
        "colab": {
          "base_uri": "https://localhost:8080/"
        },
        "outputId": "245c919b-daca-4c52-ef08-7b0217ea7984"
      },
      "source": [
        "# 出力を確認\n",
        "print(\"\\n\".join(str_ret.split(\"\\n\")[:10]))"
      ],
      "execution_count": null,
      "outputs": [
        {
          "output_type": "stream",
          "text": [
            "date,Local Code,budget\n",
            "2020-01-06,4592,50000\n",
            "2020-01-06,3254,50000\n",
            "2020-01-06,6875,50000\n",
            "2020-01-06,4571,50000\n",
            "2020-01-06,7956,50000\n",
            "2020-01-06,6049,50000\n",
            "2020-01-06,7744,50000\n",
            "2020-01-06,2395,50000\n",
            "2020-01-06,3660,50000\n"
          ],
          "name": "stdout"
        }
      ]
    },
    {
      "cell_type": "code",
      "metadata": {
        "id": "TgvzdrBBlAe9"
      },
      "source": [
        "# 出力を保存\n",
        "with open(\"chapter03-tutorial-01-class.csv\", mode=\"w\") as f:\n",
        "    f.write(str_ret)"
      ],
      "execution_count": null,
      "outputs": []
    },
    {
      "cell_type": "markdown",
      "metadata": {
        "id": "HVqlT5belAe9"
      },
      "source": [
        "出力が一致していることを確認します"
      ]
    },
    {
      "cell_type": "code",
      "metadata": {
        "id": "ZgiEzpQClAe-"
      },
      "source": [
        "assert outputs[\"reversal\"] == str_ret"
      ],
      "execution_count": null,
      "outputs": []
    },
    {
      "cell_type": "code",
      "metadata": {
        "id": "dGyC34-zlAe-"
      },
      "source": [
        ""
      ],
      "execution_count": null,
      "outputs": []
    },
    {
      "cell_type": "markdown",
      "metadata": {
        "id": "eEd8fTJOlAe-"
      },
      "source": [
        "## 10. 提出用パッケージの作成と提出"
      ]
    },
    {
      "cell_type": "markdown",
      "metadata": {
        "id": "h1AAfXsZlAe_"
      },
      "source": [
        "```\n",
        "3.7.10で作成した `ScoringService` を `predictor.py` に書き込み、Zip形式で圧縮します。今回はシンプルな特徴量を使用してポートフォリオを作成しているため、学習済みのモデルファイルは存在しません。ただし、modelディレクトリは必須であるため、zipファイルには該当のディレクトリを含める必要があります。そのためには、modelファイルには何らかのダミーファイルを作成してzipファイルを作成すると良いでしょう。\n",
        "\n",
        "以下、Zipファイル作成例になります。\n",
        "[source,bash]\n",
        "----\n",
        "$ mkdir model src\n",
        "$ touch model/dummy.txt\n",
        "$ ls\n",
        "model src\n",
        "$ zip -v submit.zip src/predictor.py model/dummy.txt\n",
        "----\n",
        "```\n"
      ]
    },
    {
      "cell_type": "code",
      "metadata": {
        "id": "pThKQEyWlAfA",
        "colab": {
          "base_uri": "https://localhost:8080/"
        },
        "outputId": "1ca84750-f538-4737-cfc1-2874ec175c65"
      },
      "source": [
        "# 提出用パッケージ名\n",
        "package_file = \"chapter03-model.zip\"\n",
        "# パッケージファイルパス\n",
        "package_path = f\"{working_dir}/{package_file}\"\n",
        "\n",
        "# zipファイルを作成\n",
        "with zipfile.ZipFile(package_path, \"w\") as f:\n",
        "    # model/dummy.txtを追加\n",
        "    print(f\"[+] add {package_dir}/model/dummy.txt to model/dummy.txt\")\n",
        "    f.write(f\"{package_dir}/model/dummy.txt\", \"model/dummy.txt\")\n",
        "    # src/predictor.py を追加\n",
        "    print(f\"[+] add {package_dir}/src/predictor.py to src/predictor.py\")\n",
        "    f.write(f\"{package_dir}/src/predictor.py\", \"src/predictor.py\")\n",
        "\n",
        "print(f\"[+] please check {package_path}\")"
      ],
      "execution_count": null,
      "outputs": [
        {
          "output_type": "stream",
          "text": [
            "[+] add ./archive/model/dummy.txt to model/dummy.txt\n",
            "[+] add ./archive/src/predictor.py to src/predictor.py\n",
            "[+] please check ./chapter03-model.zip\n"
          ],
          "name": "stdout"
        }
      ]
    },
    {
      "cell_type": "markdown",
      "metadata": {
        "id": "zbeZPYqRlAfA"
      },
      "source": [
        "　以上で投稿用のモデルパッケージは完成です。`chapter03-model.zip` ファイルをコンペティションページから投稿してリーダーボードに掲載されることを確認しましょう。\n",
        "\n",
        "　リーダーボードに掲載されたことを確認したら、例えば、特徴量を変更してみたり、複数の特徴量それぞれから10銘柄ずつ選択するロジックを実装してみるのはどうでしょうか。いくつかの特徴量については「<<anchor-2.7,2.7. 特徴量の生成>>」で説明していますのでご参照ください。特に、「2.7.2. 定常性を意識した特徴量設計」は重要な概念ですのでご一読ください。\n",
        "\n",
        "次章では、2章で作成した機械学習モデルを使用してポートフォリオを組成する方法について記載しています。"
      ]
    },
    {
      "cell_type": "code",
      "metadata": {
        "id": "RDNjoihSlAfA"
      },
      "source": [
        "with zipfile.ZipFile('chapter03-model.zip') as zf:\n",
        "    zf.extractall('output')"
      ],
      "execution_count": null,
      "outputs": []
    }
  ]
}